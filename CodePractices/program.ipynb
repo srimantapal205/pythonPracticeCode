{
 "cells": [
  {
   "cell_type": "markdown",
   "metadata": {},
   "source": [
    "## Program 1 : Write a Python program to print \"Hello Python\"."
   ]
  },
  {
   "cell_type": "code",
   "execution_count": 2,
   "metadata": {},
   "outputs": [
    {
     "name": "stdout",
     "output_type": "stream",
     "text": [
      "Hello World\n"
     ]
    }
   ],
   "source": [
    "print(\"Hello World\")"
   ]
  },
  {
   "cell_type": "markdown",
   "metadata": {},
   "source": [
    "## PROGRAM 2 : Write a Python program to do arithmetical operations addition and division."
   ]
  },
  {
   "cell_type": "code",
   "execution_count": null,
   "metadata": {},
   "outputs": [
    {
     "name": "stdout",
     "output_type": "stream",
     "text": [
      "First Number ::12\n",
      "Second Number ::12\n",
      "Addition Value is: 24\n",
      "Addition without function 12 + 12 = 24 \n"
     ]
    }
   ],
   "source": [
    "number1 = int(input(\"Enter frisrt number: \"))\n",
    "number2 = int(input(\"Enter second number: \"))\n",
    "\n",
    "# Addition functional based\n",
    "def addition (n1, n2):\n",
    "    print(f'First Number ::{n1}')\n",
    "    print(f'Second Number ::{n2}')\n",
    "    return n1 + n2\n",
    "additionValue = addition(number1, number2)\n",
    "print(f'Addition Value is: {additionValue}')\n",
    "\n",
    "# Addition Single line\n",
    "additionValue2 = number1 + number2\n",
    "print( f'Addition without function {number1} + {number2} = {additionValue2} ')\n",
    "\n"
   ]
  },
  {
   "cell_type": "code",
   "execution_count": 1,
   "metadata": {},
   "outputs": [
    {
     "name": "stdout",
     "output_type": "stream",
     "text": [
      "First number: 20\n",
      "First number: 5\n",
      "The division value is: 4.0\n",
      "Single line division is : 4.0\n"
     ]
    }
   ],
   "source": [
    "#Division \n",
    "#Functional based\n",
    "number3 = int(input('Enter first number: '))\n",
    "number4 = int(input('Enter second number: '))\n",
    "\n",
    "if number4 == 0:\n",
    "    print(\"Devision by zero not allowed\")\n",
    "\n",
    "def division(n1, n2):\n",
    "    print(f\"First number: {n1}\")\n",
    "    print(f\"First number: {n2}\")\n",
    "    return n1/n2\n",
    "\n",
    "divisionValue= division(number3, number4)\n",
    "print(f\"The division value is: {divisionValue}\")\n",
    "\n",
    "# in single line\n",
    "divisionResult = number3 / number4 if number4 != 0 else \"undefined\"\n",
    "print(f'Single line division is : {divisionResult}')"
   ]
  },
  {
   "cell_type": "markdown",
   "metadata": {},
   "source": [
    "### Program 3 : Write a Python program to find the area of a triangle."
   ]
  },
  {
   "cell_type": "code",
   "execution_count": 2,
   "metadata": {},
   "outputs": [
    {
     "name": "stdout",
     "output_type": "stream",
     "text": [
      "The base value is :: 10.0\n",
      "The height is :: 20.0\n",
      "The area of the triangle is :: 100.0\n"
     ]
    }
   ],
   "source": [
    "# Enter the base and height from the user\n",
    "base = float(input(\"Enter the length of the base of the tringle: \"))\n",
    "height = float(input(\"Enter the height of the triangle: \"))\n",
    "\n",
    "#Calculate the area of the tringle.\n",
    "def calculateArea(b, h):\n",
    "    print(f'The base value is :: {b}')\n",
    "    print(f'The height is :: {h}')\n",
    "    a = 0.5 * b * h\n",
    "    return a\n",
    "\n",
    "area = calculateArea(base, height)\n",
    "print(f'The area of the triangle is :: {area}')\n",
    "\n",
    "    \n",
    "    \n"
   ]
  },
  {
   "cell_type": "markdown",
   "metadata": {},
   "source": [
    "### Program 4 : Write a Python program to swap two variables."
   ]
  },
  {
   "cell_type": "code",
   "execution_count": 3,
   "metadata": {},
   "outputs": [
    {
     "name": "stdout",
     "output_type": "stream",
     "text": [
      "The first number :: 10\n",
      "The second number :: 11\n",
      "The swap of second num to first number :: 11\n",
      "The swap of first  num to second number :: 10\n"
     ]
    }
   ],
   "source": [
    "\n",
    "number1 = int(input('Enter first number :: '))\n",
    "number2 = int(input('Enter second number :: '))\n",
    "\n",
    "def swapNumber(n1, n2):\n",
    "    print(f'The first number :: {n1}') \n",
    "    print(f'The second number :: {n2}')\n",
    "    n1 = n1 + n2\n",
    "    n2 = n1 - n2\n",
    "    n1 = n1 - n2\n",
    "    print(f'The swap of second number to first number :: {n1}') \n",
    "    print(f'The swap of first  number to second number :: {n2}') \n",
    "    \n",
    "swapNumber(number1,number2)"
   ]
  },
  {
   "cell_type": "markdown",
   "metadata": {},
   "source": [
    "### Program 5 : Write a Python program to generate a random number"
   ]
  },
  {
   "cell_type": "code",
   "execution_count": 66,
   "metadata": {},
   "outputs": [
    {
     "name": "stdout",
     "output_type": "stream",
     "text": [
      "Random number is : 9\n"
     ]
    }
   ],
   "source": [
    "import random\n",
    "\n",
    "randomValue = random.randint(1, 10)\n",
    "print(f'Random number is : {randomValue}')"
   ]
  },
  {
   "cell_type": "markdown",
   "metadata": {},
   "source": [
    "### Program 6: Write a Python program to convert kilometers to miles.\n",
    "1 kilometer = 0.62137119 miles."
   ]
  },
  {
   "cell_type": "code",
   "execution_count": 67,
   "metadata": {},
   "outputs": [
    {
     "name": "stdout",
     "output_type": "stream",
     "text": [
      "The Kilometers value is :: 3.10685595\n"
     ]
    }
   ],
   "source": [
    "km = float(input('Enter the kilometers value :: '))\n",
    "\n",
    "def kmTomile(k):\n",
    "    \n",
    "    miles = k * 0.62137119\n",
    "    return miles\n",
    "milesValue = kmTomile(km)\n",
    "\n",
    "print(f'The Kilometers value is :: {milesValue} miles')\n"
   ]
  },
  {
   "cell_type": "markdown",
   "metadata": {},
   "source": [
    "### Program 7 : Write a Python program to convert Celsius to Fahrenheit."
   ]
  },
  {
   "cell_type": "code",
   "execution_count": 69,
   "metadata": {},
   "outputs": [
    {
     "name": "stdout",
     "output_type": "stream",
     "text": [
      "Celsius = 0.0\n",
      "Fahrenheit = 32.0\n"
     ]
    }
   ],
   "source": [
    "cel = float(input('Enter temputure by Celsius :: '))\n",
    "#Conversion formula: Fahrenheit = (Celsius * 9/5) + 32\n",
    "def convertCeltoFahrenheit(cel):\n",
    "    print(f'Celsius = {cel}')\n",
    "    fa = (cel * 9/5) + 32\n",
    "    return fa\n",
    "\n",
    "faen = convertCeltoFahrenheit(cel)\n",
    "print(f'Fahrenheit = {faen}')\n",
    "\n",
    "    "
   ]
  }
 ],
 "metadata": {
  "kernelspec": {
   "display_name": "Python 3",
   "language": "python",
   "name": "python3"
  },
  "language_info": {
   "codemirror_mode": {
    "name": "ipython",
    "version": 3
   },
   "file_extension": ".py",
   "mimetype": "text/x-python",
   "name": "python",
   "nbconvert_exporter": "python",
   "pygments_lexer": "ipython3",
   "version": "3.12.8"
  }
 },
 "nbformat": 4,
 "nbformat_minor": 2
}
