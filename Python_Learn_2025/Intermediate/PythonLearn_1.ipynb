{
 "cells": [
  {
   "cell_type": "markdown",
   "id": "efa8e4d1",
   "metadata": {},
   "source": [
    "## While Loop"
   ]
  },
  {
   "cell_type": "code",
   "execution_count": 39,
   "id": "ff3bfb79",
   "metadata": {},
   "outputs": [
    {
     "name": "stdout",
     "output_type": "stream",
     "text": [
      "people inside in the car: 0\n",
      "people inside in the car: 1\n",
      "people inside in the car: 2\n",
      "people inside in the car: 3\n",
      "people inside in the car: 4\n",
      "the Car is full\n"
     ]
    }
   ],
   "source": [
    "# Uber Driver \n",
    "people_in_car = 0\n",
    "while people_in_car < 5:\n",
    "    print(f\"people inside in the car: {people_in_car}\")\n",
    "    people_in_car += 1\n",
    "\n",
    "print(\"the Car is full\")\n",
    "\n"
   ]
  },
  {
   "cell_type": "code",
   "execution_count": 40,
   "id": "1a380e66",
   "metadata": {},
   "outputs": [
    {
     "name": "stdout",
     "output_type": "stream",
     "text": [
      "The number 0 is even\n",
      "The number 1 is not even\n",
      "The number 2 is even\n",
      "The number 3 is not even\n",
      "The number 4 is even\n",
      "The number 5 is not even\n",
      "The number 6 is even\n",
      "The number 7 is not even\n",
      "The number 8 is even\n",
      "The number 9 is not even\n",
      "The number 10 is even\n",
      "The number 11 is not even\n",
      "The number 12 is even\n",
      "The number 13 is not even\n",
      "The number 14 is even\n",
      "The number 15 is not even\n",
      "The number 16 is even\n",
      "The number 17 is not even\n",
      "The number 18 is even\n",
      "The number 19 is not even\n",
      "The number 20 is even\n"
     ]
    }
   ],
   "source": [
    "#Print all the even numbers from untill 20\n",
    "n = 20\n",
    "i = 0\n",
    "while i <= n:\n",
    "    if i%2 == 0:\n",
    "        print(f\"The number {i} is even\")\n",
    "    else:\n",
    "        print(f\"The number {i} is not even\")\n",
    "    i += 1"
   ]
  },
  {
   "cell_type": "markdown",
   "id": "e24d83fe",
   "metadata": {},
   "source": [
    "1. Initialize the Countdown: Start by creating a variable named countdown and set its initial value to 10. This variable will be used to track the countdown progress.\n",
    "\n",
    "2. Write the While Loop: Implement a while loop that continues to run as long as countdown is greater than or equal to 0. This loop will control the countdown process.\n",
    "\n",
    "3. Implement Conditional Logic:Inside the loop, use an if-else statement to check if countdown is equal to 0.If countdown is 0, print \"Liftoff!\".Otherwise, print \"T-minus {countdown} seconds\" using an f-string to insert the current value of countdown.\n",
    "\n",
    "4. Decrement the Counter: At the end of each iteration of the loop, decrement the value of countdown by 1. This step is crucial to ensure that the loop progresses and eventually terminates.\n",
    "\n",
    "Run the Program: Execute your script. It should print a countdown from 10 to 1, followed by \"Liftoff!\"."
   ]
  },
  {
   "cell_type": "code",
   "execution_count": 41,
   "id": "672077d9",
   "metadata": {},
   "outputs": [
    {
     "name": "stdout",
     "output_type": "stream",
     "text": [
      "T-minus 10 seconds\n",
      "T-minus 9 seconds\n",
      "T-minus 8 seconds\n",
      "T-minus 7 seconds\n",
      "T-minus 6 seconds\n",
      "T-minus 5 seconds\n",
      "T-minus 4 seconds\n",
      "T-minus 3 seconds\n",
      "T-minus 2 seconds\n",
      "T-minus 1 seconds\n",
      "Liftoff!\n"
     ]
    }
   ],
   "source": [
    "countdown = 10\n",
    "while countdown >= 0:\n",
    "    if countdown == 0:\n",
    "        print(\"Liftoff!\") \n",
    "    else:\n",
    "        print(f\"T-minus {countdown} seconds\")\n",
    "    countdown -= 1"
   ]
  },
  {
   "cell_type": "code",
   "execution_count": 42,
   "id": "ee6b02f4",
   "metadata": {},
   "outputs": [
    {
     "name": "stdout",
     "output_type": "stream",
     "text": [
      "T-minus 10 seconds\n",
      "T-minus 9 seconds\n",
      "T-minus 8 seconds\n",
      "T-minus 7 seconds\n",
      "T-minus 6 seconds\n",
      "T-minus 5 seconds\n",
      "T-minus 4 seconds\n",
      "T-minus 3 seconds\n",
      "T-minus 2 seconds\n",
      "T-minus 1 seconds\n",
      "Liftoff!\n"
     ]
    }
   ],
   "source": [
    "\n",
    "import time\n",
    "countdown = 10\n",
    "while countdown >= 0:\n",
    "    if countdown == 0:\n",
    "        print(\"Liftoff!\") \n",
    "    else:\n",
    "        print(f\"T-minus {countdown} seconds\")\n",
    "    time.sleep(1)\n",
    "    countdown -= 1"
   ]
  },
  {
   "cell_type": "markdown",
   "id": "a60d818d",
   "metadata": {},
   "source": [
    "## List"
   ]
  },
  {
   "cell_type": "code",
   "execution_count": 43,
   "id": "8ef9555f",
   "metadata": {},
   "outputs": [
    {
     "name": "stdout",
     "output_type": "stream",
     "text": [
      "[1, 2, 3, 4, 5, 6, 7, 8, 9, 10]\n"
     ]
    }
   ],
   "source": [
    "# A simple list\n",
    "numbers = [1,2,3,4,5,6,7,8,9,10]\n",
    "print(numbers)"
   ]
  },
  {
   "cell_type": "code",
   "execution_count": 44,
   "id": "be7cf580",
   "metadata": {},
   "outputs": [
    {
     "name": "stdout",
     "output_type": "stream",
     "text": [
      "[1, 23, 4, 'hello', 5, 'hi', 7, 'world', True]\n"
     ]
    }
   ],
   "source": [
    "# mixed list \n",
    "mixed_list = [1,23,4,\"hello\", 5, \"hi\", 7, \"world\", True]\n",
    "print(mixed_list)"
   ]
  },
  {
   "cell_type": "code",
   "execution_count": 45,
   "id": "2da2430f",
   "metadata": {},
   "outputs": [
    {
     "name": "stdout",
     "output_type": "stream",
     "text": [
      "['hello', 'hi', 'world']\n"
     ]
    }
   ],
   "source": [
    "#String list\n",
    "string_list = [\"hello\", \"hi\", \"world\"]\n",
    "print(string_list)"
   ]
  },
  {
   "cell_type": "code",
   "execution_count": 46,
   "id": "b0adb7d5",
   "metadata": {},
   "outputs": [
    {
     "name": "stdout",
     "output_type": "stream",
     "text": [
      "1\n",
      "23\n"
     ]
    }
   ],
   "source": [
    "#Access the list\n",
    "print(numbers[0])\n",
    "print(mixed_list[1])"
   ]
  },
  {
   "cell_type": "code",
   "execution_count": 47,
   "id": "dbda55f1",
   "metadata": {},
   "outputs": [
    {
     "name": "stdout",
     "output_type": "stream",
     "text": [
      "[2, 3, 4]\n"
     ]
    }
   ],
   "source": [
    "# Slice  - Grab a portion of the list\n",
    "# End of the list is not included\n",
    "print(numbers[1:4])"
   ]
  },
  {
   "cell_type": "code",
   "execution_count": 48,
   "id": "e52078ec",
   "metadata": {},
   "outputs": [
    {
     "name": "stdout",
     "output_type": "stream",
     "text": [
      "[100, 2, 3, 4, 5, 6, 7, 8, 9, 10]\n"
     ]
    }
   ],
   "source": [
    "#modify the list\n",
    "# lists are mutable -> can be change them\n",
    "# Add a new value via their index\n",
    "numbers[0] = 100\n",
    "print(numbers)\n",
    "\n"
   ]
  },
  {
   "cell_type": "code",
   "execution_count": 49,
   "id": "6a467536",
   "metadata": {},
   "outputs": [
    {
     "name": "stdout",
     "output_type": "stream",
     "text": [
      "[100, 2, 3, 4, 5, 6, 7, 8, 9, 10, 200]\n"
     ]
    }
   ],
   "source": [
    "# Add item to the list\n",
    "# Append method\n",
    "numbers.append(200)\n",
    "print(numbers)"
   ]
  },
  {
   "cell_type": "code",
   "execution_count": 50,
   "id": "89a12b70",
   "metadata": {},
   "outputs": [
    {
     "name": "stdout",
     "output_type": "stream",
     "text": [
      "[100, 2, 3, 4, 5, 6, 7, 8, 9, 10, 200, 600, 5000]\n"
     ]
    }
   ],
   "source": [
    "# Concatenation method\n",
    "numbers += [600,5000]\n",
    "print(numbers)"
   ]
  },
  {
   "cell_type": "code",
   "execution_count": 51,
   "id": "87684ff2",
   "metadata": {},
   "outputs": [
    {
     "name": "stdout",
     "output_type": "stream",
     "text": [
      "[2, 3, 4, 5, 6, 7, 8, 9, 10, 200, 600, 5000]\n"
     ]
    }
   ],
   "source": [
    "# Remove item\n",
    "# Del method\n",
    "del numbers[0]\n",
    "print(numbers)\n"
   ]
  },
  {
   "cell_type": "code",
   "execution_count": 52,
   "id": "60467f7f",
   "metadata": {},
   "outputs": [
    {
     "name": "stdout",
     "output_type": "stream",
     "text": [
      "[2, 3, 4, 5, 6, 7, 8, 9, 10, 600, 5000]\n"
     ]
    }
   ],
   "source": [
    "#remove specific item with the remove method\n",
    "numbers.remove(200)\n",
    "print(numbers)"
   ]
  },
  {
   "cell_type": "code",
   "execution_count": 54,
   "id": "6d02e501",
   "metadata": {},
   "outputs": [
    {
     "name": "stdout",
     "output_type": "stream",
     "text": [
      "600\n",
      "[2, 3, 4, 5, 6, 7, 8, 9, 10]\n"
     ]
    }
   ],
   "source": [
    "# Using the pop method\n",
    "# pop method removes the last item in the list\n",
    "lastNumber = numbers.pop()\n",
    "print(lastNumber)\n",
    "print(numbers)"
   ]
  },
  {
   "cell_type": "code",
   "execution_count": 56,
   "id": "08c85dbe",
   "metadata": {},
   "outputs": [
    {
     "name": "stdout",
     "output_type": "stream",
     "text": [
      "[2, 3, 4, 5, 6, 7, 9]\n",
      "8\n"
     ]
    }
   ],
   "source": [
    "# Pop with specific index\n",
    "some_number = numbers.pop(-2)\n",
    "print(numbers)\n",
    "print(some_number)"
   ]
  },
  {
   "cell_type": "markdown",
   "id": "4ae321e7",
   "metadata": {},
   "source": [
    "1. Calculate the sum of the expenses.\n",
    "\n",
    "2. Print out the total expenses. It is expected something similar to the following:\n",
    "This month, it was spent in total {total_expenses}"
   ]
  },
  {
   "cell_type": "code",
   "execution_count": 1,
   "id": "ed4d7fdd",
   "metadata": {},
   "outputs": [
    {
     "name": "stdout",
     "output_type": "stream",
     "text": [
      "Total expenses: 8320\n"
     ]
    }
   ],
   "source": [
    "monthly_expenses = [1200, 1350, 1050, 1450, 1150, 900, 1220]\n",
    "# Calculate the total expenses\n",
    "total_expenses = 0\n",
    "while monthly_expenses:\n",
    "    expences = monthly_expenses.pop(0)\n",
    "    total_expenses += expences\n",
    "print(f\"Total expenses: {total_expenses}\")"
   ]
  },
  {
   "cell_type": "markdown",
   "id": "d06d55ad",
   "metadata": {},
   "source": [
    "### Fibonacci Numbers\n",
    "Write a program to calculate and print the first 10 numbers in the Fibonacci sequence. In this sequence, each number is the sum of the two preceding ones, starting from 1 and 1."
   ]
  },
  {
   "cell_type": "code",
   "execution_count": 10,
   "id": "7cb77c70",
   "metadata": {},
   "outputs": [
    {
     "name": "stdout",
     "output_type": "stream",
     "text": [
      "[0]\n",
      "[0, 1]\n",
      "[0, 1, 1]\n",
      "[0, 1, 1, 2]\n",
      "[0, 1, 1, 2, 3]\n",
      "[0, 1, 1, 2, 3, 5]\n",
      "[0, 1, 1, 2, 3, 5, 8]\n",
      "[0, 1, 1, 2, 3, 5, 8, 13]\n",
      "[0, 1, 1, 2, 3, 5, 8, 13, 21]\n",
      "[0, 1, 1, 2, 3, 5, 8, 13, 21, 34]\n",
      "[0, 1, 1, 2, 3, 5, 8, 13, 21, 34]\n"
     ]
    }
   ],
   "source": [
    "first = 0\n",
    "second = 1\n",
    "third = first + second\n",
    "fibonacci = []\n",
    "while len(fibonacci) <10:\n",
    "    fibonacci.append(first)\n",
    "    third = first + second\n",
    "    first = second\n",
    "    second = third\n",
    "    print(fibonacci)\n",
    "print(fibonacci)\n",
    "\n",
    "    \n"
   ]
  },
  {
   "cell_type": "markdown",
   "id": "9389fac9",
   "metadata": {},
   "source": [
    "## Randomization"
   ]
  },
  {
   "cell_type": "code",
   "execution_count": null,
   "id": "b5f26fee",
   "metadata": {},
   "outputs": [
    {
     "name": "stdout",
     "output_type": "stream",
     "text": [
      "0.98020719879692\n"
     ]
    }
   ],
   "source": [
    "import random\n",
    "# Generate a random float number\n",
    "random_float = random.random()\n",
    "print(random_float)"
   ]
  },
  {
   "cell_type": "code",
   "execution_count": 87,
   "id": "7b68e6ba",
   "metadata": {},
   "outputs": [
    {
     "name": "stdout",
     "output_type": "stream",
     "text": [
      "5\n"
     ]
    }
   ],
   "source": [
    "#generate a random integer\n",
    "random_int = random.randint(1, 10)\n",
    "print(random_int)"
   ]
  },
  {
   "cell_type": "code",
   "execution_count": 121,
   "id": "e65de8e7",
   "metadata": {},
   "outputs": [
    {
     "name": "stdout",
     "output_type": "stream",
     "text": [
      "1.2891782161669751\n",
      "1.29\n"
     ]
    }
   ],
   "source": [
    "# Generate a random float between 1 and 5 as uniform\n",
    "random_number_uniform = random.uniform(1, 5)\n",
    "print(f\"{random_number_uniform}\")\n",
    "print(f\"{random_number_uniform:.2f}\")"
   ]
  },
  {
   "cell_type": "code",
   "execution_count": 126,
   "id": "ce6a8da9",
   "metadata": {},
   "outputs": [
    {
     "name": "stdout",
     "output_type": "stream",
     "text": [
      "apple\n"
     ]
    }
   ],
   "source": [
    "#Random choice from list\n",
    "fruits = [\"apple\", \"banana\", \"cherry\", \"date\"]\n",
    "random_fruit = random.choice(fruits)\n",
    "print(f\"{random_fruit}\")"
   ]
  },
  {
   "cell_type": "code",
   "execution_count": 132,
   "id": "836154f7",
   "metadata": {},
   "outputs": [
    {
     "name": "stdout",
     "output_type": "stream",
     "text": [
      "[1, 3, 2, 4, 5]\n"
     ]
    }
   ],
   "source": [
    "# shuffle a list\n",
    "myList = [1, 2, 3, 4, 5]\n",
    "random.shuffle(myList)\n",
    "print(myList)"
   ]
  },
  {
   "cell_type": "code",
   "execution_count": 154,
   "id": "b5138860",
   "metadata": {},
   "outputs": [
    {
     "name": "stdout",
     "output_type": "stream",
     "text": [
      "[2, 1, 5]\n"
     ]
    }
   ],
   "source": [
    "# Use sample\n",
    "myList = [1, 2, 3, 4, 5]\n",
    "length = len(myList)\n",
    "random_sample = random.sample(myList, length-2)\n",
    "print(random_sample)"
   ]
  },
  {
   "cell_type": "code",
   "execution_count": null,
   "id": "accf34a0",
   "metadata": {},
   "outputs": [],
   "source": []
  }
 ],
 "metadata": {
  "kernelspec": {
   "display_name": "Python 3",
   "language": "python",
   "name": "python3"
  },
  "language_info": {
   "codemirror_mode": {
    "name": "ipython",
    "version": 3
   },
   "file_extension": ".py",
   "mimetype": "text/x-python",
   "name": "python",
   "nbconvert_exporter": "python",
   "pygments_lexer": "ipython3",
   "version": "3.12.10"
  }
 },
 "nbformat": 4,
 "nbformat_minor": 5
}
