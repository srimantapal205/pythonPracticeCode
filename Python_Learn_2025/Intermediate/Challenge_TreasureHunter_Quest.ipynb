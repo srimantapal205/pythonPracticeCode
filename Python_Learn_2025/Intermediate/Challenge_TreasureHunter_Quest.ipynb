{
 "cells": [
  {
   "cell_type": "markdown",
   "id": "735473b2",
   "metadata": {},
   "source": [
    "# Challenge: Treasure Hunter's Quest\n",
    "\n",
    "Your mission, should you choose to accept it, is to create an engaging text-based adventure game using Python.\n",
    "\n",
    "In this game, players will explore a mysterious world filled with hidden locations and paths, making decisions that\n",
    "ultimately lead to the discovery of a hidden treasure.\n",
    "\n",
    "Players start at a designated starting point and can choose from a variety of options at each location. The game ends\n",
    "when the player reaches the hidden treasure or decides to quit.\n",
    "\n",
    "Your challenge is to design an interactive and immersive game that challenges players to navigate through different\n",
    "locations, using their intuition and decision-making skills to ultimately find the treasure.\n",
    "\n",
    "To complete this challenge, you should:\n",
    "\n",
    "\n",
    "1. Design a game world with a set of interconnected locations.\n",
    "2. Create a dictionary to store the game data, including location descriptions and available options for each\n",
    "location.\n",
    "3. Implement a game loop that handles user input, displays location descriptions, and updates the current location\n",
    "based on the player's choices.\n",
    "4. Validate user input and ensure that the game gracefully handles invalid choices.\n",
    "5. Implement a win condition when the player discovers the hidden treasure."
   ]
  },
  {
   "cell_type": "code",
   "execution_count": 12,
   "id": "642f38d7",
   "metadata": {},
   "outputs": [],
   "source": [
    "# Game data\n",
    "locations = {\n",
    "    'start': {\n",
    "        'description': \"You are at the starting point. There are two paths: left and right.\",\n",
    "        'options': {'left': 'forest', 'right': 'cave'}\n",
    "    },\n",
    "    'forest': {\n",
    "        'description': \"You are in a dense forest. There are two paths: forward and backward.\",\n",
    "        'options': {'forward': 'river', 'backward': 'start'}\n",
    "    },\n",
    "    'cave': {\n",
    "        'description': \"You are inside a dark cave. There are two paths: forward and backward.\",\n",
    "        'options': {'forward': 'treasure', 'backward': 'start'}\n",
    "    },\n",
    "    'river': {\n",
    "        'description': \"You are at the edge of a roaring river. There is no way forward.\",\n",
    "        'options': {'backward': 'forest'}\n",
    "    },\n",
    "    'treasure': {\n",
    "        'description': \"You've found the treasure! Congratulations!\",\n",
    "        'options': {}\n",
    "    }\n",
    "}"
   ]
  },
  {
   "cell_type": "code",
   "execution_count": 17,
   "id": "499f0e15",
   "metadata": {},
   "outputs": [
    {
     "name": "stdout",
     "output_type": "stream",
     "text": [
      "You are at the starting point. There are two paths: left and right.\n",
      "Options\n",
      "- left\n",
      "- right\n",
      "You are in a dense forest. There are two paths: forward and backward.\n",
      "Options\n",
      "- forward\n",
      "- backward\n",
      "You are at the starting point. There are two paths: left and right.\n",
      "Options\n",
      "- left\n",
      "- right\n",
      "You are inside a dark cave. There are two paths: forward and backward.\n",
      "Options\n",
      "- forward\n",
      "- backward\n",
      "You won the game!\n",
      "You've found the treasure! Congratulations!\n"
     ]
    }
   ],
   "source": [
    "# Game\n",
    "current_location = 'start'\n",
    "while True:\n",
    "    # What is the current location and description?\n",
    "    print(locations[current_location]['description'])\n",
    "\n",
    "    #Give the user options\n",
    "    options  = locations[current_location]['options']\n",
    "    print(\"Options\")\n",
    "    for option in options:\n",
    "        print(f\"- {option}\")\n",
    "\n",
    "    # Provide an input\n",
    "    user_choice = input(\"Choose an Option :\").lower()\n",
    "\n",
    "    # Validate their option\n",
    "    while user_choice not in options:\n",
    "        print(\"Invalid option. Please choose again.\")\n",
    "        user_choice = input(\"Choose an Option :\").lower()\n",
    "\n",
    "    # Update the current location\n",
    "    current_location = options[user_choice]\n",
    "\n",
    "    # Finish the Game\n",
    "    if current_location == \"treasure\":\n",
    "       print(\"You won the game!\")\n",
    "       print(locations[current_location]['description'])\n",
    "       break \n",
    "    #Print a final message\n",
    "    "
   ]
  },
  {
   "cell_type": "code",
   "execution_count": null,
   "id": "9a470f0a",
   "metadata": {},
   "outputs": [],
   "source": []
  }
 ],
 "metadata": {
  "kernelspec": {
   "display_name": "Python 3",
   "language": "python",
   "name": "python3"
  },
  "language_info": {
   "codemirror_mode": {
    "name": "ipython",
    "version": 3
   },
   "file_extension": ".py",
   "mimetype": "text/x-python",
   "name": "python",
   "nbconvert_exporter": "python",
   "pygments_lexer": "ipython3",
   "version": "3.12.10"
  }
 },
 "nbformat": 4,
 "nbformat_minor": 5
}
