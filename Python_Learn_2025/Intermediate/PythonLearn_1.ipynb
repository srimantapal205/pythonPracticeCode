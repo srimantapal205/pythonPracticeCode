{
 "cells": [
  {
   "cell_type": "markdown",
   "id": "efa8e4d1",
   "metadata": {},
   "source": [
    "## While Loop"
   ]
  },
  {
   "cell_type": "code",
   "execution_count": 2,
   "id": "ff3bfb79",
   "metadata": {},
   "outputs": [
    {
     "name": "stdout",
     "output_type": "stream",
     "text": [
      "people inside in the car: 0\n",
      "people inside in the car: 1\n",
      "people inside in the car: 2\n",
      "people inside in the car: 3\n",
      "people inside in the car: 4\n",
      "the Car is full\n"
     ]
    }
   ],
   "source": [
    "# Uber Driver \n",
    "people_in_car = 0\n",
    "while people_in_car < 5:\n",
    "    print(f\"people inside in the car: {people_in_car}\")\n",
    "    people_in_car += 1\n",
    "\n",
    "print(\"the Car is full\")\n",
    "\n"
   ]
  },
  {
   "cell_type": "code",
   "execution_count": 3,
   "id": "1a380e66",
   "metadata": {},
   "outputs": [
    {
     "name": "stdout",
     "output_type": "stream",
     "text": [
      "The number 0 is even\n",
      "The number 1 is not even\n",
      "The number 2 is even\n",
      "The number 3 is not even\n",
      "The number 4 is even\n",
      "The number 5 is not even\n",
      "The number 6 is even\n",
      "The number 7 is not even\n",
      "The number 8 is even\n",
      "The number 9 is not even\n",
      "The number 10 is even\n",
      "The number 11 is not even\n",
      "The number 12 is even\n",
      "The number 13 is not even\n",
      "The number 14 is even\n",
      "The number 15 is not even\n",
      "The number 16 is even\n",
      "The number 17 is not even\n",
      "The number 18 is even\n",
      "The number 19 is not even\n",
      "The number 20 is even\n"
     ]
    }
   ],
   "source": [
    "#Print all the even numbers from untill 20\n",
    "n = 20\n",
    "i = 0\n",
    "while i <= n:\n",
    "    if i%2 == 0:\n",
    "        print(f\"The number {i} is even\")\n",
    "    else:\n",
    "        print(f\"The number {i} is not even\")\n",
    "    i += 1"
   ]
  },
  {
   "cell_type": "markdown",
   "id": "e24d83fe",
   "metadata": {},
   "source": [
    "1. Initialize the Countdown: Start by creating a variable named countdown and set its initial value to 10. This variable will be used to track the countdown progress.\n",
    "\n",
    "2. Write the While Loop: Implement a while loop that continues to run as long as countdown is greater than or equal to 0. This loop will control the countdown process.\n",
    "\n",
    "3. Implement Conditional Logic:Inside the loop, use an if-else statement to check if countdown is equal to 0.If countdown is 0, print \"Liftoff!\".Otherwise, print \"T-minus {countdown} seconds\" using an f-string to insert the current value of countdown.\n",
    "\n",
    "4. Decrement the Counter: At the end of each iteration of the loop, decrement the value of countdown by 1. This step is crucial to ensure that the loop progresses and eventually terminates.\n",
    "\n",
    "Run the Program: Execute your script. It should print a countdown from 10 to 1, followed by \"Liftoff!\"."
   ]
  },
  {
   "cell_type": "code",
   "execution_count": 4,
   "id": "672077d9",
   "metadata": {},
   "outputs": [
    {
     "name": "stdout",
     "output_type": "stream",
     "text": [
      "T-minus 10 seconds\n",
      "T-minus 9 seconds\n",
      "T-minus 8 seconds\n",
      "T-minus 7 seconds\n",
      "T-minus 6 seconds\n",
      "T-minus 5 seconds\n",
      "T-minus 4 seconds\n",
      "T-minus 3 seconds\n",
      "T-minus 2 seconds\n",
      "T-minus 1 seconds\n",
      "Liftoff!\n"
     ]
    }
   ],
   "source": [
    "countdown = 10\n",
    "while countdown >= 0:\n",
    "    if countdown == 0:\n",
    "        print(\"Liftoff!\") \n",
    "    else:\n",
    "        print(f\"T-minus {countdown} seconds\")\n",
    "    countdown -= 1"
   ]
  },
  {
   "cell_type": "code",
   "execution_count": 5,
   "id": "ee6b02f4",
   "metadata": {},
   "outputs": [
    {
     "name": "stdout",
     "output_type": "stream",
     "text": [
      "T-minus 10 seconds\n",
      "T-minus 9 seconds\n",
      "T-minus 8 seconds\n",
      "T-minus 7 seconds\n",
      "T-minus 6 seconds\n",
      "T-minus 5 seconds\n",
      "T-minus 4 seconds\n",
      "T-minus 3 seconds\n",
      "T-minus 2 seconds\n",
      "T-minus 1 seconds\n",
      "Liftoff!\n"
     ]
    }
   ],
   "source": [
    "\n",
    "import time\n",
    "countdown = 10\n",
    "while countdown >= 0:\n",
    "    if countdown == 0:\n",
    "        print(\"Liftoff!\") \n",
    "    else:\n",
    "        print(f\"T-minus {countdown} seconds\")\n",
    "    time.sleep(1)\n",
    "    countdown -= 1"
   ]
  },
  {
   "cell_type": "markdown",
   "id": "a60d818d",
   "metadata": {},
   "source": [
    "## List"
   ]
  },
  {
   "cell_type": "code",
   "execution_count": 6,
   "id": "8ef9555f",
   "metadata": {},
   "outputs": [
    {
     "name": "stdout",
     "output_type": "stream",
     "text": [
      "[1, 2, 3, 4, 5, 6, 7, 8, 9, 10]\n"
     ]
    }
   ],
   "source": [
    "# A simple list\n",
    "numbers = [1,2,3,4,5,6,7,8,9,10]\n",
    "print(numbers)"
   ]
  },
  {
   "cell_type": "code",
   "execution_count": 7,
   "id": "be7cf580",
   "metadata": {},
   "outputs": [
    {
     "name": "stdout",
     "output_type": "stream",
     "text": [
      "[1, 23, 4, 'hello', 5, 'hi', 7, 'world', True]\n"
     ]
    }
   ],
   "source": [
    "# mixed list \n",
    "mixed_list = [1,23,4,\"hello\", 5, \"hi\", 7, \"world\", True]\n",
    "print(mixed_list)"
   ]
  },
  {
   "cell_type": "code",
   "execution_count": 8,
   "id": "2da2430f",
   "metadata": {},
   "outputs": [
    {
     "name": "stdout",
     "output_type": "stream",
     "text": [
      "['hello', 'hi', 'world']\n"
     ]
    }
   ],
   "source": [
    "#String list\n",
    "string_list = [\"hello\", \"hi\", \"world\"]\n",
    "print(string_list)"
   ]
  },
  {
   "cell_type": "code",
   "execution_count": 9,
   "id": "b0adb7d5",
   "metadata": {},
   "outputs": [
    {
     "name": "stdout",
     "output_type": "stream",
     "text": [
      "1\n",
      "23\n"
     ]
    }
   ],
   "source": [
    "#Access the list\n",
    "print(numbers[0])\n",
    "print(mixed_list[1])"
   ]
  },
  {
   "cell_type": "code",
   "execution_count": 10,
   "id": "dbda55f1",
   "metadata": {},
   "outputs": [
    {
     "name": "stdout",
     "output_type": "stream",
     "text": [
      "[2, 3, 4]\n"
     ]
    }
   ],
   "source": [
    "# Slice  - Grab a portion of the list\n",
    "# End of the list is not included\n",
    "print(numbers[1:4])"
   ]
  },
  {
   "cell_type": "code",
   "execution_count": 11,
   "id": "e52078ec",
   "metadata": {},
   "outputs": [
    {
     "name": "stdout",
     "output_type": "stream",
     "text": [
      "[100, 2, 3, 4, 5, 6, 7, 8, 9, 10]\n"
     ]
    }
   ],
   "source": [
    "#modify the list\n",
    "# lists are mutable -> can be change them\n",
    "# Add a new value via their index\n",
    "numbers[0] = 100\n",
    "print(numbers)\n",
    "\n"
   ]
  },
  {
   "cell_type": "code",
   "execution_count": 12,
   "id": "6a467536",
   "metadata": {},
   "outputs": [
    {
     "name": "stdout",
     "output_type": "stream",
     "text": [
      "[100, 2, 3, 4, 5, 6, 7, 8, 9, 10, 200]\n"
     ]
    }
   ],
   "source": [
    "# Add item to the list\n",
    "# Append method\n",
    "numbers.append(200)\n",
    "print(numbers)"
   ]
  },
  {
   "cell_type": "code",
   "execution_count": 13,
   "id": "89a12b70",
   "metadata": {},
   "outputs": [
    {
     "name": "stdout",
     "output_type": "stream",
     "text": [
      "[100, 2, 3, 4, 5, 6, 7, 8, 9, 10, 200, 600, 5000]\n"
     ]
    }
   ],
   "source": [
    "# Concatenation method\n",
    "numbers += [600,5000]\n",
    "print(numbers)"
   ]
  },
  {
   "cell_type": "code",
   "execution_count": 14,
   "id": "87684ff2",
   "metadata": {},
   "outputs": [
    {
     "name": "stdout",
     "output_type": "stream",
     "text": [
      "[2, 3, 4, 5, 6, 7, 8, 9, 10, 200, 600, 5000]\n"
     ]
    }
   ],
   "source": [
    "# Remove item\n",
    "# Del method\n",
    "del numbers[0]\n",
    "print(numbers)\n"
   ]
  },
  {
   "cell_type": "code",
   "execution_count": 15,
   "id": "60467f7f",
   "metadata": {},
   "outputs": [
    {
     "name": "stdout",
     "output_type": "stream",
     "text": [
      "[2, 3, 4, 5, 6, 7, 8, 9, 10, 600, 5000]\n"
     ]
    }
   ],
   "source": [
    "#remove specific item with the remove method\n",
    "numbers.remove(200)\n",
    "print(numbers)"
   ]
  },
  {
   "cell_type": "code",
   "execution_count": 16,
   "id": "6d02e501",
   "metadata": {},
   "outputs": [
    {
     "name": "stdout",
     "output_type": "stream",
     "text": [
      "5000\n",
      "[2, 3, 4, 5, 6, 7, 8, 9, 10, 600]\n"
     ]
    }
   ],
   "source": [
    "# Using the pop method\n",
    "# pop method removes the last item in the list\n",
    "lastNumber = numbers.pop()\n",
    "print(lastNumber)\n",
    "print(numbers)"
   ]
  },
  {
   "cell_type": "code",
   "execution_count": 17,
   "id": "08c85dbe",
   "metadata": {},
   "outputs": [
    {
     "name": "stdout",
     "output_type": "stream",
     "text": [
      "[2, 3, 4, 5, 6, 7, 8, 9, 600]\n",
      "10\n"
     ]
    }
   ],
   "source": [
    "# Pop with specific index\n",
    "some_number = numbers.pop(-2)\n",
    "print(numbers)\n",
    "print(some_number)"
   ]
  },
  {
   "cell_type": "markdown",
   "id": "4ae321e7",
   "metadata": {},
   "source": [
    "1. Calculate the sum of the expenses.\n",
    "\n",
    "2. Print out the total expenses. It is expected something similar to the following:\n",
    "This month, it was spent in total {total_expenses}"
   ]
  },
  {
   "cell_type": "code",
   "execution_count": 18,
   "id": "ed4d7fdd",
   "metadata": {},
   "outputs": [
    {
     "name": "stdout",
     "output_type": "stream",
     "text": [
      "Total expenses: 8320\n"
     ]
    }
   ],
   "source": [
    "monthly_expenses = [1200, 1350, 1050, 1450, 1150, 900, 1220]\n",
    "# Calculate the total expenses\n",
    "total_expenses = 0\n",
    "while monthly_expenses:\n",
    "    expences = monthly_expenses.pop(0)\n",
    "    total_expenses += expences\n",
    "print(f\"Total expenses: {total_expenses}\")"
   ]
  },
  {
   "cell_type": "markdown",
   "id": "d06d55ad",
   "metadata": {},
   "source": [
    "### Fibonacci Numbers\n",
    "Write a program to calculate and print the first 10 numbers in the Fibonacci sequence. In this sequence, each number is the sum of the two preceding ones, starting from 1 and 1."
   ]
  },
  {
   "cell_type": "code",
   "execution_count": 19,
   "id": "7cb77c70",
   "metadata": {},
   "outputs": [
    {
     "name": "stdout",
     "output_type": "stream",
     "text": [
      "[0]\n",
      "[0, 1]\n",
      "[0, 1, 1]\n",
      "[0, 1, 1, 2]\n",
      "[0, 1, 1, 2, 3]\n",
      "[0, 1, 1, 2, 3, 5]\n",
      "[0, 1, 1, 2, 3, 5, 8]\n",
      "[0, 1, 1, 2, 3, 5, 8, 13]\n",
      "[0, 1, 1, 2, 3, 5, 8, 13, 21]\n",
      "[0, 1, 1, 2, 3, 5, 8, 13, 21, 34]\n",
      "[0, 1, 1, 2, 3, 5, 8, 13, 21, 34]\n"
     ]
    }
   ],
   "source": [
    "first = 0\n",
    "second = 1\n",
    "third = first + second\n",
    "fibonacci = []\n",
    "while len(fibonacci) <10:\n",
    "    fibonacci.append(first)\n",
    "    third = first + second\n",
    "    first = second\n",
    "    second = third\n",
    "    print(fibonacci)\n",
    "print(fibonacci)\n",
    "\n",
    "    \n"
   ]
  },
  {
   "cell_type": "markdown",
   "id": "9389fac9",
   "metadata": {},
   "source": [
    "## Randomization"
   ]
  },
  {
   "cell_type": "code",
   "execution_count": 20,
   "id": "b5f26fee",
   "metadata": {},
   "outputs": [
    {
     "name": "stdout",
     "output_type": "stream",
     "text": [
      "0.21039144562750733\n"
     ]
    }
   ],
   "source": [
    "import random\n",
    "# Generate a random float number\n",
    "random_float = random.random()\n",
    "print(random_float)"
   ]
  },
  {
   "cell_type": "code",
   "execution_count": 21,
   "id": "7b68e6ba",
   "metadata": {},
   "outputs": [
    {
     "name": "stdout",
     "output_type": "stream",
     "text": [
      "9\n"
     ]
    }
   ],
   "source": [
    "#generate a random integer\n",
    "random_int = random.randint(1, 10)\n",
    "print(random_int)"
   ]
  },
  {
   "cell_type": "code",
   "execution_count": 22,
   "id": "e65de8e7",
   "metadata": {},
   "outputs": [
    {
     "name": "stdout",
     "output_type": "stream",
     "text": [
      "1.7069325965968107\n",
      "1.71\n"
     ]
    }
   ],
   "source": [
    "# Generate a random float between 1 and 5 as uniform\n",
    "random_number_uniform = random.uniform(1, 5)\n",
    "print(f\"{random_number_uniform}\")\n",
    "print(f\"{random_number_uniform:.2f}\")"
   ]
  },
  {
   "cell_type": "code",
   "execution_count": 23,
   "id": "ce6a8da9",
   "metadata": {},
   "outputs": [
    {
     "name": "stdout",
     "output_type": "stream",
     "text": [
      "cherry\n"
     ]
    }
   ],
   "source": [
    "#Random choice from list\n",
    "fruits = [\"apple\", \"banana\", \"cherry\", \"date\"]\n",
    "random_fruit = random.choice(fruits)\n",
    "print(f\"{random_fruit}\")"
   ]
  },
  {
   "cell_type": "code",
   "execution_count": 24,
   "id": "836154f7",
   "metadata": {},
   "outputs": [
    {
     "name": "stdout",
     "output_type": "stream",
     "text": [
      "[2, 5, 4, 1, 3]\n"
     ]
    }
   ],
   "source": [
    "# shuffle a list\n",
    "myList = [1, 2, 3, 4, 5]\n",
    "random.shuffle(myList)\n",
    "print(myList)"
   ]
  },
  {
   "cell_type": "code",
   "execution_count": 25,
   "id": "b5138860",
   "metadata": {},
   "outputs": [
    {
     "name": "stdout",
     "output_type": "stream",
     "text": [
      "[2, 1, 3]\n"
     ]
    }
   ],
   "source": [
    "# Use sample\n",
    "myList = [1, 2, 3, 4, 5]\n",
    "length = len(myList)\n",
    "random_sample = random.sample(myList, length-2)\n",
    "print(random_sample)"
   ]
  },
  {
   "cell_type": "markdown",
   "id": "c0b21f77",
   "metadata": {},
   "source": [
    "## Pick My Next Movie\n",
    "Create a program that randomly selects a movie from a list of provided movies. After a movie is selected, it should be removed from the list. Continue this process until all movies have been selected and the list is empty.\n",
    "\n"
   ]
  },
  {
   "cell_type": "code",
   "execution_count": 26,
   "id": "accf34a0",
   "metadata": {},
   "outputs": [
    {
     "name": "stdout",
     "output_type": "stream",
     "text": [
      "The remaining movies are: ['The Matrix', 'Inception', 'The Dark Knight', 'Avengers: Endgame', 'Interstellar']\n",
      "Tonight we are watching: The Matrix\n",
      "The remaining movies are: ['Inception', 'The Dark Knight', 'Avengers: Endgame', 'Interstellar']\n",
      "Tonight we are watching: Interstellar\n",
      "The remaining movies are: ['Inception', 'The Dark Knight', 'Avengers: Endgame']\n",
      "Tonight we are watching: Inception\n",
      "The remaining movies are: ['The Dark Knight', 'Avengers: Endgame']\n",
      "Tonight we are watching: Avengers: Endgame\n",
      "The remaining movies are: ['The Dark Knight']\n",
      "Tonight we are watching: The Dark Knight\n"
     ]
    }
   ],
   "source": [
    "remaining_movies = ['The Matrix', 'Inception', 'The Dark Knight', 'Avengers: Endgame', 'Interstellar']\n",
    "while remaining_movies:\n",
    "    # Communicate the option\n",
    "    print(f\"The remaining movies are: {remaining_movies}\")\n",
    "\n",
    "    # Pick the movie\n",
    "    chosen_movie = random.choice(remaining_movies)\n",
    "\n",
    "    # Communicate the movie to watch\n",
    "    print(f\"Tonight we are watching: {chosen_movie}\")\n",
    "\n",
    "    # Remove the movie from the watch list\n",
    "    remaining_movies.remove(chosen_movie)\n"
   ]
  },
  {
   "cell_type": "markdown",
   "id": "60dfbe66",
   "metadata": {},
   "source": [
    "## Dictionaries"
   ]
  },
  {
   "cell_type": "code",
   "execution_count": 34,
   "id": "27f52bb6",
   "metadata": {},
   "outputs": [
    {
     "name": "stdout",
     "output_type": "stream",
     "text": [
      "{'fireball': 10, 'teleport': 40, 'heal': 50}\n",
      "dict_keys(['fireball', 'teleport', 'heal'])\n",
      "dict_values([10, 40, 50])\n"
     ]
    }
   ],
   "source": [
    "# Craeting a list of dictionaries\n",
    "my_spellBook = {'fireball': 10, 'teleport': 40, 'heal': 50}\n",
    "\n",
    "# Accessing the dictionary\n",
    "print(my_spellBook)\n",
    "\n",
    "# Print the all keys\n",
    "print(my_spellBook.keys())\n",
    "\n",
    "#print the all values\n",
    "print(my_spellBook.values())\n",
    "\n",
    "\n"
   ]
  },
  {
   "cell_type": "code",
   "execution_count": 35,
   "id": "1e7538a0",
   "metadata": {},
   "outputs": [
    {
     "name": "stdout",
     "output_type": "stream",
     "text": [
      "{'fireball': 10, 'teleport': 40, 'heal': 50}\n",
      "dict_keys(['fireball', 'teleport', 'heal'])\n",
      "dict_values([10, 40, 50])\n"
     ]
    }
   ],
   "source": [
    "# Another way to create dictonary\n",
    "my_spellBook = dict(\n",
    "    fireball=10,\n",
    "    teleport=40,\n",
    "    heal=50\n",
    ")\n",
    "print(my_spellBook)\n",
    "print(my_spellBook.keys())\n",
    "print(my_spellBook.values())"
   ]
  },
  {
   "cell_type": "code",
   "execution_count": 36,
   "id": "7a12dee9",
   "metadata": {},
   "outputs": [
    {
     "name": "stdout",
     "output_type": "stream",
     "text": [
      "{'fireball': 10, 'teleport': 40, 'heal': 50, 'lightningbolt': 30}\n"
     ]
    }
   ],
   "source": [
    "# Adding a new key-value pair iceblast=20,    lightningbolt=30,\n",
    "my_spellBook['lightningbolt'] = 30\n",
    "print(my_spellBook)"
   ]
  },
  {
   "cell_type": "code",
   "execution_count": 37,
   "id": "ba3f0160",
   "metadata": {},
   "outputs": [
    {
     "name": "stdout",
     "output_type": "stream",
     "text": [
      "{'fireball': 50, 'teleport': 40, 'heal': 50, 'lightningbolt': 30}\n"
     ]
    }
   ],
   "source": [
    "#update ket-value pair\n",
    "my_spellBook['fireball'] = 50\n",
    "print(my_spellBook)"
   ]
  },
  {
   "cell_type": "code",
   "execution_count": 38,
   "id": "7e136363",
   "metadata": {},
   "outputs": [
    {
     "name": "stdout",
     "output_type": "stream",
     "text": [
      "{'fireball': 50, 'heal': 50, 'lightningbolt': 30}\n"
     ]
    }
   ],
   "source": [
    "#Delete a key-value pair\n",
    "del my_spellBook['teleport']\n",
    "print(my_spellBook)"
   ]
  },
  {
   "cell_type": "markdown",
   "id": "7f225fcf",
   "metadata": {},
   "source": [
    "Create a program that translate your pet sound"
   ]
  },
  {
   "cell_type": "code",
   "execution_count": 43,
   "id": "426c4622",
   "metadata": {},
   "outputs": [
    {
     "name": "stdout",
     "output_type": "stream",
     "text": [
      "The possibilites are ['mew', 'woof', 'quack', 'neigh', 'oink']\n",
      "The pet sound is sadfsa: It's mean  Nonsense\n"
     ]
    }
   ],
   "source": [
    "pet_sound = {\n",
    "    'mew' :'Pet is hungry',\n",
    "    'woof' :'Pet is happy',\n",
    "    'quack' :'Pet is sleepy',\n",
    "    'neigh' :'Pet is bored',\n",
    "    'oink' :'Pet is angry'\n",
    "}\n",
    "print(f\"The possibilites are {list(pet_sound.keys())}\")\n",
    "\n",
    "#\n",
    "sound = input(\"Enter the magical sound: \")\n",
    "#Interpretation\n",
    "#meaning = pet_sound[sound]\n",
    "meaning = pet_sound.get(sound, 'Nonsense')\n",
    "\n",
    "#Comunicate the meaning\n",
    "print(f\"The pet sound is {sound}: It's mean  {meaning}\")\n",
    "\n",
    "\n"
   ]
  },
  {
   "cell_type": "markdown",
   "id": "7cfbb00c",
   "metadata": {},
   "source": [
    "## For Loops"
   ]
  },
  {
   "cell_type": "code",
   "execution_count": 2,
   "id": "be667664",
   "metadata": {},
   "outputs": [
    {
     "name": "stdout",
     "output_type": "stream",
     "text": [
      "The Color is : red\n",
      "The Color is : blue\n",
      "The Color is : green\n",
      "The Color is : yellow\n"
     ]
    }
   ],
   "source": [
    "colors = ['red', 'blue', 'green', 'yellow']\n",
    "for color in colors:\n",
    "    print(f\"The Color is : {color}\")"
   ]
  },
  {
   "cell_type": "code",
   "execution_count": null,
   "id": "48f9833b",
   "metadata": {},
   "outputs": [
    {
     "name": "stdout",
     "output_type": "stream",
     "text": [
      "0\n",
      "1\n",
      "2\n",
      "3\n",
      "4\n"
     ]
    }
   ],
   "source": [
    "# using range()\n",
    "n = 5\n",
    "for i in range(n):\n",
    "    print(i)"
   ]
  },
  {
   "cell_type": "code",
   "execution_count": 4,
   "id": "cc6afc2a",
   "metadata": {},
   "outputs": [
    {
     "name": "stdout",
     "output_type": "stream",
     "text": [
      "The color is : red\n",
      "The color is : blue\n",
      "The color is : green\n",
      "The color is : yellow\n"
     ]
    }
   ],
   "source": [
    "for color in range(len(colors)):\n",
    "    print(f\"The color is : {colors[color]}\")"
   ]
  },
  {
   "cell_type": "code",
   "execution_count": 6,
   "id": "bb9b6dac",
   "metadata": {},
   "outputs": [
    {
     "name": "stdout",
     "output_type": "stream",
     "text": [
      "iteration : 0\n",
      "The square of 0 is : 0\n",
      "iteration : 1\n",
      "The square of 1 is : 1\n",
      "iteration : 2\n",
      "The square of 2 is : 4\n",
      "iteration : 3\n",
      "The square of 3 is : 9\n",
      "iteration : 4\n",
      "The square of 4 is : 16\n",
      "iteration : 5\n",
      "The square of 5 is : 25\n",
      "iteration : 6\n",
      "The square of 6 is : 36\n",
      "iteration : 7\n",
      "The square of 7 is : 49\n",
      "iteration : 8\n",
      "The square of 8 is : 64\n",
      "iteration : 9\n",
      "The square of 9 is : 81\n"
     ]
    }
   ],
   "source": [
    "n =10\n",
    "for i in range(n):\n",
    "    print(f\"iteration : {i}\")\n",
    "    squre = i**2\n",
    "    print(f\"The square of {i} is : {squre}\")"
   ]
  },
  {
   "cell_type": "markdown",
   "id": "18b41176",
   "metadata": {},
   "source": [
    "1. 8 : 8+7+6+5+4+3+2+1\n",
    "2. 4 : 4+3+2+1 "
   ]
  },
  {
   "cell_type": "code",
   "execution_count": 8,
   "id": "7f49d808",
   "metadata": {},
   "outputs": [
    {
     "name": "stdout",
     "output_type": "stream",
     "text": [
      "1\n",
      "The total sum is : 1\n",
      "2\n",
      "The total sum is : 3\n",
      "3\n",
      "The total sum is : 6\n",
      "4\n",
      "The total sum is : 10\n"
     ]
    }
   ],
   "source": [
    "total_sum = 0\n",
    "for i in range(1, 5):\n",
    "    print(i)\n",
    "    total_sum += i\n",
    "    print(f\"The total sum is : {total_sum}\")"
   ]
  },
  {
   "cell_type": "code",
   "execution_count": 2,
   "id": "a770ecc9",
   "metadata": {},
   "outputs": [
    {
     "name": "stdout",
     "output_type": "stream",
     "text": [
      "1\n",
      "The total sum is : 1\n",
      "2\n",
      "The total sum is : 3\n",
      "3\n",
      "The total sum is : 6\n",
      "4\n",
      "The total sum is : 10\n",
      "5\n",
      "The total sum is : 15\n"
     ]
    }
   ],
   "source": [
    "total_sum = 0\n",
    "number_range = int(input(\"Enter the number range: \"))\n",
    "for i in range(1, number_range + 1):\n",
    "    print(i)\n",
    "    total_sum += i\n",
    "    print(f\"The total sum is : {total_sum}\")"
   ]
  },
  {
   "cell_type": "markdown",
   "id": "9dfcf6a9",
   "metadata": {},
   "source": [
    "### Count the number of times a charcter appears in strings"
   ]
  },
  {
   "cell_type": "code",
   "execution_count": 10,
   "id": "3b8cec30",
   "metadata": {},
   "outputs": [
    {
     "name": "stdout",
     "output_type": "stream",
     "text": [
      "The string is : ashoka\n",
      "a : 2\n",
      "s : 1\n",
      "h : 1\n",
      "o : 1\n",
      "k : 1\n"
     ]
    }
   ],
   "source": [
    "# input\n",
    "string =  input(\"enter a sequence or word:  \").lower()\n",
    "print (f\"The string is : {string}\")\n",
    "charCount = {}\n",
    "for char in string:\n",
    "    if char in charCount:\n",
    "        charCount[char] += 1\n",
    "    else:\n",
    "        charCount[char] = 1\n",
    "\n",
    "for char, count in charCount.items():\n",
    "    print(f\"{char} : {count}\")"
   ]
  },
  {
   "cell_type": "markdown",
   "id": "68c56249",
   "metadata": {},
   "source": [
    "## Function"
   ]
  },
  {
   "cell_type": "code",
   "execution_count": 2,
   "id": "5917b9b0",
   "metadata": {},
   "outputs": [
    {
     "name": "stdout",
     "output_type": "stream",
     "text": [
      "The text is : Hello, World!\n"
     ]
    }
   ],
   "source": [
    "def function_name(text):\n",
    "    print(f\"The text is : {text}\")\n",
    "\n",
    "# Call the function\n",
    "function_name(\"Hello, World!\")\n"
   ]
  },
  {
   "cell_type": "code",
   "execution_count": 3,
   "id": "f942534b",
   "metadata": {},
   "outputs": [
    {
     "name": "stdout",
     "output_type": "stream",
     "text": [
      "Pizza is a delicious food!\n"
     ]
    }
   ],
   "source": [
    "# Function with 1 input\n",
    "def foods(food1):\n",
    "    print(f\"{food1} is a delicious food!\")\n",
    "\n",
    "#Call the function\n",
    "foods(\"Pizza\")"
   ]
  },
  {
   "cell_type": "code",
   "execution_count": null,
   "id": "069253e7",
   "metadata": {},
   "outputs": [
    {
     "name": "stdout",
     "output_type": "stream",
     "text": [
      "Pizza and Burgger are delicious foods!\n"
     ]
    }
   ],
   "source": [
    "# Function with 2 or more inputs\n",
    "def mix_foods(food1, food2):\n",
    "    print(f\"{food1} and {food2} are delicious foods!\")\n",
    "\n",
    "#call the function \n",
    "mix_foods(\"Pizza\", \"Burgger\")"
   ]
  },
  {
   "cell_type": "code",
   "execution_count": 11,
   "id": "055f22b4",
   "metadata": {},
   "outputs": [
    {
     "name": "stdout",
     "output_type": "stream",
     "text": [
      "Pizza and Burger are delicious foods!\n",
      "Tacos and Nachos are delicious foods!\n"
     ]
    }
   ],
   "source": [
    "# The function with return value\n",
    "def mix_foods2(food1, food2):\n",
    "    return f\"{food1} and {food2} are delicious foods!\"\n",
    "\n",
    "#call the function and store the result\n",
    "list_1 = mix_foods2(\"Pizza\",\"Burger\")\n",
    "print(list_1)\n",
    "\n",
    "list_2 = mix_foods2(\"Tacos\", \"Nachos\")\n",
    "print(list_2)"
   ]
  },
  {
   "cell_type": "markdown",
   "id": "aa366d58",
   "metadata": {},
   "source": [
    "### Function that adds numbers"
   ]
  },
  {
   "cell_type": "code",
   "execution_count": null,
   "id": "6d4e6bd8",
   "metadata": {},
   "outputs": [
    {
     "name": "stdout",
     "output_type": "stream",
     "text": [
      "The sum of 10 and 20 is : 30\n"
     ]
    }
   ],
   "source": [
    "def adds(num1, num2):\n",
    "    return f\"The sum of {num1} and {num2} is : {num1 + num2}\"\n",
    "\n",
    "# Call the function and store the result\n",
    "result = adds(10, 20)\n",
    "print(result)\n"
   ]
  },
  {
   "cell_type": "markdown",
   "id": "21d008ed",
   "metadata": {},
   "source": [
    "### Count the number of vowels in a word"
   ]
  },
  {
   "cell_type": "code",
   "execution_count": 16,
   "id": "836071a2",
   "metadata": {},
   "outputs": [
    {
     "name": "stdout",
     "output_type": "stream",
     "text": [
      "Current character: f\n",
      "Current character: u\n",
      "Current character: n\n",
      "Current character: c\n",
      "Current character: t\n",
      "Current character: i\n",
      "Current character: o\n",
      "Current character: n\n",
      "List of vowels found: ['u', 'i', 'o']\n",
      "The count of vowels in the text is: 3\n"
     ]
    }
   ],
   "source": [
    "vowels = ['a', 'e', 'i', 'o', 'u']\n",
    "\n",
    "def count_vowels(text):\n",
    "    text = text.lower()\n",
    "    count = 0\n",
    "    list_of_vowels = []\n",
    "    for char in text:\n",
    "        print(f\"Current character: {char}\")\n",
    "        if char in vowels:\n",
    "            count += 1\n",
    "            list_of_vowels.append(char)\n",
    "    print(f\"List of vowels found: {list_of_vowels}\")\n",
    "    return f\"The count of vowels in the text is: {count}\"\n",
    "  \n",
    "\n",
    "#call the function\n",
    "text = count_vowels(\"function\")\n",
    "print(text)"
   ]
  },
  {
   "cell_type": "markdown",
   "id": "a94fd3b6",
   "metadata": {},
   "source": [
    "### Create a function that transforms Fahrenheit to celsius\n",
    "#### Celsius (°C) = (Temperature in degrees Fahrenheit (°F) - 32) * 5/9."
   ]
  },
  {
   "cell_type": "code",
   "execution_count": 21,
   "id": "09e1e5b1",
   "metadata": {},
   "outputs": [
    {
     "name": "stdout",
     "output_type": "stream",
     "text": [
      "The fahrenheit 212°F is equal to 100.00°C celcius\n",
      "The fahrenheit 32°F is equal to 0.00°C celcius\n",
      "The fahrenheit 145°F is equal to 62.78°C celcius\n"
     ]
    }
   ],
   "source": [
    "# Celsius (°C) = (Temperature in degrees Fahrenheit (°F) - 32) * 5/9.\n",
    "def fahrenheit_to_cecius(fahrenheit):\n",
    "    celcius = (fahrenheit -32) * 5/9\n",
    "    return f\"The fahrenheit {fahrenheit}°F is equal to {celcius:.2f}°C celcius\"\n",
    "\n",
    "#call the function\n",
    "far_1 = fahrenheit_to_cecius(212)\n",
    "print(far_1)\n",
    "\n",
    "far_2 = fahrenheit_to_cecius(32)\n",
    "print(far_2)\n",
    "\n",
    "far_3 = fahrenheit_to_cecius(145)\n",
    "print(far_3)\n",
    "\n",
    "\n"
   ]
  },
  {
   "cell_type": "code",
   "execution_count": null,
   "id": "757f921e",
   "metadata": {},
   "outputs": [],
   "source": []
  }
 ],
 "metadata": {
  "kernelspec": {
   "display_name": "Python 3",
   "language": "python",
   "name": "python3"
  },
  "language_info": {
   "codemirror_mode": {
    "name": "ipython",
    "version": 3
   },
   "file_extension": ".py",
   "mimetype": "text/x-python",
   "name": "python",
   "nbconvert_exporter": "python",
   "pygments_lexer": "ipython3",
   "version": "3.12.10"
  }
 },
 "nbformat": 4,
 "nbformat_minor": 5
}
