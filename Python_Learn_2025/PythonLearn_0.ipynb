{
  "nbformat": 4,
  "nbformat_minor": 0,
  "metadata": {
    "colab": {
      "provenance": [],
      "authorship_tag": "ABX9TyNd5L7O9f+TXXV9uYWIa47P",
      "include_colab_link": true
    },
    "kernelspec": {
      "name": "python3",
      "display_name": "Python 3"
    },
    "language_info": {
      "name": "python"
    }
  },
  "cells": [
    {
      "cell_type": "markdown",
      "metadata": {
        "id": "view-in-github",
        "colab_type": "text"
      },
      "source": [
        "<a href=\"https://colab.research.google.com/github/srimantapal205/pythonPracticeCode/blob/main/Python_Learn_2025/PythonLearn_0.ipynb\" target=\"_parent\"><img src=\"https://colab.research.google.com/assets/colab-badge.svg\" alt=\"Open In Colab\"/></a>"
      ]
    },
    {
      "cell_type": "code",
      "execution_count": 1,
      "metadata": {
        "colab": {
          "base_uri": "https://localhost:8080/"
        },
        "id": "ALCPNiwaMnxw",
        "outputId": "8f70d87f-f609-47cd-d8a3-d1b0efcecf39"
      },
      "outputs": [
        {
          "output_type": "stream",
          "name": "stdout",
          "text": [
            "Hello world\n"
          ]
        }
      ],
      "source": [
        "print(\"Hello world\")"
      ]
    },
    {
      "cell_type": "code",
      "source": [
        "#print input using comas\n",
        "name = 'Xyz'\n",
        "age = 30\n",
        "print(\"My Name is\", name, \" and I am  \", age, \" years old\")"
      ],
      "metadata": {
        "colab": {
          "base_uri": "https://localhost:8080/"
        },
        "id": "kKexlI5jQvEt",
        "outputId": "116ddd60-b17b-453b-c3fa-9185dfd1f7ce"
      },
      "execution_count": 2,
      "outputs": [
        {
          "output_type": "stream",
          "name": "stdout",
          "text": [
            "My Name is Xyz  and I am   30  years old\n"
          ]
        }
      ]
    },
    {
      "cell_type": "code",
      "source": [
        "#Print with string concatenation(+)\n",
        "print(\"My Name is \" + name + \" and I am \" + str(age) + \" years old\")"
      ],
      "metadata": {
        "colab": {
          "base_uri": "https://localhost:8080/"
        },
        "id": "_3AL0Iz7Rh4V",
        "outputId": "69d70910-d666-41ca-b245-77fd444d600b"
      },
      "execution_count": 3,
      "outputs": [
        {
          "output_type": "stream",
          "name": "stdout",
          "text": [
            "My Name is Xyz and I am 30 years old\n"
          ]
        }
      ]
    },
    {
      "cell_type": "code",
      "source": [
        "# F-String it's applicable in Python 3.6+ version\n",
        "print(f\"My name is {name} and I am {age} years old\")"
      ],
      "metadata": {
        "colab": {
          "base_uri": "https://localhost:8080/"
        },
        "id": "KLOapayvSaFY",
        "outputId": "3ea9993d-9957-48ba-cf6b-e7ec58961920"
      },
      "execution_count": 4,
      "outputs": [
        {
          "output_type": "stream",
          "name": "stdout",
          "text": [
            "My name is Xyz and I am 30 years old\n"
          ]
        }
      ]
    },
    {
      "cell_type": "markdown",
      "source": [
        "Write a Python program that displays a sentence.\n",
        "1.   Use the print function to output the following text exactly as it is: \"Learning Python is fun!\"\n",
        "2.   Ensure that your output matches the expected text including punctuation and capitalization."
      ],
      "metadata": {
        "id": "mKsIOycIScXq"
      }
    },
    {
      "cell_type": "code",
      "source": [
        "txt = \"Learning Python is fun!\"\n",
        "print(txt)"
      ],
      "metadata": {
        "colab": {
          "base_uri": "https://localhost:8080/"
        },
        "id": "s_0LqwgqNcD5",
        "outputId": "7957cf90-dc4c-4a6d-d19b-4bb730a9d098"
      },
      "execution_count": 5,
      "outputs": [
        {
          "output_type": "stream",
          "name": "stdout",
          "text": [
            "Learning Python is fun!\n"
          ]
        }
      ]
    },
    {
      "cell_type": "code",
      "source": [],
      "metadata": {
        "id": "PJpo23Q0TwRu"
      },
      "execution_count": 5,
      "outputs": []
    },
    {
      "cell_type": "markdown",
      "source": [
        "Write a Python program to join two strings:\n",
        "\"Python\" and \"Programming\".\n",
        "* Ensure the two words are separated by a space in the output.\n",
        "* Display the concatenated string using the print function."
      ],
      "metadata": {
        "id": "YuD6Ax7cWnFp"
      }
    },
    {
      "cell_type": "code",
      "source": [
        "s1 = \"Python\"\n",
        "s2 = \"Programming\"\n",
        "\n",
        "print(s1,s2)\n",
        "print(s1+' '+s2)\n",
        "print(f'{s1} {s2}')"
      ],
      "metadata": {
        "colab": {
          "base_uri": "https://localhost:8080/"
        },
        "id": "-bvzc-NVT6Hm",
        "outputId": "a4dd516a-20d9-4baf-e732-0d3e2d0727d3"
      },
      "execution_count": 6,
      "outputs": [
        {
          "output_type": "stream",
          "name": "stdout",
          "text": [
            "Python Programming\n",
            "Python Programming\n",
            "Python Programming\n"
          ]
        }
      ]
    },
    {
      "cell_type": "markdown",
      "source": [
        "Write a Python program that prints the following three lines as separate lines in the output:\n",
        "\n",
        "```\n",
        "Coding is exciting.\n",
        "Python makes it more so.\n",
        "Let's keep learning!\n",
        "```"
      ],
      "metadata": {
        "id": "G2rT6uuYYQ7n"
      }
    },
    {
      "cell_type": "code",
      "source": [
        "l1 = \"Coding is exciting.\"\n",
        "l2 = \"Python makes it more so.\"\n",
        "l3 = \"Let's keep learning!\"\n",
        "\n",
        "print(f\"{l1}\\n{l2}\\n{l3}\")"
      ],
      "metadata": {
        "colab": {
          "base_uri": "https://localhost:8080/"
        },
        "id": "UgMY2n6tUjHN",
        "outputId": "94a5a09e-ad27-471f-e10d-4cefa256e17e"
      },
      "execution_count": 7,
      "outputs": [
        {
          "output_type": "stream",
          "name": "stdout",
          "text": [
            "Coding is exciting.\n",
            "Python makes it more so.\n",
            "Let's keep learning!\n"
          ]
        }
      ]
    },
    {
      "cell_type": "code",
      "source": [
        "name = \"Python\"\n",
        "year = 2023\n",
        "\n",
        "print(f'{name} was very popular in {year}')"
      ],
      "metadata": {
        "colab": {
          "base_uri": "https://localhost:8080/"
        },
        "id": "WZf-8qZdWaNc",
        "outputId": "f9e9dfef-b7e7-418c-dd93-bb1326fd5ef1"
      },
      "execution_count": 8,
      "outputs": [
        {
          "output_type": "stream",
          "name": "stdout",
          "text": [
            "Python was very popular in 2023\n"
          ]
        }
      ]
    },
    {
      "cell_type": "markdown",
      "source": [
        "# input() function"
      ],
      "metadata": {
        "id": "sTkhuR7cxSPZ"
      }
    },
    {
      "cell_type": "code",
      "source": [
        "# Display a custom prompt to guide user by passing a string argument to the input() function:\n",
        "name = input(\"Please Enter Your Name:: \")\n",
        "age = int(input('Plesae you age: '))\n",
        "print(f\"Hello, {name}! you are {age} years old\")"
      ],
      "metadata": {
        "id": "9lxdC2cDU3m0",
        "colab": {
          "base_uri": "https://localhost:8080/"
        },
        "outputId": "af86ca84-ba18-45c9-db18-6e97a9923404"
      },
      "execution_count": 10,
      "outputs": [
        {
          "output_type": "stream",
          "name": "stdout",
          "text": [
            "Please Enter Your Name:: dsdsa1\n",
            "Plesae you age: 12\n",
            "Hello, dsdsa1! you are 12 years old\n"
          ]
        }
      ]
    },
    {
      "cell_type": "markdown",
      "source": [
        "### Exercises\n",
        "+ Write a Python program that prompts the user for their name using the input function.\n",
        "+ Store the user's input in a variable.\n",
        "+ Use an f-string to include the user's name in a greeting message and print it,\n",
        "\n",
        "e.g., \"Hello, [name]!\" where [name] is replaced by the user's input."
      ],
      "metadata": {
        "id": "S_B1_PzHzQ9X"
      }
    },
    {
      "cell_type": "code",
      "source": [
        "name = input(\"Please enter your name:\")\n",
        "print(f\"Hello, {name}!\")"
      ],
      "metadata": {
        "id": "jng2TVAlxkBm"
      },
      "execution_count": null,
      "outputs": []
    },
    {
      "cell_type": "markdown",
      "source": [
        "### Challenge: Your Superhero Name\n",
        "Your goal is to create a program that generates a personalized superhero name by prompting the user for two pieces of\n",
        "information:\n",
        "* The first adjective found on the 13th page of the book closest to them.\n",
        "* Something that scares them (ideally, a noun). 😱\n",
        "* Using the print and input functions, combine the two inputs into a single superhero name and display it to the\n",
        "user."
      ],
      "metadata": {
        "id": "Nwnhd6Vh2YUV"
      }
    },
    {
      "cell_type": "code",
      "source": [
        "# First an adjective\n",
        "adjective  = input('Find The first adjective in the 13th page of the book :: ')\n",
        "noun = input('Enter Something that scares you :: ')\n",
        "# display the super hero name\n",
        "print(f'Your superhero name is {adjective}-{noun}')"
      ],
      "metadata": {
        "colab": {
          "base_uri": "https://localhost:8080/"
        },
        "id": "zxXgqVdbz7Uy",
        "outputId": "ae84725f-df8f-4d34-d06d-1cf73f8295f0"
      },
      "execution_count": 11,
      "outputs": [
        {
          "output_type": "stream",
          "name": "stdout",
          "text": [
            "Find The first adjective in the 13th page of the book :: 12312csdfsd\n",
            "Enter Something that scares you :: wed\n",
            "Your superhero name is 12312csdfsd-wed\n"
          ]
        }
      ]
    },
    {
      "cell_type": "markdown",
      "source": [
        "### Variable"
      ],
      "metadata": {
        "id": "IDr8sk4x-seE"
      }
    },
    {
      "cell_type": "code",
      "source": [
        "#Checking Varible"
      ],
      "metadata": {
        "id": "WQUzIIbG_XDe"
      },
      "execution_count": null,
      "outputs": []
    },
    {
      "cell_type": "markdown",
      "source": [
        "Variable Type Double Conversion:\n",
        "* Begin by declaring a variable named original_float and assign it the value 9.99.\n",
        "* Convert original_float to an integer and store this value in a new variable named converted_integer.\n",
        "* Now, convert converted_integer back into a float and store this in a variable named converted_back_float.\n",
        "* Finally, print the values of original_float, converted_integer, and converted_back_float in this order, each on a new line."
      ],
      "metadata": {
        "id": "Afm4LBhi_POq"
      }
    },
    {
      "cell_type": "code",
      "source": [
        "original_float = 9.99\n",
        "converted_integer = int(original_float)\n",
        "converted_back_float = float(converted_integer)\n",
        "\n",
        "print(f\"{original_float}\\n{converted_integer}\\n{converted_back_float}\")\n",
        "\n"
      ],
      "metadata": {
        "id": "mRrLJiNZgzYX",
        "outputId": "067db7e8-d5f1-48ff-de5b-ae12f7102f62",
        "colab": {
          "base_uri": "https://localhost:8080/"
        }
      },
      "execution_count": 12,
      "outputs": [
        {
          "output_type": "stream",
          "name": "stdout",
          "text": [
            "9.99\n",
            "9\n",
            "9.0\n"
          ]
        }
      ]
    },
    {
      "cell_type": "markdown",
      "source": [
        "## Arithmetic Operators"
      ],
      "metadata": {
        "id": "-gzOXH3QfuAb"
      }
    },
    {
      "cell_type": "code",
      "source": [
        "# Declear varible assign value\n",
        "x = 10\n",
        "y = 5"
      ],
      "metadata": {
        "id": "ekyRVfpsftbE"
      },
      "execution_count": 13,
      "outputs": []
    },
    {
      "cell_type": "code",
      "source": [
        "#Addition(+)\n",
        "result = x + y\n",
        "print(result)\n"
      ],
      "metadata": {
        "colab": {
          "base_uri": "https://localhost:8080/"
        },
        "id": "4FlrtuVWglXJ",
        "outputId": "3d2aef90-49a4-4c60-9c04-3f10b1f4439b"
      },
      "execution_count": 14,
      "outputs": [
        {
          "output_type": "stream",
          "name": "stdout",
          "text": [
            "15\n"
          ]
        }
      ]
    },
    {
      "cell_type": "code",
      "source": [
        "# Substraction(-)\n",
        "result = x-y\n",
        "print(result)"
      ],
      "metadata": {
        "id": "po9_X4fPhGiM",
        "outputId": "5e0f8812-29f4-40ef-c9b1-92c0512bc0c0",
        "colab": {
          "base_uri": "https://localhost:8080/"
        }
      },
      "execution_count": 15,
      "outputs": [
        {
          "output_type": "stream",
          "name": "stdout",
          "text": [
            "5\n"
          ]
        }
      ]
    },
    {
      "cell_type": "code",
      "source": [
        "#Multiplication(*)\n",
        "result = x*y\n",
        "print(result)"
      ],
      "metadata": {
        "id": "goU2VloyhZQs",
        "outputId": "935d95ff-cf02-4396-b3b0-9eecabdefd08",
        "colab": {
          "base_uri": "https://localhost:8080/"
        }
      },
      "execution_count": 16,
      "outputs": [
        {
          "output_type": "stream",
          "name": "stdout",
          "text": [
            "50\n"
          ]
        }
      ]
    },
    {
      "cell_type": "code",
      "source": [
        "# Division(/)\n",
        "result = x / y\n",
        "print(result)"
      ],
      "metadata": {
        "id": "VSJSbq9rhoma",
        "outputId": "468862ce-3dfa-47e2-aa0d-8c763c2e48f4",
        "colab": {
          "base_uri": "https://localhost:8080/"
        }
      },
      "execution_count": 17,
      "outputs": [
        {
          "output_type": "stream",
          "name": "stdout",
          "text": [
            "2.0\n"
          ]
        }
      ]
    },
    {
      "cell_type": "code",
      "source": [
        "# Modules(%)\n",
        "result = x % y\n",
        "print(result)"
      ],
      "metadata": {
        "id": "dCMJNLKmh7yQ",
        "outputId": "6f47c257-b739-4a8f-f82b-98e8e57d9911",
        "colab": {
          "base_uri": "https://localhost:8080/"
        }
      },
      "execution_count": 18,
      "outputs": [
        {
          "output_type": "stream",
          "name": "stdout",
          "text": [
            "0\n"
          ]
        }
      ]
    },
    {
      "cell_type": "code",
      "source": [
        "#Exponention(**)\n",
        "result = x**y\n",
        "print(result)"
      ],
      "metadata": {
        "id": "Gw1ulfIZiQis",
        "outputId": "80448183-3c95-41cc-fc38-a2a3c0eca01c",
        "colab": {
          "base_uri": "https://localhost:8080/"
        }
      },
      "execution_count": 19,
      "outputs": [
        {
          "output_type": "stream",
          "name": "stdout",
          "text": [
            "100000\n"
          ]
        }
      ]
    },
    {
      "cell_type": "code",
      "source": [
        "# Floor Division\n",
        "result = x // y\n",
        "print(result)"
      ],
      "metadata": {
        "id": "zGYstrNmikHV",
        "outputId": "a98cc6c5-0198-4032-b667-907d6f935c72",
        "colab": {
          "base_uri": "https://localhost:8080/"
        }
      },
      "execution_count": 20,
      "outputs": [
        {
          "output_type": "stream",
          "name": "stdout",
          "text": [
            "2\n"
          ]
        }
      ]
    },
    {
      "cell_type": "code",
      "source": [
        "#Compund assignment operators (+=, -=, *=, /=, **=, //=):\n",
        "x += 3\n",
        "print(x)"
      ],
      "metadata": {
        "id": "xoLtzy0ui79m",
        "outputId": "3430a3ca-7f0e-4e41-c0e4-d910abdd65cb",
        "colab": {
          "base_uri": "https://localhost:8080/"
        }
      },
      "execution_count": 22,
      "outputs": [
        {
          "output_type": "stream",
          "name": "stdout",
          "text": [
            "13\n"
          ]
        }
      ]
    },
    {
      "cell_type": "code",
      "source": [
        "x = x+3\n",
        "print(x)"
      ],
      "metadata": {
        "id": "weBeCgSkj-6a",
        "outputId": "230e80ee-e7ae-4f12-83a7-b2b61aca17c7",
        "colab": {
          "base_uri": "https://localhost:8080/"
        }
      },
      "execution_count": 23,
      "outputs": [
        {
          "output_type": "stream",
          "name": "stdout",
          "text": [
            "16\n"
          ]
        }
      ]
    },
    {
      "cell_type": "markdown",
      "source": [
        "### Exercises\n",
        "* Examine the provided code where two numbers are defined (number1 and number2).\n",
        "* Compute and display the results of addition, subtraction, multiplication, and division."
      ],
      "metadata": {
        "id": "blaU_kqNkPyB"
      }
    },
    {
      "cell_type": "code",
      "source": [
        "number1 = 10\n",
        "number2 = 2"
      ],
      "metadata": {
        "id": "rMjpSSZskPZ_"
      },
      "execution_count": 24,
      "outputs": []
    },
    {
      "cell_type": "code",
      "source": [
        " # addition, subtraction, multiplication, and division.\n",
        "\n",
        "addition = number1 + number2\n",
        "subtraction = number1 - number2\n",
        "multiplication = number1 * number2\n",
        "division = number1 / number2\n",
        "\n",
        "print(f\"Addition: {addition}\")\n",
        "print(f\"Subtraction: {subtraction}\")\n",
        "print(f\"multiplication{multiplication}\")\n",
        "print(f\"division: {division}\")\n",
        "\n",
        "\n",
        "\n"
      ],
      "metadata": {
        "id": "hl4JBPkXjlCi",
        "outputId": "5afc608a-f755-475e-bb9c-9dd8a09c681a",
        "colab": {
          "base_uri": "https://localhost:8080/"
        }
      },
      "execution_count": 25,
      "outputs": [
        {
          "output_type": "stream",
          "name": "stdout",
          "text": [
            "Addition: 12\n",
            "Subtraction: 8\n",
            "multiplication20\n",
            "division: 5.0\n"
          ]
        }
      ]
    },
    {
      "cell_type": "markdown",
      "source": [
        "Imagine you are planning to start your own small business in 5 years and are looking at various saving strategies.\n",
        "\n",
        "One of the options you're considering is a savings account that offers compound interest.\n",
        "\n",
        "You have an initial amount of $1,000 to start with.\n",
        "\n",
        "The bank offers an annual interest rate of 4%, compounded quarterly.\n",
        "\n",
        "You want to calculate how much your initial investment will grow in 5 years under these conditions to help decide if this savings account is a good option for funding your business venture.\n",
        "\n",
        "Provide the output as an integer."
      ],
      "metadata": {
        "id": "ZG3NqIFNms8R"
      }
    },
    {
      "cell_type": "code",
      "source": [
        "amount = 1000\n",
        "rate = 0.04\n",
        "years = 5\n",
        "compounded = 4\n",
        "\n",
        "# A = P(1 + R/400)4t\n",
        "\n",
        "# Calculate the compound value\n",
        "accumulated_amount = int(amount * ((1 + rate / compounded) ** (years * compounded)))\n",
        "\n",
        "print(f\"The accumulated amount after {years} years is ${accumulated_amount}\")\n",
        "\n"
      ],
      "metadata": {
        "id": "DrAEcyh8mqzR",
        "outputId": "336977eb-a14c-44aa-8f7f-e34a81ecca19",
        "colab": {
          "base_uri": "https://localhost:8080/"
        }
      },
      "execution_count": 26,
      "outputs": [
        {
          "output_type": "stream",
          "name": "stdout",
          "text": [
            "The accumulated amount after 5 years is $1220\n"
          ]
        }
      ]
    },
    {
      "cell_type": "markdown",
      "source": [
        "## Python Comparison Operators\n",
        "\n",
        "* Equal(==)\n",
        "* Not Equal(!=)\n",
        "* Greater Than (>)\n",
        "* Less Than (<)\n",
        "* Greater Than Equal to (>=)\n",
        "* Less Than Equal to (<=)\n",
        "\n"
      ],
      "metadata": {
        "id": "DDlqOvtlpoaV"
      }
    },
    {
      "cell_type": "code",
      "source": [],
      "metadata": {
        "id": "89buHj7epV9J"
      },
      "execution_count": null,
      "outputs": []
    }
  ]
}