{
 "cells": [
  {
   "cell_type": "markdown",
   "metadata": {},
   "source": [
    "1. Write a Python program to print \"Hello Python\"."
   ]
  },
  {
   "cell_type": "code",
   "execution_count": 1,
   "metadata": {},
   "outputs": [
    {
     "name": "stdout",
     "output_type": "stream",
     "text": [
      "Hello Python\n"
     ]
    }
   ],
   "source": [
    "print(\"Hello Python\")"
   ]
  },
  {
   "cell_type": "markdown",
   "metadata": {},
   "source": [
    "2. Write a Python program to do arithmetical operations addition and division"
   ]
  },
  {
   "cell_type": "code",
   "execution_count": 2,
   "metadata": {},
   "outputs": [
    {
     "name": "stdout",
     "output_type": "stream",
     "text": [
      "Sum : 5.0 +5.0 = 10.0\n"
     ]
    }
   ],
   "source": [
    "#Addition\n",
    "num1 = float(input(\"Enter the first number of addition:: \"))\n",
    "num2 = float(input(\"Enter the second number of addition:: \"))\n",
    "\n",
    "sumResult = num1+num2\n",
    "print(f\"Sum : {num1} +{num2} = {sumResult}\")"
   ]
  },
  {
   "cell_type": "code",
   "execution_count": 5,
   "metadata": {},
   "outputs": [
    {
     "name": "stdout",
     "output_type": "stream",
     "text": [
      "Division :: 31.0/11.0 = 2.8181818181818183\n"
     ]
    }
   ],
   "source": [
    "#Division\n",
    "num3 = float(input(\"Enter the dividend for division: \"))\n",
    "num4 = float(input(\"Enter the divisor for division: \"))\n",
    "if num4 == 0:\n",
    "    print(\"Error: Division by zero is not allowed\")\n",
    "else:\n",
    "    divResult = num3/num4\n",
    "    print(f\"Division :: {num3}/{num4} = {divResult}\")\n"
   ]
  },
  {
   "cell_type": "markdown",
   "metadata": {},
   "source": [
    "3. Write a Python program to find the area of a triangle."
   ]
  },
  {
   "cell_type": "code",
   "execution_count": 6,
   "metadata": {},
   "outputs": [
    {
     "name": "stdout",
     "output_type": "stream",
     "text": [
      "The are of the tringle is :: 75.0\n"
     ]
    }
   ],
   "source": [
    "#Input the base and heigth from the user\n",
    "base = float(input(\"Enter the length of the base of the triangle :: \"))\n",
    "height = float(input(\"Enter the height of the traingle :: \"))\n",
    "\n",
    "#Calculate the area of the triangle\n",
    "area = 0.5 * base * height\n",
    "\n",
    "#display the result\n",
    "print(f\"The are of the tringle is :: {area}\")"
   ]
  },
  {
   "cell_type": "markdown",
   "metadata": {},
   "source": [
    "4. Write a Python program to swap two variables."
   ]
  },
  {
   "cell_type": "code",
   "execution_count": 7,
   "metadata": {},
   "outputs": [
    {
     "name": "stdout",
     "output_type": "stream",
     "text": [
      "The original number is :: a = 10 & b = 56\n",
      "Swapped values :: a = 56 & b = 10\n"
     ]
    }
   ],
   "source": [
    "#Input two varible\n",
    "a = input(\"Enter the value of the first varible (a) :: \")\n",
    "b = input(\"Enter the value of the  second varible (b) :: \")\n",
    "\n",
    "#display the original value::\n",
    "print(f\"The original number is :: a = {a} & b = {b}\")\n",
    "\n",
    "#swap the value\n",
    "temp = a\n",
    "a = b\n",
    "b = temp\n",
    "\n",
    "#display the Swap value\n",
    "print(f\"Swapped values :: a = {a} & b = {b}\")\n",
    "\n"
   ]
  },
  {
   "cell_type": "markdown",
   "metadata": {},
   "source": [
    "5. Write a Python program to generate a random number."
   ]
  },
  {
   "cell_type": "code",
   "execution_count": 48,
   "metadata": {},
   "outputs": [
    {
     "name": "stdout",
     "output_type": "stream",
     "text": [
      "The random number is :: 922\n"
     ]
    }
   ],
   "source": [
    "import random\n",
    "print(f\"The random number is :: {random.randint(1, 999)}\")"
   ]
  },
  {
   "cell_type": "markdown",
   "metadata": {},
   "source": [
    "6. Write a Python program to convert kilometers to miles."
   ]
  },
  {
   "cell_type": "code",
   "execution_count": 50,
   "metadata": {},
   "outputs": [
    {
     "name": "stdout",
     "output_type": "stream",
     "text": [
      "100.0 kilometers is equal to 62.137100000000004 miles\n"
     ]
    }
   ],
   "source": [
    "km = float(input(\"Enter distance in Kilometers :: \"))\n",
    "\n",
    "#convert the kilometers in to mile\n",
    "#conversion factor : 1 km = 0.621371 mile\n",
    "conFact = 0.621371\n",
    "miles = km * conFact\n",
    "\n",
    "print(f\"{km} kilometers is equal to {miles} miles\")"
   ]
  },
  {
   "cell_type": "markdown",
   "metadata": {},
   "source": [
    "7. Write a Python program to convert Celsius to Fahrenheit"
   ]
  },
  {
   "cell_type": "code",
   "execution_count": 51,
   "metadata": {},
   "outputs": [
    {
     "name": "stdout",
     "output_type": "stream",
     "text": [
      "37.0 degrees celsius is equal to 98.6 degrees fahrenheit\n"
     ]
    }
   ],
   "source": [
    "celsius  = float(input(\"Enter tempture in celsius :: \"))\n",
    "#conversion formula :: Fahrenheit = (celsius*9/5)+32\n",
    "\n",
    "fahrenheit = (celsius * 9/5)+32\n",
    "print(f\"{celsius} degrees celsius is equal to {fahrenheit} degrees fahrenheit\")"
   ]
  },
  {
   "cell_type": "markdown",
   "metadata": {},
   "source": [
    "8. Write a Python program to display calendar."
   ]
  },
  {
   "cell_type": "code",
   "execution_count": 2,
   "metadata": {},
   "outputs": [
    {
     "name": "stdout",
     "output_type": "stream",
     "text": [
      "      May 2024\n",
      "Mo Tu We Th Fr Sa Su\n",
      "       1  2  3  4  5\n",
      " 6  7  8  9 10 11 12\n",
      "13 14 15 16 17 18 19\n",
      "20 21 22 23 24 25 26\n",
      "27 28 29 30 31\n",
      "\n"
     ]
    }
   ],
   "source": [
    "import calendar\n",
    "from datetime import date\n",
    "\n",
    "year = int(input(\"Enter year :: \"))\n",
    "month = int(input(\"Enter month :: \"))\n",
    "\n",
    "\n",
    "today = date.today()\n",
    "cal = calendar.month(year, month)\n",
    "\n",
    "print(cal)"
   ]
  },
  {
   "cell_type": "markdown",
   "metadata": {},
   "source": [
    "9. Write a Python program to solve quadratic equation.The standard form of a quadratic equation is:\n",
    "where\n",
    "a, b and c are real numbers and\n",
    "The solutions of this quadratic equation is given by:\n",
    "𝑎𝑥 + 𝑏𝑥 + 𝑐 = 0 2\n",
    "𝑎 ≠ 0\n",
    "(−𝑏 ± (𝑏 − 4𝑎𝑐 )/(2𝑎)"
   ]
  },
  {
   "cell_type": "code",
   "execution_count": null,
   "metadata": {},
   "outputs": [],
   "source": [
    "import math\n",
    "#imput coefficients\n",
    "a = float(input(\"enter coefficients of a:: \"))\n",
    "b = float(input(\"enter coefficients of b:: \"))\n",
    "c = float(input(\"enter coefficients of c:: \"))\n",
    "\n",
    "#calculate the dicriminant\n",
    "discriminant = b**2 - 4*a*c\n",
    "\n",
    "#check if the dicriminant is positive negative or zero\n",
    "\n",
    "if discriminant > 0:\n",
    "    #Two real and distinct roots\n",
    "    root1 = (-b + math.sqrt(discriminant)) / (2*a)\n",
    "    root2 = (-b - math.sqrt(discriminant)) / (2*a)\n",
    "    root1 = (-b + math.sqrt(discriminant)) / (2*a)\n",
    "    print(f\"Root 1 :: {root1}\")\n",
    "    print(f\"Root 2 :: {root2}\")\n",
    "elif discriminant == 0:\n",
    "    #One real root repeated"
   ]
  }
 ],
 "metadata": {
  "kernelspec": {
   "display_name": "Python 3",
   "language": "python",
   "name": "python3"
  },
  "language_info": {
   "codemirror_mode": {
    "name": "ipython",
    "version": 3
   },
   "file_extension": ".py",
   "mimetype": "text/x-python",
   "name": "python",
   "nbconvert_exporter": "python",
   "pygments_lexer": "ipython3",
   "version": "3.12.0"
  }
 },
 "nbformat": 4,
 "nbformat_minor": 2
}
