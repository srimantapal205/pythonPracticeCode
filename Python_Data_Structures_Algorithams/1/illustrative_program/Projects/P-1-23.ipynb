{
 "cells": [
  {
   "cell_type": "markdown",
   "id": "3ed5e9b7",
   "metadata": {},
   "source": [
    "### Write a Python program that output all possible string fromd by using the characters 'c','a','t'.'d','o, 'g'."
   ]
  },
  {
   "cell_type": "code",
   "execution_count": null,
   "id": "6a9f4e15",
   "metadata": {},
   "outputs": [
    {
     "name": "stdout",
     "output_type": "stream",
     "text": [
      "hi\n"
     ]
    }
   ],
   "source": [
    "def create_combition_letter(letters):\n",
    "    '''\n",
    "    Create a combination letter from a template and a list of names.\n",
    "    '''\n",
    "    combition =[]\n",
    "    for i in range(len(letters)):\n",
    "        for j in range(len(letters)):\n",
    "            if i !=j :\n",
    "                for k in range(len(letters)):\n",
    "                    if k != i and k!= j:\n",
    "                        for l in range(len(letters)):\n",
    "                            if l != k and l != j and l != i:\n",
    "                                for m in range(len(letters)):\n",
    "                                    if m != l and m != k and m != j and m != i:\n",
    "                                        for n in range(len(letters)):\n",
    "                                            "
   ]
  }
 ],
 "metadata": {
  "kernelspec": {
   "display_name": "Python 3",
   "language": "python",
   "name": "python3"
  },
  "language_info": {
   "codemirror_mode": {
    "name": "ipython",
    "version": 3
   },
   "file_extension": ".py",
   "mimetype": "text/x-python",
   "name": "python",
   "nbconvert_exporter": "python",
   "pygments_lexer": "ipython3",
   "version": "3.12.10"
  }
 },
 "nbformat": 4,
 "nbformat_minor": 5
}
