{
 "cells": [
  {
   "cell_type": "markdown",
   "metadata": {},
   "source": [
    "## Program 1 : Write a Python program to print \"Hello Python\"."
   ]
  },
  {
   "cell_type": "code",
   "execution_count": null,
   "metadata": {},
   "outputs": [],
   "source": [
    "print(\"Hello World\")"
   ]
  },
  {
   "cell_type": "markdown",
   "metadata": {},
   "source": [
    "## PROGRAM 2 : Write a Python program to do arithmetical operations addition and division."
   ]
  },
  {
   "cell_type": "code",
   "execution_count": null,
   "metadata": {},
   "outputs": [],
   "source": [
    "number1 = int(input(\"Enter frisrt number: \"))\n",
    "number2 = int(input(\"Enter second number: \"))\n",
    "\n",
    "# Addition functional based\n",
    "def addition (n1, n2):\n",
    "    print(f'First Number ::{n1}')\n",
    "    print(f'Second Number ::{n2}')\n",
    "    return n1 + n2\n",
    "additionValue = addition(number1, number2)\n",
    "print(f'Addition Value is: {additionValue}')\n",
    "\n",
    "# Addition Single line\n",
    "additionValue2 = number1 + number2\n",
    "print( f'Addition without function {number1} + {number2} = {additionValue2} ')\n",
    "\n"
   ]
  },
  {
   "cell_type": "code",
   "execution_count": null,
   "metadata": {},
   "outputs": [],
   "source": [
    "#Division \n",
    "#Functional based\n",
    "number3 = int(input('Enter first number: '))\n",
    "number4 = int(input('Enter second number: '))\n",
    "\n",
    "if number4 == 0:\n",
    "    print(\"Devision by zero not allowed\")\n",
    "\n",
    "def division(n1, n2):\n",
    "    print(f\"First number: {n1}\")\n",
    "    print(f\"First number: {n2}\")\n",
    "    return n1/n2\n",
    "\n",
    "divisionValue= division(number3, number4)\n",
    "print(f\"The division value is: {divisionValue}\")\n",
    "\n",
    "# in single line\n",
    "divisionResult = number3 / number4 if number4 != 0 else \"undefined\"\n",
    "print(f'Single line division is : {divisionResult}')"
   ]
  },
  {
   "cell_type": "markdown",
   "metadata": {},
   "source": [
    "### Program 3 : Write a Python program to find the area of a triangle."
   ]
  },
  {
   "cell_type": "code",
   "execution_count": null,
   "metadata": {},
   "outputs": [],
   "source": [
    "# Enter the base and height from the user\n",
    "base = float(input(\"Enter the length of the base of the tringle: \"))\n",
    "height = float(input(\"Enter the height of the triangle: \"))\n",
    "\n",
    "#Calculate the area of the tringle.\n",
    "def calculateArea(b, h):\n",
    "    print(f'The base value is :: {b}')\n",
    "    print(f'The height is :: {h}')\n",
    "    a = 0.5 * b * h\n",
    "    return a\n",
    "\n",
    "area = calculateArea(base, height)\n",
    "print(f'The area of the triangle is :: {area}')\n",
    "\n",
    "    \n",
    "    \n"
   ]
  },
  {
   "cell_type": "markdown",
   "metadata": {},
   "source": [
    "### Program 4 : Write a Python program to swap two variables."
   ]
  },
  {
   "cell_type": "code",
   "execution_count": null,
   "metadata": {},
   "outputs": [],
   "source": [
    "\n",
    "number1 = int(input('Enter first number :: '))\n",
    "number2 = int(input('Enter second number :: '))\n",
    "\n",
    "def swapNumber(n1, n2):\n",
    "    print(f'The first number :: {n1}') \n",
    "    print(f'The second number :: {n2}')\n",
    "    n1 = n1 + n2\n",
    "    n2 = n1 - n2\n",
    "    n1 = n1 - n2\n",
    "    print(f'The swap of second number to first number :: {n1}') \n",
    "    print(f'The swap of first  number to second number :: {n2}') \n",
    "    \n",
    "swapNumber(number1,number2)"
   ]
  },
  {
   "cell_type": "markdown",
   "metadata": {},
   "source": [
    "### Program 5 : Write a Python program to generate a random number"
   ]
  },
  {
   "cell_type": "code",
   "execution_count": null,
   "metadata": {},
   "outputs": [],
   "source": [
    "import random\n",
    "\n",
    "randomValue = random.randint(1, 10)\n",
    "print(f'Random number is : {randomValue}')"
   ]
  },
  {
   "cell_type": "markdown",
   "metadata": {},
   "source": [
    "### Program 6: Write a Python program to convert kilometers to miles.\n",
    "1 kilometer = 0.62137119 miles."
   ]
  },
  {
   "cell_type": "code",
   "execution_count": null,
   "metadata": {},
   "outputs": [],
   "source": [
    "km = float(input('Enter the kilometers value :: '))\n",
    "\n",
    "def kmTomile(k):\n",
    "    \n",
    "    miles = k * 0.62137119\n",
    "    return miles\n",
    "milesValue = kmTomile(km)\n",
    "\n",
    "print(f'The Kilometers value is :: {milesValue} miles')\n"
   ]
  },
  {
   "cell_type": "markdown",
   "metadata": {},
   "source": [
    "### Program 7 : Write a Python program to convert Celsius to Fahrenheit."
   ]
  },
  {
   "cell_type": "code",
   "execution_count": null,
   "metadata": {},
   "outputs": [],
   "source": [
    "cel = float(input('Enter temputure by Celsius :: '))\n",
    "#Conversion formula: Fahrenheit = (Celsius * 9/5) + 32\n",
    "def convertCeltoFahrenheit(cel):\n",
    "    print(f'Celsius = {cel}')\n",
    "    fa = (cel * 9/5) + 32\n",
    "    return fa\n",
    "\n",
    "faen = convertCeltoFahrenheit(cel)\n",
    "print(f'Fahrenheit = {faen}')\n",
    "\n",
    "    "
   ]
  },
  {
   "cell_type": "markdown",
   "metadata": {},
   "source": [
    "### Program 8: Write a Python program to display calendar."
   ]
  },
  {
   "cell_type": "code",
   "execution_count": null,
   "metadata": {},
   "outputs": [],
   "source": [
    "import calendar\n",
    "year = int(input('Enter your year:: '))\n",
    "month =int(input('Enter yoyr month number :: '))\n",
    "\n",
    "displayCalender = calendar.month(year, month)\n",
    "print(f'Year == {year}')\n",
    "print(f'Month == {month}')\n",
    "print(displayCalender)"
   ]
  },
  {
   "cell_type": "markdown",
   "metadata": {},
   "source": [
    "### Program 9\n",
    "##### ***Write a Python program to solve quadratic equation. ***\n",
    "##### ***The standard form of a quadratic equation is:***\n",
    "##### ***where***\n",
    "##### ***a, b and c are real numbers and***\n",
    "##### ***The solutions of this quadratic equation is given by:***\n",
    "##### ***𝑎𝑥 + 𝑏𝑥 + 𝑐 = 0 2***\n",
    "##### ***𝑎 ≠ 0***\n",
    "##### ***(−𝑏 ± (𝑏 − 4𝑎𝑐 )/(2𝑎)***"
   ]
  },
  {
   "cell_type": "code",
   "execution_count": null,
   "metadata": {},
   "outputs": [],
   "source": [
    "import math\n",
    "\n",
    "#Input coefficent number\n",
    "a = float(input('Enter coefficent a : '))\n",
    "b = float(input('Enter coefficent b : '))\n",
    "c = float(input('Enter coefficent c : '))\n",
    "\n",
    "#Print coefficent number\n",
    "print(f'Coefficent a = {a}')\n",
    "print(f'Coefficent b = {b}')\n",
    "print(f'Coefficent c = {c}')\n",
    "\n",
    "#Calculate the discriminant value\n",
    "discriminant = b**2 - 4*a*c\n",
    "\n",
    "# Check if the discriminant is positive, negative or zero\n",
    "if discriminant > 0:\n",
    "    #Two real and distinct root\n",
    "    root1 = (-b + math.sqrt(discriminant)) /(2*a)\n",
    "    root2 = (-b - math.sqrt(discriminant)) /(2*a)\n",
    "    print(f'Root 1 :: {root1}')\n",
    "    print(f'Root 2 :: {root2}')\n",
    "elif discriminant == 0:\n",
    "    root = -b/(2*a)\n",
    "    print(f'Root = {root}')\n",
    "else:\n",
    "    #Complex roots\n",
    "    realPart = -b/(2*a)\n",
    "    imaginaryPart = math.sqrt(abs(discriminant)) / (2*a)\n",
    "    \n",
    "    print(f'Root 1 :: {realPart} + {imaginaryPart}i')\n",
    "    print(f'Root 2 :: {realPart} - {imaginaryPart}i')\n",
    "\n",
    "\n"
   ]
  },
  {
   "cell_type": "markdown",
   "metadata": {},
   "source": [
    "### Program 10 : Write a Python program to swap two variables without temp variable and any calculation."
   ]
  },
  {
   "cell_type": "code",
   "execution_count": null,
   "metadata": {},
   "outputs": [],
   "source": [
    "number1 = int(input('Enter first number :: '))\n",
    "number2 = int(input('Enter second number :: '))\n",
    "\n",
    "def swapNumberV2(n1, n2):\n",
    "    print(f'The first number :: {n1}') \n",
    "    print(f'The second number :: {n2}')\n",
    "    n1,n2 = n2,n1\n",
    "    print(f'The swap of second number to first number :: {n1}') \n",
    "    print(f'The swap of first  number to second number :: {n2}') \n",
    "    \n",
    "swapNumberV2(number1,number2)"
   ]
  }
 ],
 "metadata": {
  "kernelspec": {
   "display_name": "base",
   "language": "python",
   "name": "python3"
  },
  "language_info": {
   "codemirror_mode": {
    "name": "ipython",
    "version": 3
   },
   "file_extension": ".py",
   "mimetype": "text/x-python",
   "name": "python",
   "nbconvert_exporter": "python",
   "pygments_lexer": "ipython3",
   "version": "3.12.7"
  }
 },
 "nbformat": 4,
 "nbformat_minor": 2
}
