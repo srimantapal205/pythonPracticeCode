{
 "cells": [
  {
   "cell_type": "markdown",
   "metadata": {},
   "source": [
    "1. Write a Python program to print \"Hello Python\"."
   ]
  },
  {
   "cell_type": "code",
   "execution_count": 1,
   "metadata": {},
   "outputs": [
    {
     "name": "stdout",
     "output_type": "stream",
     "text": [
      "Hello Python\n"
     ]
    }
   ],
   "source": [
    "print(\"Hello Python\")"
   ]
  },
  {
   "cell_type": "markdown",
   "metadata": {},
   "source": [
    "2. Write a Python program to do arithmetical operations addition and division"
   ]
  },
  {
   "cell_type": "code",
   "execution_count": 2,
   "metadata": {},
   "outputs": [
    {
     "name": "stdout",
     "output_type": "stream",
     "text": [
      "Sum : 5.0 +5.0 = 10.0\n"
     ]
    }
   ],
   "source": [
    "#Addition\n",
    "num1 = float(input(\"Enter the first number of addition:: \"))\n",
    "num2 = float(input(\"Enter the second number of addition:: \"))\n",
    "\n",
    "sumResult = num1+num2\n",
    "print(f\"Sum : {num1} +{num2} = {sumResult}\")"
   ]
  },
  {
   "cell_type": "code",
   "execution_count": 5,
   "metadata": {},
   "outputs": [
    {
     "name": "stdout",
     "output_type": "stream",
     "text": [
      "Division :: 31.0/11.0 = 2.8181818181818183\n"
     ]
    }
   ],
   "source": [
    "#Division\n",
    "num3 = float(input(\"Enter the dividend for division: \"))\n",
    "num4 = float(input(\"Enter the divisor for division: \"))\n",
    "if num4 == 0:\n",
    "    print(\"Error: Division by zero is not allowed\")\n",
    "else:\n",
    "    divResult = num3/num4\n",
    "    print(f\"Division :: {num3}/{num4} = {divResult}\")\n"
   ]
  },
  {
   "cell_type": "markdown",
   "metadata": {},
   "source": [
    "3. Write a Python program to find the area of a triangle."
   ]
  },
  {
   "cell_type": "code",
   "execution_count": 6,
   "metadata": {},
   "outputs": [
    {
     "name": "stdout",
     "output_type": "stream",
     "text": [
      "The are of the tringle is :: 75.0\n"
     ]
    }
   ],
   "source": [
    "#Input the base and heigth from the user\n",
    "base = float(input(\"Enter the length of the base of the triangle :: \"))\n",
    "height = float(input(\"Enter the height of the traingle :: \"))\n",
    "\n",
    "#Calculate the area of the triangle\n",
    "area = 0.5 * base * height\n",
    "\n",
    "#display the result\n",
    "print(f\"The are of the tringle is :: {area}\")"
   ]
  },
  {
   "cell_type": "markdown",
   "metadata": {},
   "source": [
    "4. Write a Python program to swap two variables."
   ]
  },
  {
   "cell_type": "code",
   "execution_count": 7,
   "metadata": {},
   "outputs": [
    {
     "name": "stdout",
     "output_type": "stream",
     "text": [
      "The original number is :: a = 10 & b = 56\n",
      "Swapped values :: a = 56 & b = 10\n"
     ]
    }
   ],
   "source": [
    "#Input two varible\n",
    "a = input(\"Enter the value of the first varible (a) :: \")\n",
    "b = input(\"Enter the value of the  second varible (b) :: \")\n",
    "\n",
    "#display the original value::\n",
    "print(f\"The original number is :: a = {a} & b = {b}\")\n",
    "\n",
    "#swap the value\n",
    "temp = a\n",
    "a = b\n",
    "b = temp\n",
    "\n",
    "#display the Swap value\n",
    "print(f\"Swapped values :: a = {a} & b = {b}\")\n",
    "\n"
   ]
  }
 ],
 "metadata": {
  "kernelspec": {
   "display_name": "Python 3",
   "language": "python",
   "name": "python3"
  },
  "language_info": {
   "codemirror_mode": {
    "name": "ipython",
    "version": 3
   },
   "file_extension": ".py",
   "mimetype": "text/x-python",
   "name": "python",
   "nbconvert_exporter": "python",
   "pygments_lexer": "ipython3",
   "version": "3.12.0"
  }
 },
 "nbformat": 4,
 "nbformat_minor": 2
}
