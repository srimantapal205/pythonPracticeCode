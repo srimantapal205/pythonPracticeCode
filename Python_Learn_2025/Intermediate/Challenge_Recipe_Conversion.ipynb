{
 "cells": [
  {
   "cell_type": "markdown",
   "id": "0cb34ae3",
   "metadata": {},
   "source": [
    "# Challenge: Recipe Conversion\n",
    "\n",
    "### Description:\n",
    "Create an advanced recipe converter that not only scales the recipe according to a conversion factor but also handles\n",
    "different units of measurement. The converter should be able to convert between units like grams, ounces, cups,\n",
    "tablespoons, and teaspoons.\n",
    "\n",
    "### Tasks:\n",
    "1. Create a conversion table that stores conversion factors between different units.\n",
    "2. Define a function that converts an ingredient's quantity based on the desired unit and the conversion factor.\n",
    "3. Extend the recipe converter to handle different units of measurement and implement the conversion function.\n",
    "4. Allow the user to specify a desired unit for each ingredient in the converted recipe.\n",
    "\n",
    "In this challenge, you will create a more advanced recipe converter that can handle different units of measurement.\n",
    "You will first create a conversion table that contains the conversion factors between various units, such as grams,\n",
    "ounces, cups, tablespoons, and teaspoons. Then, you will define a function that takes an ingredient's quantity, the\n",
    "original unit, and the desired unit as input and returns the converted quantity.\n",
    "\n",
    "Next, you will extend the original recipe converter to incorporate this new conversion function. The updated converter\n",
    "should scale the recipe according to a specified conversion factor and convert the ingredients to the desired units.\n",
    "Finally, you will allow the user to specify the desired unit for each ingredient in the converted recipe.\n",
    "\n",
    "This challenge will test your ability to work with functions, loops, and dictionaries in Python while solving a practical\n",
    "real-life problem. It will help you practice unit conversions, as well as handle user input and implement customized\n",
    "functionality in your code.\n"
   ]
  },
  {
   "cell_type": "code",
   "execution_count": 26,
   "id": "5052d7d4",
   "metadata": {},
   "outputs": [],
   "source": [
    "#1. Create a conversion table that stores conversion factors between different units.\n",
    "# Ingredient list\n",
    "ingredients = [\n",
    "    {'name': 'flour', 'quantity': 200, 'unit': 'g'},\n",
    "    {'name': 'sugar', 'quantity': 100, 'unit': 'g'},\n",
    "    {'name': 'butter', 'quantity': 150, 'unit': 'g'},\n",
    "    {'name': 'eggs', 'quantity': 2, 'unit': 'pcs'},\n",
    "    {'name': 'vanilla extract', 'quantity': 5, 'unit': 'ml'}\n",
    "]\n",
    "\n",
    "# Conversion table\n",
    "conversion_table = {\n",
    "    'g': {'oz': 0.035274, 'cups': 0.00422675, 'tbsp': 0.067628, 'tsp': 0.202884},\n",
    "    'oz': {'g': 28.3495, 'cups': 0.119826, 'tbsp': 1.91722, 'tsp': 5.75167},\n",
    "    'cups': {'g': 236.588, 'oz': 8.3454, 'tbsp': 16, 'tsp': 48},\n",
    "    'tbsp': {'g': 14.7868, 'oz': 0.521594, 'cups': 0.0625, 'tsp': 3},\n",
    "    'tsp': {'g': 4.92892, 'oz': 0.173473, 'cups': 0.0208333, 'tbsp': 0.333333}\n",
    "}\n"
   ]
  },
  {
   "cell_type": "code",
   "execution_count": 27,
   "id": "44028ea7",
   "metadata": {},
   "outputs": [],
   "source": [
    "# Define a function theat convert units\n",
    "def convert_units(quantity, from_unit, to_unit):\n",
    "    if from_unit == to_unit:\n",
    "        conversion_factor = 1\n",
    "    else:\n",
    "        conversion_factor = conversion_table[from_unit][to_unit]\n",
    "    \n",
    "    return quantity * conversion_factor\n"
   ]
  },
  {
   "cell_type": "code",
   "execution_count": 30,
   "id": "6205a8d9",
   "metadata": {},
   "outputs": [],
   "source": [
    "\n",
    "#2. Define a function that converts an ingredient's quantity based on the desired unit and the conversion factor.\n",
    "def recipe_converter(ingredients, recipe_factor, desierd_units):\n",
    "    #Converted recipe\n",
    "    converted_recipe = []\n",
    "    for i in range(len(ingredients)):\n",
    "        # Get the data\n",
    "        ingredient = ingredients[i]\n",
    "        original_quantity = ingredient['quantity']\n",
    "        original_unit = ingredient['unit']\n",
    "        desierd_units = desierd_units[i]\n",
    "\n",
    "\n",
    "        # Scale the quantities\n",
    "        scaled_quantity = original_quantity * recipe_factor\n",
    "        \n",
    "        # Convert the units\n",
    "        converted_quantity = convert_units(scaled_quantity, original_unit, desierd_units)\n",
    "        \n",
    "        # Store the converted ingredients\n",
    "        converted_ingredients = {'name' : ingredient['name'],\n",
    "                                'quantity': converted_quantity,\n",
    "                                'unit' : desierd_units[i]      \n",
    "                                }\n",
    "        converted_recipe.append(converted_ingredients)\n",
    "        \n",
    "    return converted_recipe\n",
    "\n",
    "\n",
    "#3. Extend the recipe converter to handle different units of measurement and implement the conversion function.\n",
    "\n",
    "#4. Allow the user to specify a desired unit for each ingredient in the converted recipe."
   ]
  },
  {
   "cell_type": "code",
   "execution_count": 32,
   "id": "45791b05",
   "metadata": {},
   "outputs": [
    {
     "ename": "KeyError",
     "evalue": "'u'",
     "output_type": "error",
     "traceback": [
      "\u001b[1;31m---------------------------------------------------------------------------\u001b[0m",
      "\u001b[1;31mKeyError\u001b[0m                                  Traceback (most recent call last)",
      "Cell \u001b[1;32mIn[32], line 4\u001b[0m\n\u001b[0;32m      2\u001b[0m desired_units \u001b[38;5;241m=\u001b[39m [\u001b[38;5;124m'\u001b[39m\u001b[38;5;124mcups\u001b[39m\u001b[38;5;124m'\u001b[39m, \u001b[38;5;124m'\u001b[39m\u001b[38;5;124moz\u001b[39m\u001b[38;5;124m'\u001b[39m, \u001b[38;5;124m'\u001b[39m\u001b[38;5;124mtsp\u001b[39m\u001b[38;5;124m'\u001b[39m, \u001b[38;5;124m'\u001b[39m\u001b[38;5;124mpcs\u001b[39m\u001b[38;5;124m'\u001b[39m, \u001b[38;5;124m'\u001b[39m\u001b[38;5;124mtsp\u001b[39m\u001b[38;5;124m'\u001b[39m, \u001b[38;5;124m'\u001b[39m\u001b[38;5;124mml\u001b[39m\u001b[38;5;124m'\u001b[39m]  \u001b[38;5;66;03m# Example desired units for each ingredient\u001b[39;00m\n\u001b[0;32m      3\u001b[0m recipe_factor \u001b[38;5;241m=\u001b[39m \u001b[38;5;241m3\u001b[39m\n\u001b[1;32m----> 4\u001b[0m recipe_converted \u001b[38;5;241m=\u001b[39m \u001b[43mrecipe_converter\u001b[49m\u001b[43m(\u001b[49m\u001b[43mingredients\u001b[49m\u001b[43m,\u001b[49m\u001b[43m \u001b[49m\u001b[43mrecipe_factor\u001b[49m\u001b[43m,\u001b[49m\u001b[43m \u001b[49m\u001b[43mdesired_units\u001b[49m\u001b[43m)\u001b[49m\n\u001b[0;32m      6\u001b[0m \u001b[38;5;28mprint\u001b[39m(\u001b[38;5;124m\"\u001b[39m\u001b[38;5;124mOriginal recipe: \u001b[39m\u001b[38;5;124m\"\u001b[39m)\n\u001b[0;32m      7\u001b[0m \u001b[38;5;28;01mfor\u001b[39;00m i \u001b[38;5;129;01min\u001b[39;00m ingredients:\n",
      "Cell \u001b[1;32mIn[30], line 17\u001b[0m, in \u001b[0;36mrecipe_converter\u001b[1;34m(ingredients, recipe_factor, desierd_units)\u001b[0m\n\u001b[0;32m     14\u001b[0m scaled_quantity \u001b[38;5;241m=\u001b[39m original_quantity \u001b[38;5;241m*\u001b[39m recipe_factor\n\u001b[0;32m     16\u001b[0m \u001b[38;5;66;03m# Convert the units\u001b[39;00m\n\u001b[1;32m---> 17\u001b[0m converted_quantity \u001b[38;5;241m=\u001b[39m \u001b[43mconvert_units\u001b[49m\u001b[43m(\u001b[49m\u001b[43mscaled_quantity\u001b[49m\u001b[43m,\u001b[49m\u001b[43m \u001b[49m\u001b[43moriginal_unit\u001b[49m\u001b[43m,\u001b[49m\u001b[43m \u001b[49m\u001b[43mdesierd_units\u001b[49m\u001b[43m)\u001b[49m\n\u001b[0;32m     19\u001b[0m \u001b[38;5;66;03m# Store the converted ingredients\u001b[39;00m\n\u001b[0;32m     20\u001b[0m converted_ingredients \u001b[38;5;241m=\u001b[39m {\u001b[38;5;124m'\u001b[39m\u001b[38;5;124mname\u001b[39m\u001b[38;5;124m'\u001b[39m : ingredient[\u001b[38;5;124m'\u001b[39m\u001b[38;5;124mname\u001b[39m\u001b[38;5;124m'\u001b[39m],\n\u001b[0;32m     21\u001b[0m                         \u001b[38;5;124m'\u001b[39m\u001b[38;5;124mquantity\u001b[39m\u001b[38;5;124m'\u001b[39m: converted_quantity,\n\u001b[0;32m     22\u001b[0m                         \u001b[38;5;124m'\u001b[39m\u001b[38;5;124munit\u001b[39m\u001b[38;5;124m'\u001b[39m : desierd_units[i]      \n\u001b[0;32m     23\u001b[0m                         }\n",
      "Cell \u001b[1;32mIn[27], line 6\u001b[0m, in \u001b[0;36mconvert_units\u001b[1;34m(quantity, from_unit, to_unit)\u001b[0m\n\u001b[0;32m      4\u001b[0m     conversion_factor \u001b[38;5;241m=\u001b[39m \u001b[38;5;241m1\u001b[39m\n\u001b[0;32m      5\u001b[0m \u001b[38;5;28;01melse\u001b[39;00m:\n\u001b[1;32m----> 6\u001b[0m     conversion_factor \u001b[38;5;241m=\u001b[39m \u001b[43mconversion_table\u001b[49m\u001b[43m[\u001b[49m\u001b[43mfrom_unit\u001b[49m\u001b[43m]\u001b[49m\u001b[43m[\u001b[49m\u001b[43mto_unit\u001b[49m\u001b[43m]\u001b[49m\n\u001b[0;32m      8\u001b[0m \u001b[38;5;28;01mreturn\u001b[39;00m quantity \u001b[38;5;241m*\u001b[39m conversion_factor\n",
      "\u001b[1;31mKeyError\u001b[0m: 'u'"
     ]
    }
   ],
   "source": [
    "#apply the function\n",
    "desired_units = ['cups', 'oz', 'tsp', 'pcs', 'tsp', 'ml']  # Example desired units for each ingredient\n",
    "recipe_factor = 3\n",
    "recipe_converted = recipe_converter(ingredients, recipe_factor, desired_units)\n",
    "\n",
    "print(\"Original recipe: \")\n",
    "for i in ingredients:\n",
    "    print(i)\n",
    "\n",
    "print(\"Converted recipe: \")\n",
    "\n",
    "for i in recipe_converted:\n",
    "    print(i)\n"
   ]
  }
 ],
 "metadata": {
  "kernelspec": {
   "display_name": "Python 3",
   "language": "python",
   "name": "python3"
  },
  "language_info": {
   "codemirror_mode": {
    "name": "ipython",
    "version": 3
   },
   "file_extension": ".py",
   "mimetype": "text/x-python",
   "name": "python",
   "nbconvert_exporter": "python",
   "pygments_lexer": "ipython3",
   "version": "3.12.10"
  }
 },
 "nbformat": 4,
 "nbformat_minor": 5
}
