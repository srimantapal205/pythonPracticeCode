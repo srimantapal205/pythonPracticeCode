{
 "cells": [
  {
   "cell_type": "markdown",
   "metadata": {},
   "source": [
    "## 1. Covert An Inteeger into decimal"
   ]
  },
  {
   "cell_type": "code",
   "execution_count": 1,
   "metadata": {},
   "outputs": [
    {
     "name": "stdout",
     "output_type": "stream",
     "text": [
      "10\n",
      "<class 'decimal.Decimal'>\n"
     ]
    }
   ],
   "source": [
    "import decimal\n",
    "integer = 10\n",
    "print(decimal.Decimal(integer))\n",
    "print(type(decimal.Decimal(integer)))"
   ]
  },
  {
   "cell_type": "markdown",
   "metadata": {},
   "source": [
    "## 2. Converting an string of integer ino decimal"
   ]
  },
  {
   "cell_type": "code",
   "execution_count": 2,
   "metadata": {},
   "outputs": [
    {
     "name": "stdout",
     "output_type": "stream",
     "text": [
      "1234567890\n",
      "<class 'decimal.Decimal'>\n"
     ]
    }
   ],
   "source": [
    "string = '1234567890'\n",
    "print(decimal.Decimal(string))\n",
    "print(type(decimal.Decimal(string)))"
   ]
  },
  {
   "cell_type": "markdown",
   "metadata": {},
   "source": [
    "## 3. Reversing a string using an extended slicing technique"
   ]
  },
  {
   "cell_type": "code",
   "execution_count": 7,
   "metadata": {},
   "outputs": [
    {
     "name": "stdout",
     "output_type": "stream",
     "text": [
      "gnimmargorP nohtyP a si sihT\n",
      "This is a Python Programmin\n",
      "his is a Python Programming\n",
      "gnimmargorP nohtyP a si si\n",
      "This is a Python Programmin\n",
      "\n"
     ]
    }
   ],
   "source": [
    "string ='This is a Python Programming'\n",
    "print(string[::-1])\n",
    "print(string[:-1:])\n",
    "print(string[1::])\n",
    "print(string[:1:-1])\n",
    "print(string[:-1:1])\n",
    "print(string[-1:-1:1])"
   ]
  },
  {
   "cell_type": "markdown",
   "metadata": {},
   "source": [
    "## 4. Counting VOWELS in given word"
   ]
  },
  {
   "cell_type": "code",
   "execution_count": 8,
   "metadata": {},
   "outputs": [
    {
     "name": "stdout",
     "output_type": "stream",
     "text": [
      "Vowels in word = 3\n"
     ]
    }
   ],
   "source": [
    "vowels = ['a','e','i','o','u']\n",
    "word = 'programming'\n",
    "count = 0\n",
    "\n",
    "for l in word:\n",
    "    if l in vowels:\n",
    "        count += 1\n",
    "print(f'Vowels in word = {count}')"
   ]
  },
  {
   "cell_type": "markdown",
   "metadata": {},
   "source": [
    "## 5. Counting constrants and  vowels in word"
   ]
  },
  {
   "cell_type": "code",
   "execution_count": 13,
   "metadata": {},
   "outputs": [
    {
     "name": "stdout",
     "output_type": "stream",
     "text": [
      "Word is = Word\n",
      "Vowels in word = 1\n",
      "Consonants in word = 3\n"
     ]
    }
   ],
   "source": [
    "vowels = ['a','e','i','o','u']\n",
    "word = input('Enter a word: ')\n",
    "def count_vowels_constrants(word):\n",
    "    v_count = 0\n",
    "    c_count = 0\n",
    "    for l in word:\n",
    "        if l not in vowels:\n",
    "            c_count +=1\n",
    "        elif l in vowels:\n",
    "            v_count +=1\n",
    "        else:\n",
    "            print('Invalid character')\n",
    "    print(f'Vowels in word = {v_count}')\n",
    "    print(f'Consonants in word = {c_count}')\n",
    "\n",
    "print(f'Word is = {word}')\n",
    "count_vowels_constrants(word)"
   ]
  },
  {
   "cell_type": "markdown",
   "metadata": {},
   "source": [
    "## 6. Counting the number of occurances of a word chararchter in a string."
   ]
  },
  {
   "cell_type": "code",
   "execution_count": 14,
   "metadata": {},
   "outputs": [
    {
     "name": "stdout",
     "output_type": "stream",
     "text": [
      "Character g found 2 times in word Programming\n"
     ]
    }
   ],
   "source": [
    "word = input('Enter a word:: ')\n",
    "char = input('Enter a character to search:: ')\n",
    "\n",
    "def count_search_char(word, char):\n",
    "    count = 0\n",
    "    for l in word:\n",
    "        if l == char:\n",
    "            count +=1\n",
    "    print(f'Character {char} found {count} times in word {word}')\n",
    "\n",
    "count_search_char(word, char)\n",
    "\n"
   ]
  }
 ],
 "metadata": {
  "kernelspec": {
   "display_name": "Python 3",
   "language": "python",
   "name": "python3"
  },
  "language_info": {
   "codemirror_mode": {
    "name": "ipython",
    "version": 3
   },
   "file_extension": ".py",
   "mimetype": "text/x-python",
   "name": "python",
   "nbconvert_exporter": "python",
   "pygments_lexer": "ipython3",
   "version": "3.12.9"
  }
 },
 "nbformat": 4,
 "nbformat_minor": 2
}
