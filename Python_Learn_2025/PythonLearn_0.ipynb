{
  "cells": [
    {
      "cell_type": "markdown",
      "metadata": {
        "colab_type": "text",
        "id": "view-in-github"
      },
      "source": [
        "<a href=\"https://colab.research.google.com/github/srimantapal205/pythonPracticeCode/blob/main/Python_Learn_2025/PythonLearn_0.ipynb\" target=\"_parent\"><img src=\"https://colab.research.google.com/assets/colab-badge.svg\" alt=\"Open In Colab\"/></a>"
      ]
    },
    {
      "cell_type": "code",
      "execution_count": 1,
      "metadata": {
        "colab": {
          "base_uri": "https://localhost:8080/"
        },
        "id": "ALCPNiwaMnxw",
        "outputId": "8f70d87f-f609-47cd-d8a3-d1b0efcecf39"
      },
      "outputs": [
        {
          "name": "stdout",
          "output_type": "stream",
          "text": [
            "Hello world\n"
          ]
        }
      ],
      "source": [
        "print(\"Hello world\")"
      ]
    },
    {
      "cell_type": "code",
      "execution_count": 2,
      "metadata": {
        "colab": {
          "base_uri": "https://localhost:8080/"
        },
        "id": "kKexlI5jQvEt",
        "outputId": "116ddd60-b17b-453b-c3fa-9185dfd1f7ce"
      },
      "outputs": [
        {
          "name": "stdout",
          "output_type": "stream",
          "text": [
            "My Name is Xyz  and I am   30  years old\n"
          ]
        }
      ],
      "source": [
        "#print input using comas\n",
        "name = 'Xyz'\n",
        "age = 30\n",
        "print(\"My Name is\", name, \" and I am  \", age, \" years old\")"
      ]
    },
    {
      "cell_type": "code",
      "execution_count": 3,
      "metadata": {
        "colab": {
          "base_uri": "https://localhost:8080/"
        },
        "id": "_3AL0Iz7Rh4V",
        "outputId": "69d70910-d666-41ca-b245-77fd444d600b"
      },
      "outputs": [
        {
          "name": "stdout",
          "output_type": "stream",
          "text": [
            "My Name is Xyz and I am 30 years old\n"
          ]
        }
      ],
      "source": [
        "#Print with string concatenation(+)\n",
        "print(\"My Name is \" + name + \" and I am \" + str(age) + \" years old\")"
      ]
    },
    {
      "cell_type": "code",
      "execution_count": 4,
      "metadata": {
        "colab": {
          "base_uri": "https://localhost:8080/"
        },
        "id": "KLOapayvSaFY",
        "outputId": "3ea9993d-9957-48ba-cf6b-e7ec58961920"
      },
      "outputs": [
        {
          "name": "stdout",
          "output_type": "stream",
          "text": [
            "My name is Xyz and I am 30 years old\n"
          ]
        }
      ],
      "source": [
        "# F-String it's applicable in Python 3.6+ version\n",
        "print(f\"My name is {name} and I am {age} years old\")"
      ]
    },
    {
      "cell_type": "markdown",
      "metadata": {
        "id": "mKsIOycIScXq"
      },
      "source": [
        "Write a Python program that displays a sentence.\n",
        "1.   Use the print function to output the following text exactly as it is: \"Learning Python is fun!\"\n",
        "2.   Ensure that your output matches the expected text including punctuation and capitalization."
      ]
    },
    {
      "cell_type": "code",
      "execution_count": 5,
      "metadata": {
        "colab": {
          "base_uri": "https://localhost:8080/"
        },
        "id": "s_0LqwgqNcD5",
        "outputId": "7957cf90-dc4c-4a6d-d19b-4bb730a9d098"
      },
      "outputs": [
        {
          "name": "stdout",
          "output_type": "stream",
          "text": [
            "Learning Python is fun!\n"
          ]
        }
      ],
      "source": [
        "txt = \"Learning Python is fun!\"\n",
        "print(txt)"
      ]
    },
    {
      "cell_type": "code",
      "execution_count": null,
      "metadata": {
        "id": "PJpo23Q0TwRu"
      },
      "outputs": [],
      "source": []
    },
    {
      "cell_type": "markdown",
      "metadata": {
        "id": "YuD6Ax7cWnFp"
      },
      "source": [
        "Write a Python program to join two strings:\n",
        "\"Python\" and \"Programming\".\n",
        "* Ensure the two words are separated by a space in the output.\n",
        "* Display the concatenated string using the print function."
      ]
    },
    {
      "cell_type": "code",
      "execution_count": 6,
      "metadata": {
        "colab": {
          "base_uri": "https://localhost:8080/"
        },
        "id": "-bvzc-NVT6Hm",
        "outputId": "a4dd516a-20d9-4baf-e732-0d3e2d0727d3"
      },
      "outputs": [
        {
          "name": "stdout",
          "output_type": "stream",
          "text": [
            "Python Programming\n",
            "Python Programming\n",
            "Python Programming\n"
          ]
        }
      ],
      "source": [
        "s1 = \"Python\"\n",
        "s2 = \"Programming\"\n",
        "\n",
        "print(s1,s2)\n",
        "print(s1+' '+s2)\n",
        "print(f'{s1} {s2}')"
      ]
    },
    {
      "cell_type": "markdown",
      "metadata": {
        "id": "G2rT6uuYYQ7n"
      },
      "source": [
        "Write a Python program that prints the following three lines as separate lines in the output:\n",
        "\n",
        "```\n",
        "Coding is exciting.\n",
        "Python makes it more so.\n",
        "Let's keep learning!\n",
        "```"
      ]
    },
    {
      "cell_type": "code",
      "execution_count": 7,
      "metadata": {
        "colab": {
          "base_uri": "https://localhost:8080/"
        },
        "id": "UgMY2n6tUjHN",
        "outputId": "94a5a09e-ad27-471f-e10d-4cefa256e17e"
      },
      "outputs": [
        {
          "name": "stdout",
          "output_type": "stream",
          "text": [
            "Coding is exciting.\n",
            "Python makes it more so.\n",
            "Let's keep learning!\n"
          ]
        }
      ],
      "source": [
        "l1 = \"Coding is exciting.\"\n",
        "l2 = \"Python makes it more so.\"\n",
        "l3 = \"Let's keep learning!\"\n",
        "\n",
        "print(f\"{l1}\\n{l2}\\n{l3}\")"
      ]
    },
    {
      "cell_type": "code",
      "execution_count": 8,
      "metadata": {
        "colab": {
          "base_uri": "https://localhost:8080/"
        },
        "id": "WZf-8qZdWaNc",
        "outputId": "f9e9dfef-b7e7-418c-dd93-bb1326fd5ef1"
      },
      "outputs": [
        {
          "name": "stdout",
          "output_type": "stream",
          "text": [
            "Python was very popular in 2023\n"
          ]
        }
      ],
      "source": [
        "name = \"Python\"\n",
        "year = 2023\n",
        "\n",
        "print(f'{name} was very popular in {year}')"
      ]
    },
    {
      "cell_type": "markdown",
      "metadata": {
        "id": "sTkhuR7cxSPZ"
      },
      "source": [
        "# input() function"
      ]
    },
    {
      "cell_type": "code",
      "execution_count": 9,
      "metadata": {
        "colab": {
          "base_uri": "https://localhost:8080/"
        },
        "id": "9lxdC2cDU3m0",
        "outputId": "af86ca84-ba18-45c9-db18-6e97a9923404"
      },
      "outputs": [
        {
          "name": "stdout",
          "output_type": "stream",
          "text": [
            "Hello, aBC! you are 12 years old\n"
          ]
        }
      ],
      "source": [
        "# Display a custom prompt to guide user by passing a string argument to the input() function:\n",
        "name = input(\"Please Enter Your Name:: \")\n",
        "age = int(input('Plesae you age: '))\n",
        "print(f\"Hello, {name}! you are {age} years old\")"
      ]
    },
    {
      "cell_type": "markdown",
      "metadata": {
        "id": "S_B1_PzHzQ9X"
      },
      "source": [
        "### Exercises\n",
        "+ Write a Python program that prompts the user for their name using the input function.\n",
        "+ Store the user's input in a variable.\n",
        "+ Use an f-string to include the user's name in a greeting message and print it,\n",
        "\n",
        "e.g., \"Hello, [name]!\" where [name] is replaced by the user's input."
      ]
    },
    {
      "cell_type": "code",
      "execution_count": 10,
      "metadata": {
        "id": "jng2TVAlxkBm"
      },
      "outputs": [
        {
          "name": "stdout",
          "output_type": "stream",
          "text": [
            "Hello, aBV!\n"
          ]
        }
      ],
      "source": [
        "name = input(\"Please enter your name:\")\n",
        "print(f\"Hello, {name}!\")"
      ]
    },
    {
      "cell_type": "markdown",
      "metadata": {
        "id": "Nwnhd6Vh2YUV"
      },
      "source": [
        "### Challenge: Your Superhero Name\n",
        "Your goal is to create a program that generates a personalized superhero name by prompting the user for two pieces of\n",
        "information:\n",
        "* The first adjective found on the 13th page of the book closest to them.\n",
        "* Something that scares them (ideally, a noun). 😱\n",
        "* Using the print and input functions, combine the two inputs into a single superhero name and display it to the\n",
        "user."
      ]
    },
    {
      "cell_type": "code",
      "execution_count": 11,
      "metadata": {
        "colab": {
          "base_uri": "https://localhost:8080/"
        },
        "id": "zxXgqVdbz7Uy",
        "outputId": "ae84725f-df8f-4d34-d06d-1cf73f8295f0"
      },
      "outputs": [
        {
          "name": "stdout",
          "output_type": "stream",
          "text": [
            "Your superhero name is aCFG NHF-a\n"
          ]
        }
      ],
      "source": [
        "# First an adjective\n",
        "adjective  = input('Find The first adjective in the 13th page of the book :: ')\n",
        "noun = input('Enter Something that scares you :: ')\n",
        "# display the super hero name\n",
        "print(f'Your superhero name is {adjective}-{noun}')"
      ]
    },
    {
      "cell_type": "markdown",
      "metadata": {
        "id": "IDr8sk4x-seE"
      },
      "source": [
        "### Variable"
      ]
    },
    {
      "cell_type": "code",
      "execution_count": 12,
      "metadata": {
        "id": "WQUzIIbG_XDe"
      },
      "outputs": [],
      "source": [
        "#Checking Varible"
      ]
    },
    {
      "cell_type": "markdown",
      "metadata": {
        "id": "Afm4LBhi_POq"
      },
      "source": [
        "Variable Type Double Conversion:\n",
        "* Begin by declaring a variable named original_float and assign it the value 9.99.\n",
        "* Convert original_float to an integer and store this value in a new variable named converted_integer.\n",
        "* Now, convert converted_integer back into a float and store this in a variable named converted_back_float.\n",
        "* Finally, print the values of original_float, converted_integer, and converted_back_float in this order, each on a new line."
      ]
    },
    {
      "cell_type": "code",
      "execution_count": 13,
      "metadata": {
        "colab": {
          "base_uri": "https://localhost:8080/"
        },
        "id": "mRrLJiNZgzYX",
        "outputId": "067db7e8-d5f1-48ff-de5b-ae12f7102f62"
      },
      "outputs": [
        {
          "name": "stdout",
          "output_type": "stream",
          "text": [
            "9.99\n",
            "9\n",
            "9.0\n"
          ]
        }
      ],
      "source": [
        "original_float = 9.99\n",
        "converted_integer = int(original_float)\n",
        "converted_back_float = float(converted_integer)\n",
        "\n",
        "print(f\"{original_float}\\n{converted_integer}\\n{converted_back_float}\")\n",
        "\n"
      ]
    },
    {
      "cell_type": "markdown",
      "metadata": {
        "id": "-gzOXH3QfuAb"
      },
      "source": [
        "## Arithmetic Operators"
      ]
    },
    {
      "cell_type": "code",
      "execution_count": 14,
      "metadata": {
        "id": "ekyRVfpsftbE"
      },
      "outputs": [],
      "source": [
        "# Declear varible assign value\n",
        "x = 10\n",
        "y = 5"
      ]
    },
    {
      "cell_type": "code",
      "execution_count": 15,
      "metadata": {
        "colab": {
          "base_uri": "https://localhost:8080/"
        },
        "id": "4FlrtuVWglXJ",
        "outputId": "3d2aef90-49a4-4c60-9c04-3f10b1f4439b"
      },
      "outputs": [
        {
          "name": "stdout",
          "output_type": "stream",
          "text": [
            "15\n"
          ]
        }
      ],
      "source": [
        "#Addition(+)\n",
        "result = x + y\n",
        "print(result)\n"
      ]
    },
    {
      "cell_type": "code",
      "execution_count": 16,
      "metadata": {
        "colab": {
          "base_uri": "https://localhost:8080/"
        },
        "id": "po9_X4fPhGiM",
        "outputId": "5e0f8812-29f4-40ef-c9b1-92c0512bc0c0"
      },
      "outputs": [
        {
          "name": "stdout",
          "output_type": "stream",
          "text": [
            "5\n"
          ]
        }
      ],
      "source": [
        "# Substraction(-)\n",
        "result = x-y\n",
        "print(result)"
      ]
    },
    {
      "cell_type": "code",
      "execution_count": 17,
      "metadata": {
        "colab": {
          "base_uri": "https://localhost:8080/"
        },
        "id": "goU2VloyhZQs",
        "outputId": "935d95ff-cf02-4396-b3b0-9eecabdefd08"
      },
      "outputs": [
        {
          "name": "stdout",
          "output_type": "stream",
          "text": [
            "50\n"
          ]
        }
      ],
      "source": [
        "#Multiplication(*)\n",
        "result = x*y\n",
        "print(result)"
      ]
    },
    {
      "cell_type": "code",
      "execution_count": 18,
      "metadata": {
        "colab": {
          "base_uri": "https://localhost:8080/"
        },
        "id": "VSJSbq9rhoma",
        "outputId": "468862ce-3dfa-47e2-aa0d-8c763c2e48f4"
      },
      "outputs": [
        {
          "name": "stdout",
          "output_type": "stream",
          "text": [
            "2.0\n"
          ]
        }
      ],
      "source": [
        "# Division(/)\n",
        "result = x / y\n",
        "print(result)"
      ]
    },
    {
      "cell_type": "code",
      "execution_count": 19,
      "metadata": {
        "colab": {
          "base_uri": "https://localhost:8080/"
        },
        "id": "dCMJNLKmh7yQ",
        "outputId": "6f47c257-b739-4a8f-f82b-98e8e57d9911"
      },
      "outputs": [
        {
          "name": "stdout",
          "output_type": "stream",
          "text": [
            "0\n"
          ]
        }
      ],
      "source": [
        "# Modules(%)\n",
        "result = x % y\n",
        "print(result)"
      ]
    },
    {
      "cell_type": "code",
      "execution_count": 20,
      "metadata": {
        "colab": {
          "base_uri": "https://localhost:8080/"
        },
        "id": "Gw1ulfIZiQis",
        "outputId": "80448183-3c95-41cc-fc38-a2a3c0eca01c"
      },
      "outputs": [
        {
          "name": "stdout",
          "output_type": "stream",
          "text": [
            "100000\n"
          ]
        }
      ],
      "source": [
        "#Exponention(**)\n",
        "result = x**y\n",
        "print(result)"
      ]
    },
    {
      "cell_type": "code",
      "execution_count": 21,
      "metadata": {
        "colab": {
          "base_uri": "https://localhost:8080/"
        },
        "id": "zGYstrNmikHV",
        "outputId": "a98cc6c5-0198-4032-b667-907d6f935c72"
      },
      "outputs": [
        {
          "name": "stdout",
          "output_type": "stream",
          "text": [
            "2\n"
          ]
        }
      ],
      "source": [
        "# Floor Division\n",
        "result = x // y\n",
        "print(result)"
      ]
    },
    {
      "cell_type": "code",
      "execution_count": 22,
      "metadata": {
        "colab": {
          "base_uri": "https://localhost:8080/"
        },
        "id": "xoLtzy0ui79m",
        "outputId": "3430a3ca-7f0e-4e41-c0e4-d910abdd65cb"
      },
      "outputs": [
        {
          "name": "stdout",
          "output_type": "stream",
          "text": [
            "13\n"
          ]
        }
      ],
      "source": [
        "#Compund assignment operators (+=, -=, *=, /=, **=, //=):\n",
        "x += 3\n",
        "print(x)"
      ]
    },
    {
      "cell_type": "code",
      "execution_count": 23,
      "metadata": {
        "colab": {
          "base_uri": "https://localhost:8080/"
        },
        "id": "weBeCgSkj-6a",
        "outputId": "230e80ee-e7ae-4f12-83a7-b2b61aca17c7"
      },
      "outputs": [
        {
          "name": "stdout",
          "output_type": "stream",
          "text": [
            "16\n"
          ]
        }
      ],
      "source": [
        "x = x+3\n",
        "print(x)"
      ]
    },
    {
      "cell_type": "markdown",
      "metadata": {
        "id": "blaU_kqNkPyB"
      },
      "source": [
        "### Exercises\n",
        "* Examine the provided code where two numbers are defined (number1 and number2).\n",
        "* Compute and display the results of addition, subtraction, multiplication, and division."
      ]
    },
    {
      "cell_type": "code",
      "execution_count": 24,
      "metadata": {
        "id": "rMjpSSZskPZ_"
      },
      "outputs": [],
      "source": [
        "number1 = 10\n",
        "number2 = 2"
      ]
    },
    {
      "cell_type": "code",
      "execution_count": 25,
      "metadata": {
        "colab": {
          "base_uri": "https://localhost:8080/"
        },
        "id": "hl4JBPkXjlCi",
        "outputId": "5afc608a-f755-475e-bb9c-9dd8a09c681a"
      },
      "outputs": [
        {
          "name": "stdout",
          "output_type": "stream",
          "text": [
            "Addition: 12\n",
            "Subtraction: 8\n",
            "multiplication20\n",
            "division: 5.0\n"
          ]
        }
      ],
      "source": [
        " # addition, subtraction, multiplication, and division.\n",
        "\n",
        "addition = number1 + number2\n",
        "subtraction = number1 - number2\n",
        "multiplication = number1 * number2\n",
        "division = number1 / number2\n",
        "\n",
        "print(f\"Addition: {addition}\")\n",
        "print(f\"Subtraction: {subtraction}\")\n",
        "print(f\"multiplication{multiplication}\")\n",
        "print(f\"division: {division}\")\n",
        "\n",
        "\n",
        "\n"
      ]
    },
    {
      "cell_type": "markdown",
      "metadata": {
        "id": "ZG3NqIFNms8R"
      },
      "source": [
        "Imagine you are planning to start your own small business in 5 years and are looking at various saving strategies.\n",
        "\n",
        "One of the options you're considering is a savings account that offers compound interest.\n",
        "\n",
        "You have an initial amount of $1,000 to start with.\n",
        "\n",
        "The bank offers an annual interest rate of 4%, compounded quarterly.\n",
        "\n",
        "You want to calculate how much your initial investment will grow in 5 years under these conditions to help decide if this savings account is a good option for funding your business venture.\n",
        "\n",
        "Provide the output as an integer."
      ]
    },
    {
      "cell_type": "code",
      "execution_count": 26,
      "metadata": {
        "colab": {
          "base_uri": "https://localhost:8080/"
        },
        "id": "DrAEcyh8mqzR",
        "outputId": "336977eb-a14c-44aa-8f7f-e34a81ecca19"
      },
      "outputs": [
        {
          "name": "stdout",
          "output_type": "stream",
          "text": [
            "The accumulated amount after 5 years is $1220\n"
          ]
        }
      ],
      "source": [
        "amount = 1000\n",
        "rate = 0.04\n",
        "years = 5\n",
        "compounded = 4\n",
        "\n",
        "# A = P(1 + R/400)4t\n",
        "\n",
        "# Calculate the compound value\n",
        "accumulated_amount = int(amount * ((1 + rate / compounded) ** (years * compounded)))\n",
        "\n",
        "print(f\"The accumulated amount after {years} years is ${accumulated_amount}\")\n",
        "\n"
      ]
    },
    {
      "cell_type": "markdown",
      "metadata": {
        "id": "DDlqOvtlpoaV"
      },
      "source": [
        "## Python Comparison Operators\n",
        "\n",
        "* Equal(==)\n",
        "* Not Equal(!=)\n",
        "* Greater Than (>)\n",
        "* Less Than (<)\n",
        "* Greater Than Equal to (>=)\n",
        "* Less Than Equal to (<=)\n",
        "\n"
      ]
    },
    {
      "cell_type": "code",
      "execution_count": null,
      "metadata": {},
      "outputs": [],
      "source": [
        "# Declearing the varible\n",
        "x = 5\n",
        "y = 3\n"
      ]
    },
    {
      "cell_type": "code",
      "execution_count": 27,
      "metadata": {
        "id": "89buHj7epV9J"
      },
      "outputs": [
        {
          "data": {
            "text/plain": [
              "False"
            ]
          },
          "execution_count": 27,
          "metadata": {},
          "output_type": "execute_result"
        }
      ],
      "source": [
        "# Equivalance (==)\n",
        "x == y\n"
      ]
    },
    {
      "cell_type": "code",
      "execution_count": 28,
      "metadata": {},
      "outputs": [
        {
          "data": {
            "text/plain": [
              "True"
            ]
          },
          "execution_count": 28,
          "metadata": {},
          "output_type": "execute_result"
        }
      ],
      "source": [
        "# Not Equal (!=)\n",
        "x != y\n"
      ]
    },
    {
      "cell_type": "code",
      "execution_count": 30,
      "metadata": {},
      "outputs": [
        {
          "name": "stdout",
          "output_type": "stream",
          "text": [
            "True\n",
            "True\n"
          ]
        }
      ],
      "source": [
        "# Greater than ( or equal to )\n",
        "print(x > y)\n",
        "print(x >= y)\n"
      ]
    },
    {
      "cell_type": "code",
      "execution_count": null,
      "metadata": {},
      "outputs": [
        {
          "name": "stdout",
          "output_type": "stream",
          "text": [
            "False\n",
            "False\n"
          ]
        }
      ],
      "source": [
        "#Less than (or equal to)\n",
        "print( x < y )\n",
        "print( x <= y)"
      ]
    },
    {
      "cell_type": "markdown",
      "metadata": {},
      "source": [
        "## If elif else"
      ]
    },
    {
      "cell_type": "code",
      "execution_count": 3,
      "metadata": {},
      "outputs": [
        {
          "name": "stdout",
          "output_type": "stream",
          "text": [
            "You are an adult.\n"
          ]
        }
      ],
      "source": [
        "age = int(input(\"Enter your age: \"))\n",
        "\n",
        "if age>= 18:\n",
        "    print(\"You are an adult.\")\n",
        "else:\n",
        "    print(\"You are minor.\")"
      ]
    },
    {
      "cell_type": "code",
      "execution_count": 1,
      "metadata": {},
      "outputs": [
        {
          "name": "stdout",
          "output_type": "stream",
          "text": [
            "Your grade is F\n"
          ]
        }
      ],
      "source": [
        "score = float(input(\"Enter your score:\"))\n",
        "if score >=90:\n",
        "    grade = \"A\"\n",
        "elif score >= 80:\n",
        "    grade = \"B\"\n",
        "elif score >= 70:\n",
        "    grade = \"C\"\n",
        "elif score >= 60:\n",
        "    grade = \"D\"\n",
        "elif score >= 50:\n",
        "    grade = \"E\"\n",
        "else:\n",
        "    grade = \"F\"\n",
        "print(f\"Your grade is {grade}\")"
      ]
    },
    {
      "cell_type": "markdown",
      "metadata": {},
      "source": [
        "Write the If-Else Condition: Implement an if-else condition to check if the person is eligible to vote. In many places, the legal voting age is 18, so your condition should check if the age is greater than or equal to 18.\n",
        "\n",
        "Print the Outcome:\n",
        "\n",
        "If the age is 18 or above, print \"You are eligible to vote.\"\n",
        "\n",
        "Otherwise, print \"You are not eligible to vote\"\n",
        "\n",
        "Run Your Program: Execute your script. Since the age is set to 20, your program should print \"You are eligible to vote.\" as the output.\n",
        "\n",
        "Please note the automated test is case-sensitive."
      ]
    },
    {
      "cell_type": "code",
      "execution_count": 2,
      "metadata": {},
      "outputs": [
        {
          "name": "stdout",
          "output_type": "stream",
          "text": [
            "You are eligible to vote.\n"
          ]
        }
      ],
      "source": [
        "age = 20\n",
        "if age >= 18:\n",
        "    print(\"You are eligible to vote.\")\n",
        "else:\n",
        "    print(\"You are not eligible to vote.\")"
      ]
    }
  ],
  "metadata": {
    "colab": {
      "authorship_tag": "ABX9TyNd5L7O9f+TXXV9uYWIa47P",
      "include_colab_link": true,
      "provenance": []
    },
    "kernelspec": {
      "display_name": "Python 3",
      "name": "python3"
    },
    "language_info": {
      "codemirror_mode": {
        "name": "ipython",
        "version": 3
      },
      "file_extension": ".py",
      "mimetype": "text/x-python",
      "name": "python",
      "nbconvert_exporter": "python",
      "pygments_lexer": "ipython3",
      "version": "3.12.10"
    }
  },
  "nbformat": 4,
  "nbformat_minor": 0
}
