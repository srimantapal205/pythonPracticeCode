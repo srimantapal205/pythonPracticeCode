{
 "cells": [
  {
   "cell_type": "markdown",
   "id": "1f667989",
   "metadata": {},
   "source": [
    "# Challenge: Berghain Club Bouncer\n",
    "Welcome to the Berghain Club Bouncer challenge! 😃 In this Python programming challenge, you will be tasked with\n",
    "simulating the role of a bouncer at the famous Berghain nightclub. Your program will use print and input functions,\n",
    "arithmetic operations, and comparison operators to determine if guests are allowed to enter the club.\n",
    "\n",
    "**Challenge:**\n",
    "You are the bouncer at the entrance of Berghain nightclub. The club has the following rules for entry:\n",
    "\n",
    "* Guests must be at least 18 years old.\n",
    "* Guests must not be older than 60 years old.\n",
    "* The maximum number of guests allowed in the club is 200.\n",
    "\n",
    "Using print and input functions, prompt the user for their age and the current number of guests inside the club. Apply\n",
    "arithmetic operations and comparison operators to determine if the guest can enter the club.\n",
    "\n",
    "* If the guest is allowed to enter, print a message saying, \"Welcome to Berghain!\"\n",
    "* If the guest is not allowed to enter due to age restrictions, print a message saying, \"Sorry, you cannot enter the club due to age restrictions.\"\n",
    "* If the guest is not allowed to enter due to the club being at maximum capacity, print a message saying, \"Sorry, the club is at maximum capacity. Please try again later.\""
   ]
  },
  {
   "cell_type": "code",
   "execution_count": 10,
   "id": "f1136a12",
   "metadata": {},
   "outputs": [
    {
     "name": "stdout",
     "output_type": "stream",
     "text": [
      "Age = 25\n",
      "Current Guests =222\n",
      "Sorry, the club is at maximum capacity. Please try again later.\n"
     ]
    }
   ],
   "source": [
    "# Guests must be at least 18 years old.\n",
    "min_age = 18\n",
    "# Guests must not be older than 60 years old.\n",
    "max_age = 60\n",
    "# The maximum number of guests allowed in the club is 200.\n",
    "max_gusts = 200\n",
    "\n",
    "age = int(input(\"Estimate the age of the gust: \"))\n",
    "print(f\"Age = {age}\")\n",
    "current_gusts = int(input(\"how Many people are currently inside the club:\"))\n",
    "print(f\"Current Guests ={current_gusts}\")\n",
    "\n",
    "# If the guest is allowed to enter, print a message saying, \"Welcome to Berghain!\"\n",
    "# If the guest is not allowed to enter due to age restrictions, print a message saying, \"Sorry, you cannot enter the club due to age restrictions.\"\n",
    "# If the guest is not allowed to enter due to the club being at maximum capacity, print a message saying, \"Sorry, the club is at maximum capacity. Please try again later.\"\n",
    "\n",
    "can_enter_the_club = (current_gusts < max_gusts) and (min_age <= age <= max_age)\n",
    "\n",
    "if can_enter_the_club:\n",
    "    print(\"Welcome to Berghain!\")\n",
    "elif (age < min_age) or (age > max_age):\n",
    "    print(\"Sorry, you cannot enter the club due to age restrictions.\")\n",
    "elif current_gusts > max_gusts:\n",
    "    print(\"Sorry, the club is at maximum capacity. Please try again later.\")\n",
    "else:\n",
    "    print(\"Sorry, you cannot enter the club.\")"
   ]
  },
  {
   "cell_type": "code",
   "execution_count": null,
   "id": "3783bed1",
   "metadata": {},
   "outputs": [],
   "source": []
  }
 ],
 "metadata": {
  "kernelspec": {
   "display_name": "Python 3",
   "language": "python",
   "name": "python3"
  },
  "language_info": {
   "codemirror_mode": {
    "name": "ipython",
    "version": 3
   },
   "file_extension": ".py",
   "mimetype": "text/x-python",
   "name": "python",
   "nbconvert_exporter": "python",
   "pygments_lexer": "ipython3",
   "version": "3.12.10"
  }
 },
 "nbformat": 4,
 "nbformat_minor": 5
}
