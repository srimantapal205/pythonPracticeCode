{
 "cells": [
  {
   "cell_type": "markdown",
   "id": "78ab4579",
   "metadata": {},
   "source": [
    "# Challenge: The Budgeting Mastermind\n",
    "\n",
    "Welcome, brilliant budgeters, to the exhilarating world of the Budgeting Mastermind challenge! In this thrilling test of\n",
    "your coding and financial management skills, you will create an interactive program that helps users take control of\n",
    "their personal finances. They'll be able to track their income, expenses, and overall balance with finesse, making this\n",
    "challenge a powerful training ground for budgeting mastery.\n",
    "\n",
    "To complete this challenge, you must follow these steps:\n",
    "\n",
    "\n",
    "1. Create data structures: Define the necessary data structures for storing the user's transactions, income, and\n",
    "expenses. Use lists and dictionaries to manage and categorize financial data.\n",
    "\n",
    "2. User input loop: Implement a loop to continuously prompt the user to enter their transactions. Ask them to\n",
    "specify whether the transaction is income or an expense, and request the source (for income) or category (for\n",
    "expenses) and the amount.\n",
    "\n",
    "3. Add transactions: When the user inputs a transaction, update the corresponding income or expense dictionary,\n",
    "and store the transaction details in the list of transactions.\n",
    "\n",
    "4. Exit loop: Allow the user to exit the input loop by entering an invalid transaction type.\n",
    "\n",
    "5. Calculate balance: After the loop, compute the user's balance by subtracting the sum of their expenses from the\n",
    "sum of their income.\n",
    "\n",
    "6. Display results: Print the user's transactions, income, expenses, and overall balance in a clear and user-friendly\n",
    "format.\n",
    "\n",
    "7. Embrace the challenge: Have fun!"
   ]
  },
  {
   "cell_type": "code",
   "execution_count": 5,
   "id": "be097c03",
   "metadata": {},
   "outputs": [
    {
     "name": "stdout",
     "output_type": "stream",
     "text": [
      "Income updated : {'salary': 1000.0, 'investments': 0, 'other': 0}\n",
      "Income updated : {'salary': 1000.0, 'investments': 400.0, 'other': 0}\n",
      "Expenses updated : {'groceries': 210.0, 'entertainment': 0, 'shopping': 0, 'other': 0}\n",
      "Transaction summary\n",
      "=====================================\n",
      "[{'transaction_type': 'income', 'source': 'salary', 'amount': 1000.0}, {'transaction_type': 'income', 'source': 'investments', 'amount': 400.0}, {'transaction_type': 'expenses', 'category': 'groceries', 'amount': 210.0}]\n",
      "=====================================\n",
      "Total Income :: 1400.0\n",
      "Total expenses :: 210.0\n",
      "Balance :: 1190.0\n"
     ]
    }
   ],
   "source": [
    "expenses = {'groceries': 0, 'entertainment': 0, 'shopping': 0, 'other': 0}\n",
    "income = {'salary': 0, 'investments': 0, 'other': 0}\n",
    "transaction = []\n",
    "while True:\n",
    "    # Ask if it is income of expenses\n",
    "    transaction_type = input(\"Input it an income or an expense? \")\n",
    "\n",
    "    # If income, caterorize it accrordingly \n",
    "    if transaction_type == 'income':\n",
    "        source = input(\"Enter the source of income (salary, investments, other): \")\n",
    "        amount = float(input(\"Enter the amount: \"))\n",
    "        income[source] += amount\n",
    "        print(f\"Income updated : {income}\")\n",
    "        transaction.append(dict(transaction_type = transaction_type, source = source, amount = amount))\n",
    "\n",
    "\n",
    "    # If expenses, categorize it accordingly\n",
    "    elif transaction_type == 'expenses':\n",
    "        category = input(\"Enter the category of expense ('groceries', 'entertainment', 'shopping', 'other'): \")\n",
    "        amount = float(input(\"Enter the amount: \"))\n",
    "        expenses[category] += amount\n",
    "        print(f\"Expenses updated : {expenses}\")\n",
    "        transaction.append(dict(transaction_type = transaction_type, category = category, amount = amount))\n",
    "    # Otherwise stop\n",
    "    else:\n",
    "        break\n",
    "\n",
    "# transaction summary\n",
    "print(\"Transaction summary\")\n",
    "print(\"=====================================\")\n",
    "print(transaction)\n",
    "print(\"=====================================\")\n",
    "\n",
    "# Calculation\n",
    "total_income = sum(income.values())\n",
    "print(f\"Total Income :: {total_income}\")\n",
    "\n",
    "total_expenses = sum(expenses.values())\n",
    "print(f\"Total expenses :: {total_expenses}\")\n",
    "# Calculate the balance\n",
    "balance = total_income - total_expenses\n",
    "print(f\"Balance :: {balance}\")\n",
    "\n",
    "\n"
   ]
  }
 ],
 "metadata": {
  "kernelspec": {
   "display_name": "Python 3",
   "language": "python",
   "name": "python3"
  },
  "language_info": {
   "codemirror_mode": {
    "name": "ipython",
    "version": 3
   },
   "file_extension": ".py",
   "mimetype": "text/x-python",
   "name": "python",
   "nbconvert_exporter": "python",
   "pygments_lexer": "ipython3",
   "version": "3.12.10"
  }
 },
 "nbformat": 4,
 "nbformat_minor": 5
}
