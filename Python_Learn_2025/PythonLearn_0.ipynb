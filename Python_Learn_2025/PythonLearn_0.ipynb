{
  "nbformat": 4,
  "nbformat_minor": 0,
  "metadata": {
    "colab": {
      "provenance": [],
      "authorship_tag": "ABX9TyMEmQXjOibL55sts+UY6GNd",
      "include_colab_link": true
    },
    "kernelspec": {
      "name": "python3",
      "display_name": "Python 3"
    },
    "language_info": {
      "name": "python"
    }
  },
  "cells": [
    {
      "cell_type": "markdown",
      "metadata": {
        "id": "view-in-github",
        "colab_type": "text"
      },
      "source": [
        "<a href=\"https://colab.research.google.com/github/srimantapal205/pythonPracticeCode/blob/main/Python_Learn_2025/PythonLearn_0.ipynb\" target=\"_parent\"><img src=\"https://colab.research.google.com/assets/colab-badge.svg\" alt=\"Open In Colab\"/></a>"
      ]
    },
    {
      "cell_type": "code",
      "execution_count": 1,
      "metadata": {
        "colab": {
          "base_uri": "https://localhost:8080/"
        },
        "id": "ALCPNiwaMnxw",
        "outputId": "8f70d87f-f609-47cd-d8a3-d1b0efcecf39"
      },
      "outputs": [
        {
          "output_type": "stream",
          "name": "stdout",
          "text": [
            "Hello world\n"
          ]
        }
      ],
      "source": [
        "print(\"Hello world\")"
      ]
    },
    {
      "cell_type": "code",
      "source": [
        "#print input using comas\n",
        "name = 'Xyz'\n",
        "age = 30\n",
        "print(\"My Name is\", name, \" and I am  \", age, \" years old\")"
      ],
      "metadata": {
        "colab": {
          "base_uri": "https://localhost:8080/"
        },
        "id": "kKexlI5jQvEt",
        "outputId": "116ddd60-b17b-453b-c3fa-9185dfd1f7ce"
      },
      "execution_count": 2,
      "outputs": [
        {
          "output_type": "stream",
          "name": "stdout",
          "text": [
            "My Name is Xyz  and I am   30  years old\n"
          ]
        }
      ]
    },
    {
      "cell_type": "code",
      "source": [
        "#Print with string concatenation(+)\n",
        "print(\"My Name is \" + name + \" and I am \" + str(age) + \" years old\")"
      ],
      "metadata": {
        "colab": {
          "base_uri": "https://localhost:8080/"
        },
        "id": "_3AL0Iz7Rh4V",
        "outputId": "69d70910-d666-41ca-b245-77fd444d600b"
      },
      "execution_count": 3,
      "outputs": [
        {
          "output_type": "stream",
          "name": "stdout",
          "text": [
            "My Name is Xyz and I am 30 years old\n"
          ]
        }
      ]
    },
    {
      "cell_type": "code",
      "source": [
        "# F-String it's applicable in Python 3.6+ version\n",
        "print(f\"My name is {name} and I am {age} years old\")"
      ],
      "metadata": {
        "colab": {
          "base_uri": "https://localhost:8080/"
        },
        "id": "KLOapayvSaFY",
        "outputId": "3ea9993d-9957-48ba-cf6b-e7ec58961920"
      },
      "execution_count": 4,
      "outputs": [
        {
          "output_type": "stream",
          "name": "stdout",
          "text": [
            "My name is Xyz and I am 30 years old\n"
          ]
        }
      ]
    },
    {
      "cell_type": "markdown",
      "source": [
        "Write a Python program that displays a sentence.\n",
        "1.   Use the print function to output the following text exactly as it is: \"Learning Python is fun!\"\n",
        "2.   Ensure that your output matches the expected text including punctuation and capitalization."
      ],
      "metadata": {
        "id": "mKsIOycIScXq"
      }
    },
    {
      "cell_type": "code",
      "source": [
        "txt = \"Learning Python is fun!\"\n",
        "print(txt)"
      ],
      "metadata": {
        "colab": {
          "base_uri": "https://localhost:8080/"
        },
        "id": "s_0LqwgqNcD5",
        "outputId": "7957cf90-dc4c-4a6d-d19b-4bb730a9d098"
      },
      "execution_count": 5,
      "outputs": [
        {
          "output_type": "stream",
          "name": "stdout",
          "text": [
            "Learning Python is fun!\n"
          ]
        }
      ]
    },
    {
      "cell_type": "code",
      "source": [],
      "metadata": {
        "id": "PJpo23Q0TwRu"
      },
      "execution_count": 5,
      "outputs": []
    },
    {
      "cell_type": "markdown",
      "source": [
        "Write a Python program to join two strings:\n",
        "\"Python\" and \"Programming\".\n",
        "* Ensure the two words are separated by a space in the output.\n",
        "* Display the concatenated string using the print function."
      ],
      "metadata": {
        "id": "YuD6Ax7cWnFp"
      }
    },
    {
      "cell_type": "code",
      "source": [
        "s1 = \"Python\"\n",
        "s2 = \"Programming\"\n",
        "\n",
        "print(s1,s2)\n",
        "print(s1+' '+s2)\n",
        "print(f'{s1} {s2}')"
      ],
      "metadata": {
        "colab": {
          "base_uri": "https://localhost:8080/"
        },
        "id": "-bvzc-NVT6Hm",
        "outputId": "a4dd516a-20d9-4baf-e732-0d3e2d0727d3"
      },
      "execution_count": 6,
      "outputs": [
        {
          "output_type": "stream",
          "name": "stdout",
          "text": [
            "Python Programming\n",
            "Python Programming\n",
            "Python Programming\n"
          ]
        }
      ]
    },
    {
      "cell_type": "markdown",
      "source": [
        "Write a Python program that prints the following three lines as separate lines in the output:\n",
        "\n",
        "```\n",
        "Coding is exciting.\n",
        "Python makes it more so.\n",
        "Let's keep learning!\n",
        "```"
      ],
      "metadata": {
        "id": "G2rT6uuYYQ7n"
      }
    },
    {
      "cell_type": "code",
      "source": [
        "l1 = \"Coding is exciting.\"\n",
        "l2 = \"Python makes it more so.\"\n",
        "l3 = \"Let's keep learning!\"\n",
        "\n",
        "print(f\"{l1}\\n{l2}\\n{l3}\")"
      ],
      "metadata": {
        "colab": {
          "base_uri": "https://localhost:8080/"
        },
        "id": "UgMY2n6tUjHN",
        "outputId": "94a5a09e-ad27-471f-e10d-4cefa256e17e"
      },
      "execution_count": 7,
      "outputs": [
        {
          "output_type": "stream",
          "name": "stdout",
          "text": [
            "Coding is exciting.\n",
            "Python makes it more so.\n",
            "Let's keep learning!\n"
          ]
        }
      ]
    },
    {
      "cell_type": "code",
      "source": [
        "name = \"Python\"\n",
        "year = 2023\n",
        "\n",
        "print(f'{name} was very popular in {year}')"
      ],
      "metadata": {
        "colab": {
          "base_uri": "https://localhost:8080/"
        },
        "id": "WZf-8qZdWaNc",
        "outputId": "f9e9dfef-b7e7-418c-dd93-bb1326fd5ef1"
      },
      "execution_count": 8,
      "outputs": [
        {
          "output_type": "stream",
          "name": "stdout",
          "text": [
            "Python was very popular in 2023\n"
          ]
        }
      ]
    },
    {
      "cell_type": "markdown",
      "source": [
        "# input() function"
      ],
      "metadata": {
        "id": "sTkhuR7cxSPZ"
      }
    },
    {
      "cell_type": "code",
      "source": [
        "# Display a custom prompt to guide user by passing a string argument to the input() function:\n",
        "name = input(\"Please Enter Your Name:: \")\n",
        "age = int(input('Plesae you age: '))\n",
        "print(f\"Hello, {name}! you are {age} years old\")"
      ],
      "metadata": {
        "id": "9lxdC2cDU3m0"
      },
      "execution_count": null,
      "outputs": []
    },
    {
      "cell_type": "markdown",
      "source": [
        "### Exercises\n",
        "+ Write a Python program that prompts the user for their name using the input function.\n",
        "+ Store the user's input in a variable.\n",
        "+ Use an f-string to include the user's name in a greeting message and print it,\n",
        "\n",
        "e.g., \"Hello, [name]!\" where [name] is replaced by the user's input."
      ],
      "metadata": {
        "id": "S_B1_PzHzQ9X"
      }
    },
    {
      "cell_type": "code",
      "source": [
        "name = input(\"Please enter your name:\")\n",
        "print(f\"Hello, {name}!\")"
      ],
      "metadata": {
        "id": "jng2TVAlxkBm"
      },
      "execution_count": null,
      "outputs": []
    },
    {
      "cell_type": "markdown",
      "source": [
        "### Challenge: Your Superhero Name\n",
        "Your goal is to create a program that generates a personalized superhero name by prompting the user for two pieces of\n",
        "information:\n",
        "* The first adjective found on the 13th page of the book closest to them.\n",
        "* Something that scares them (ideally, a noun). 😱\n",
        "* Using the print and input functions, combine the two inputs into a single superhero name and display it to the\n",
        "user."
      ],
      "metadata": {
        "id": "Nwnhd6Vh2YUV"
      }
    },
    {
      "cell_type": "code",
      "source": [
        "# First an adjective\n",
        "adjective  = input('Find The first adjective in the 13th page of the book :: ')\n",
        "noun = input('Enter Something that scares you :: ')\n",
        "# display the super hero name\n",
        "print(f'Your superhero name is {adjective}-{noun}')"
      ],
      "metadata": {
        "id": "zxXgqVdbz7Uy"
      },
      "execution_count": null,
      "outputs": []
    },
    {
      "cell_type": "markdown",
      "source": [
        "### Variable"
      ],
      "metadata": {
        "id": "IDr8sk4x-seE"
      }
    },
    {
      "cell_type": "code",
      "source": [
        "#Checking Varible"
      ],
      "metadata": {
        "id": "WQUzIIbG_XDe"
      },
      "execution_count": null,
      "outputs": []
    },
    {
      "cell_type": "markdown",
      "source": [
        "Variable Type Double Conversion:\n",
        "* Begin by declaring a variable named original_float and assign it the value 9.99.\n",
        "* Convert original_float to an integer and store this value in a new variable named converted_integer.\n",
        "* Now, convert converted_integer back into a float and store this in a variable named converted_back_float.\n",
        "* Finally, print the values of original_float, converted_integer, and converted_back_float in this order, each on a new line."
      ],
      "metadata": {
        "id": "Afm4LBhi_POq"
      }
    },
    {
      "cell_type": "code",
      "source": [
        "original_float = 9.99\n",
        "converted_integer = int(original_float)\n",
        "converted_back_float = float(converted_integer)\n",
        "\n",
        "print(f\"{original_float}\\n{converted_integer}\\n{converted_back_float}\")\n",
        "\n"
      ],
      "metadata": {
        "id": "mRrLJiNZgzYX"
      },
      "execution_count": null,
      "outputs": []
    },
    {
      "cell_type": "markdown",
      "source": [
        "## Arithmetic Operators"
      ],
      "metadata": {
        "id": "-gzOXH3QfuAb"
      }
    },
    {
      "cell_type": "code",
      "source": [
        "# Declear varible assign value\n",
        "X = 10\n",
        "y = 5"
      ],
      "metadata": {
        "id": "ekyRVfpsftbE"
      },
      "execution_count": null,
      "outputs": []
    },
    {
      "cell_type": "code",
      "source": [
        "#Addition"
      ],
      "metadata": {
        "id": "4FlrtuVWglXJ"
      },
      "execution_count": null,
      "outputs": []
    }
  ]
}