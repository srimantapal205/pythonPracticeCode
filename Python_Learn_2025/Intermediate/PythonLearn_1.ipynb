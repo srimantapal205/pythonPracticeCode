{
 "cells": [
  {
   "cell_type": "markdown",
   "id": "efa8e4d1",
   "metadata": {},
   "source": [
    "## While Loop"
   ]
  },
  {
   "cell_type": "code",
   "execution_count": 4,
   "id": "ff3bfb79",
   "metadata": {},
   "outputs": [
    {
     "name": "stdout",
     "output_type": "stream",
     "text": [
      "people inside in the car: 0\n",
      "people inside in the car: 1\n",
      "people inside in the car: 2\n",
      "people inside in the car: 3\n",
      "people inside in the car: 4\n",
      "the Car is full\n"
     ]
    }
   ],
   "source": [
    "# Uber Driver \n",
    "people_in_car = 0\n",
    "while people_in_car < 5:\n",
    "    print(f\"people inside in the car: {people_in_car}\")\n",
    "    people_in_car += 1\n",
    "\n",
    "print(\"the Car is full\")\n",
    "\n"
   ]
  },
  {
   "cell_type": "code",
   "execution_count": 8,
   "id": "1a380e66",
   "metadata": {},
   "outputs": [
    {
     "name": "stdout",
     "output_type": "stream",
     "text": [
      "The number 0 is even\n",
      "The number 1 is not even\n",
      "The number 2 is even\n",
      "The number 3 is not even\n",
      "The number 4 is even\n",
      "The number 5 is not even\n",
      "The number 6 is even\n",
      "The number 7 is not even\n",
      "The number 8 is even\n",
      "The number 9 is not even\n",
      "The number 10 is even\n",
      "The number 11 is not even\n",
      "The number 12 is even\n",
      "The number 13 is not even\n",
      "The number 14 is even\n",
      "The number 15 is not even\n",
      "The number 16 is even\n",
      "The number 17 is not even\n",
      "The number 18 is even\n",
      "The number 19 is not even\n",
      "The number 20 is even\n"
     ]
    }
   ],
   "source": [
    "#Print all the even numbers from untill 20\n",
    "n = 20\n",
    "i = 0\n",
    "while i <= n:\n",
    "    if i%2 == 0:\n",
    "        print(f\"The number {i} is even\")\n",
    "    else:\n",
    "        print(f\"The number {i} is not even\")\n",
    "    i += 1"
   ]
  },
  {
   "cell_type": "markdown",
   "id": "e24d83fe",
   "metadata": {},
   "source": [
    "1. Initialize the Countdown: Start by creating a variable named countdown and set its initial value to 10. This variable will be used to track the countdown progress.\n",
    "\n",
    "2. Write the While Loop: Implement a while loop that continues to run as long as countdown is greater than or equal to 0. This loop will control the countdown process.\n",
    "\n",
    "3. Implement Conditional Logic:Inside the loop, use an if-else statement to check if countdown is equal to 0.If countdown is 0, print \"Liftoff!\".Otherwise, print \"T-minus {countdown} seconds\" using an f-string to insert the current value of countdown.\n",
    "\n",
    "4. Decrement the Counter: At the end of each iteration of the loop, decrement the value of countdown by 1. This step is crucial to ensure that the loop progresses and eventually terminates.\n",
    "\n",
    "Run the Program: Execute your script. It should print a countdown from 10 to 1, followed by \"Liftoff!\"."
   ]
  },
  {
   "cell_type": "code",
   "execution_count": 14,
   "id": "672077d9",
   "metadata": {},
   "outputs": [
    {
     "name": "stdout",
     "output_type": "stream",
     "text": [
      "T-minus 10 seconds\n",
      "T-minus 9 seconds\n",
      "T-minus 8 seconds\n",
      "T-minus 7 seconds\n",
      "T-minus 6 seconds\n",
      "T-minus 5 seconds\n",
      "T-minus 4 seconds\n",
      "T-minus 3 seconds\n",
      "T-minus 2 seconds\n",
      "T-minus 1 seconds\n",
      "Liftoff!\n"
     ]
    }
   ],
   "source": [
    "countdown = 10\n",
    "while countdown >= 0:\n",
    "    if countdown == 0:\n",
    "        print(\"Liftoff!\") \n",
    "    else:\n",
    "        print(f\"T-minus {countdown} seconds\")\n",
    "    countdown -= 1"
   ]
  },
  {
   "cell_type": "code",
   "execution_count": 16,
   "id": "ee6b02f4",
   "metadata": {},
   "outputs": [
    {
     "name": "stdout",
     "output_type": "stream",
     "text": [
      "T-minus 10 seconds\n",
      "T-minus 9 seconds\n",
      "T-minus 8 seconds\n",
      "T-minus 7 seconds\n",
      "T-minus 6 seconds\n",
      "T-minus 5 seconds\n",
      "T-minus 4 seconds\n",
      "T-minus 3 seconds\n",
      "T-minus 2 seconds\n",
      "T-minus 1 seconds\n",
      "Liftoff!\n"
     ]
    }
   ],
   "source": [
    "\n",
    "import time\n",
    "countdown = 10\n",
    "while countdown >= 0:\n",
    "    if countdown == 0:\n",
    "        print(\"Liftoff!\") \n",
    "    else:\n",
    "        print(f\"T-minus {countdown} seconds\")\n",
    "    time.sleep(1)\n",
    "    countdown -= 1"
   ]
  },
  {
   "cell_type": "markdown",
   "id": "a60d818d",
   "metadata": {},
   "source": [
    "## List"
   ]
  },
  {
   "cell_type": "markdown",
   "id": "8ef9555f",
   "metadata": {},
   "source": []
  }
 ],
 "metadata": {
  "kernelspec": {
   "display_name": "Python 3",
   "language": "python",
   "name": "python3"
  },
  "language_info": {
   "codemirror_mode": {
    "name": "ipython",
    "version": 3
   },
   "file_extension": ".py",
   "mimetype": "text/x-python",
   "name": "python",
   "nbconvert_exporter": "python",
   "pygments_lexer": "ipython3",
   "version": "3.12.10"
  }
 },
 "nbformat": 4,
 "nbformat_minor": 5
}
