{
 "cells": [
  {
   "cell_type": "markdown",
   "id": "eb42eaff",
   "metadata": {},
   "source": [
    "In this Python programming challenge, you will create a simple yet handy tip calculator that not only calculates the tip\n",
    "amount and the total cost of a meal at a restaurant but also divides the total cost among the number of people at the\n",
    "table. 😋 You'll use Python operators to build this practical tool that showcases the power of Python operators!\n",
    "\n",
    "Challenge:\n",
    "Your goal is to create a program that calculates the tip amount, the total cost of a meal at a restaurant, and the cost per\n",
    "person, based on the user's input. To accomplish this, you will use Python operators and the following steps:\n",
    "\n",
    "Enjoy building your very own tip calculator with a split bill feature and explore the capabilities of Python operators!\n",
    "Good luck and have fun!\n",
    "1. Prompt the user for the total cost of the meal.\n",
    "2. Prompt the user for the tip percentage they would like to apply.\n",
    "3. Prompt the user for the number of people at the table.\n",
    "4. Calculate the tip amount using the tip percentage and the meal cost.\n",
    "5. Calculate the total cost of the meal, including the tip.\n",
    "6. Divide the total cost by the number of people at the table.\n",
    "7. Display the tip amount, total cost, and cost per person to the user."
   ]
  },
  {
   "cell_type": "code",
   "execution_count": 7,
   "id": "66f77e84",
   "metadata": {},
   "outputs": [
    {
     "name": "stdout",
     "output_type": "stream",
     "text": [
      "The meal cost is: $ 123.00 \n",
      "Teap amount: $ 14.76 \n",
      "The total cost  137.76 \n",
      "Cost per persion: $ 34.44\n"
     ]
    }
   ],
   "source": [
    "# 1. Prompt the user for the total cost of the meal.\n",
    "meal_cost = float(input(\"Enter the total cost of the meal: \"))\n",
    "\n",
    "# 2. Prompt the user for the tip percentage they would like to apply.\n",
    "tip_percentage = float(input(\"Enter the tip percentage (e.g., 15 for 15%) : \"))\n",
    "\n",
    "# 3. Prompt the user for the number of people at the table.\n",
    "num_people = int(input(\"Enter the number of people at the table: \"))\n",
    "\n",
    "# 4. Calculate the tip amount using the tip percentage and the meal cost.\n",
    "tip_amount = (tip_percentage/100) * meal_cost\n",
    "\n",
    "# 5. Calculate the total cost of the meal, including the tip.\n",
    "total_cost = meal_cost + tip_amount\n",
    "\n",
    "# 6. Divide the total cost by the number of people at the table.\n",
    "total_cost_per_person = total_cost / num_people\n",
    "\n",
    "# 7. Display the tip amount, total cost, and cost per person to the user.\n",
    "print(f\"The meal cost is: ${meal_cost : .2f} \\nTeap amount: ${tip_amount : .2f} \\nThe total cost {total_cost : .2f} \\nCost per persion: ${total_cost_per_person : .2f}\")\n"
   ]
  },
  {
   "cell_type": "markdown",
   "id": "ba8311fd",
   "metadata": {},
   "source": []
  }
 ],
 "metadata": {
  "kernelspec": {
   "display_name": "Python 3",
   "language": "python",
   "name": "python3"
  },
  "language_info": {
   "codemirror_mode": {
    "name": "ipython",
    "version": 3
   },
   "file_extension": ".py",
   "mimetype": "text/x-python",
   "name": "python",
   "nbconvert_exporter": "python",
   "pygments_lexer": "ipython3",
   "version": "3.12.10"
  }
 },
 "nbformat": 4,
 "nbformat_minor": 5
}
