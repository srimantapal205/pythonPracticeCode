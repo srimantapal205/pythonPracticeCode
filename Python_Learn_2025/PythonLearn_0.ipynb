{
  "nbformat": 4,
  "nbformat_minor": 0,
  "metadata": {
    "colab": {
      "provenance": [],
      "authorship_tag": "ABX9TyM/Pecvj3SAV2+MKo1aTZAW",
      "include_colab_link": true
    },
    "kernelspec": {
      "name": "python3",
      "display_name": "Python 3"
    },
    "language_info": {
      "name": "python"
    }
  },
  "cells": [
    {
      "cell_type": "markdown",
      "metadata": {
        "id": "view-in-github",
        "colab_type": "text"
      },
      "source": [
        "<a href=\"https://colab.research.google.com/github/srimantapal205/pythonPracticeCode/blob/main/Python_Learn_2025/PythonLearn_0.ipynb\" target=\"_parent\"><img src=\"https://colab.research.google.com/assets/colab-badge.svg\" alt=\"Open In Colab\"/></a>"
      ]
    },
    {
      "cell_type": "code",
      "execution_count": 19,
      "metadata": {
        "colab": {
          "base_uri": "https://localhost:8080/"
        },
        "id": "ALCPNiwaMnxw",
        "outputId": "dec60798-405d-4d93-aeaf-5881ecd26e7d"
      },
      "outputs": [
        {
          "output_type": "stream",
          "name": "stdout",
          "text": [
            "Hello world\n"
          ]
        }
      ],
      "source": [
        "print(\"Hello world\")"
      ]
    },
    {
      "cell_type": "code",
      "source": [
        "#print input using comas\n",
        "name = 'Xyz'\n",
        "age = 30\n",
        "print(\"My Name is\", name, \" and I am  \", age, \" years old\")"
      ],
      "metadata": {
        "colab": {
          "base_uri": "https://localhost:8080/"
        },
        "id": "kKexlI5jQvEt",
        "outputId": "de7c10ea-61b6-4c6a-c255-9d1e6552fac7"
      },
      "execution_count": 20,
      "outputs": [
        {
          "output_type": "stream",
          "name": "stdout",
          "text": [
            "My Name is Xyz  and I am   30  years old\n"
          ]
        }
      ]
    },
    {
      "cell_type": "code",
      "source": [
        "#Print with string concatenation(+)\n",
        "print(\"My Name is \" + name + \" and I am \" + str(age) + \" years old\")"
      ],
      "metadata": {
        "colab": {
          "base_uri": "https://localhost:8080/"
        },
        "id": "_3AL0Iz7Rh4V",
        "outputId": "fe1c3b71-bcc7-46ec-ec10-9b76d106d80d"
      },
      "execution_count": 21,
      "outputs": [
        {
          "output_type": "stream",
          "name": "stdout",
          "text": [
            "My Name is Xyz and I am 30 years old\n"
          ]
        }
      ]
    },
    {
      "cell_type": "code",
      "source": [
        "# F-String it's applicable in Python 3.6+ version\n",
        "print(f\"My name is {name} and I am {age} years old\")"
      ],
      "metadata": {
        "colab": {
          "base_uri": "https://localhost:8080/"
        },
        "id": "KLOapayvSaFY",
        "outputId": "02eaa4df-b524-4613-88c4-faf3238fc8d0"
      },
      "execution_count": 22,
      "outputs": [
        {
          "output_type": "stream",
          "name": "stdout",
          "text": [
            "My name is Xyz and I am 30 years old\n"
          ]
        }
      ]
    },
    {
      "cell_type": "markdown",
      "source": [
        "Write a Python program that displays a sentence.\n",
        "1.   Use the print function to output the following text exactly as it is: \"Learning Python is fun!\"\n",
        "2.   Ensure that your output matches the expected text including punctuation and capitalization."
      ],
      "metadata": {
        "id": "mKsIOycIScXq"
      }
    },
    {
      "cell_type": "code",
      "source": [
        "txt = \"Learning Python is fun!\"\n",
        "print(txt)"
      ],
      "metadata": {
        "colab": {
          "base_uri": "https://localhost:8080/"
        },
        "id": "s_0LqwgqNcD5",
        "outputId": "be019406-02be-4611-db73-e3b02b15851a"
      },
      "execution_count": 23,
      "outputs": [
        {
          "output_type": "stream",
          "name": "stdout",
          "text": [
            "Learning Python is fun!\n"
          ]
        }
      ]
    },
    {
      "cell_type": "code",
      "source": [],
      "metadata": {
        "id": "PJpo23Q0TwRu"
      },
      "execution_count": 23,
      "outputs": []
    },
    {
      "cell_type": "markdown",
      "source": [
        "Write a Python program to join two strings:\n",
        "\"Python\" and \"Programming\".\n",
        "* Ensure the two words are separated by a space in the output.\n",
        "* Display the concatenated string using the print function."
      ],
      "metadata": {
        "id": "YuD6Ax7cWnFp"
      }
    },
    {
      "cell_type": "code",
      "source": [
        "s1 = \"Python\"\n",
        "s2 = \"Programming\"\n",
        "\n",
        "print(s1,s2)\n",
        "print(s1+' '+s2)\n",
        "print(f'{s1} {s2}')"
      ],
      "metadata": {
        "colab": {
          "base_uri": "https://localhost:8080/"
        },
        "id": "-bvzc-NVT6Hm",
        "outputId": "eb7bd4c2-f40b-44e6-cf26-6fe141623d38"
      },
      "execution_count": 24,
      "outputs": [
        {
          "output_type": "stream",
          "name": "stdout",
          "text": [
            "Python Programming\n",
            "Python Programming\n",
            "Python Programming\n"
          ]
        }
      ]
    },
    {
      "cell_type": "markdown",
      "source": [
        "Write a Python program that prints the following three lines as separate lines in the output:\n",
        "\n",
        "```\n",
        "Coding is exciting.\n",
        "Python makes it more so.\n",
        "Let's keep learning!\n",
        "```"
      ],
      "metadata": {
        "id": "G2rT6uuYYQ7n"
      }
    },
    {
      "cell_type": "code",
      "source": [
        "l1 = \"Coding is exciting.\"\n",
        "l2 = \"Python makes it more so.\"\n",
        "l3 = \"Let's keep learning!\"\n",
        "\n",
        "print(f\"{l1}\\n{l2}\\n{l3}\")"
      ],
      "metadata": {
        "colab": {
          "base_uri": "https://localhost:8080/"
        },
        "id": "UgMY2n6tUjHN",
        "outputId": "e6afd73c-7424-40f5-b428-d00dedb7108a"
      },
      "execution_count": 25,
      "outputs": [
        {
          "output_type": "stream",
          "name": "stdout",
          "text": [
            "Coding is exciting.\n",
            "Python makes it more so.\n",
            "Let's keep learning!\n"
          ]
        }
      ]
    },
    {
      "cell_type": "code",
      "source": [
        "name = \"Python\"\n",
        "year = 2023\n",
        "\n",
        "print(f'{name} was very popular in {year}')"
      ],
      "metadata": {
        "colab": {
          "base_uri": "https://localhost:8080/"
        },
        "id": "WZf-8qZdWaNc",
        "outputId": "92838ed3-d891-496c-e1d6-5bbd5b71f7fc"
      },
      "execution_count": 26,
      "outputs": [
        {
          "output_type": "stream",
          "name": "stdout",
          "text": [
            "Python was very popular in 2023\n"
          ]
        }
      ]
    },
    {
      "cell_type": "markdown",
      "source": [
        "# input() function"
      ],
      "metadata": {
        "id": "sTkhuR7cxSPZ"
      }
    },
    {
      "cell_type": "code",
      "source": [
        "# Display a custom prompt to guide user by passing a string argument to the input() function:\n",
        "name = input(\"Please Enter Your Name:: \")\n",
        "age = int(input('Plesae you age: '))\n",
        "print(f\"Hello, {name}! you are {age} years old\")"
      ],
      "metadata": {
        "id": "9lxdC2cDU3m0",
        "colab": {
          "base_uri": "https://localhost:8080/"
        },
        "outputId": "1c80bbcb-6c68-4d8d-f423-c568fa0b160f"
      },
      "execution_count": 27,
      "outputs": [
        {
          "output_type": "stream",
          "name": "stdout",
          "text": [
            "Please Enter Your Name:: Xyz\n",
            "Plesae you age: 12\n",
            "Hello, Xyz! you are 12 years old\n"
          ]
        }
      ]
    },
    {
      "cell_type": "markdown",
      "source": [
        "### Exercises\n",
        "+ Write a Python program that prompts the user for their name using the input function.\n",
        "+ Store the user's input in a variable.\n",
        "+ Use an f-string to include the user's name in a greeting message and print it,\n",
        "\n",
        "e.g., \"Hello, [name]!\" where [name] is replaced by the user's input."
      ],
      "metadata": {
        "id": "S_B1_PzHzQ9X"
      }
    },
    {
      "cell_type": "code",
      "source": [
        "name = input(\"Please enter your name:\")\n",
        "print(f\"Hello, {name}!\")"
      ],
      "metadata": {
        "colab": {
          "base_uri": "https://localhost:8080/"
        },
        "id": "jng2TVAlxkBm",
        "outputId": "640b8cfb-2e84-4cba-a255-d7bb5e5f4bc3"
      },
      "execution_count": 28,
      "outputs": [
        {
          "output_type": "stream",
          "name": "stdout",
          "text": [
            "Please enter your name:Xyz\n",
            "Hello, Xyz!\n"
          ]
        }
      ]
    },
    {
      "cell_type": "markdown",
      "source": [
        "### Challenge: Your Superhero Name\n",
        "Your goal is to create a program that generates a personalized superhero name by prompting the user for two pieces of\n",
        "information:\n",
        "* The first adjective found on the 13th page of the book closest to them.\n",
        "* Something that scares them (ideally, a noun). 😱\n",
        "* Using the print and input functions, combine the two inputs into a single superhero name and display it to the\n",
        "user."
      ],
      "metadata": {
        "id": "Nwnhd6Vh2YUV"
      }
    },
    {
      "cell_type": "code",
      "source": [
        "# First an adjective\n",
        "adjective  = input('Find The first adjective in the 13th page of the book :: ')\n",
        "noun = input('Enter Something that scares you :: ')\n",
        "# display the super hero name\n",
        "print(f'Your superhero name is {adjective}-{noun}')"
      ],
      "metadata": {
        "colab": {
          "base_uri": "https://localhost:8080/"
        },
        "id": "zxXgqVdbz7Uy",
        "outputId": "8c4cf54d-9938-48df-f848-9bfec82865e8"
      },
      "execution_count": 29,
      "outputs": [
        {
          "output_type": "stream",
          "name": "stdout",
          "text": [
            "Find The first adjective in the 13th page of the book :: Fin\n",
            "Enter Something that scares you :: Featch\n",
            "Your superhero name is Fin-Featch\n"
          ]
        }
      ]
    },
    {
      "cell_type": "markdown",
      "source": [
        "### Variable"
      ],
      "metadata": {
        "id": "IDr8sk4x-seE"
      }
    },
    {
      "cell_type": "code",
      "source": [
        "#Checking Varible"
      ],
      "metadata": {
        "id": "WQUzIIbG_XDe"
      },
      "execution_count": null,
      "outputs": []
    },
    {
      "cell_type": "markdown",
      "source": [
        "Variable Type Double Conversion:\n",
        "* Begin by declaring a variable named original_float and assign it the value 9.99.\n",
        "* Convert original_float to an integer and store this value in a new variable named converted_integer.\n",
        "* Now, convert converted_integer back into a float and store this in a variable named converted_back_float.\n",
        "* Finally, print the values of original_float, converted_integer, and converted_back_float in this order, each on a new line."
      ],
      "metadata": {
        "id": "Afm4LBhi_POq"
      }
    }
  ]
}