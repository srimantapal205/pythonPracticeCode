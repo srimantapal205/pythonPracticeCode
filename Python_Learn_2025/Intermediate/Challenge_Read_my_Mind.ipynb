{
 "cells": [
  {
   "cell_type": "markdown",
   "id": "27d85905",
   "metadata": {},
   "source": [
    "# Challenge: Read my Mind\n",
    "\n",
    "Welcome, brave souls, to the enigmatic world of the Read My Mind challenge! To complete this extraordinary test of\n",
    "intuition, strategy, and luck, you must follow these steps:\n",
    "\n",
    "\n",
    "1. **Generate a secret number:** Write a program that uses Python's built-in random module to create a random\n",
    "integer between 1 and 100. This mystical number will be the secret that you must uncover.\n",
    "\n",
    "2. **Set your attempts:** Allow the user only 5 attempts to guess the secret number correctly. Keep track of the\n",
    "remaining attempts as the game progresses.\n",
    "\n",
    "3. **Accept user input:** Prompt the user to enter their guess for the secret number. Make sure to convert their input\n",
    "into an integer.\n",
    "\n",
    "4. **Provide hints:** For each incorrect guess, give the user a hint to guide their next attempt. Inform them if they need\n",
    "to guess higher or lower.\n",
    "\n",
    "5. **Track attempts:** With each guess, decrement the number of remaining attempts.\n",
    "Determine the outcome: If the user successfully guesses the secret number within the allowed attempts,\n",
    "congratulate them on their victory! If the user fails to guess the number after 5 attempts, reveal the secret\n",
    "number and let them know they have been defeated.\n",
    "\n",
    "Prepare yourself for an exhilarating journey as you attempt to uncover the secret number that lurks within your\n",
    "computer's digital mind. Will you triumph over the challenge, or will the enigma remain unsolved? The fate of the\n",
    "game rests in your hands! Good luck, and may the odds be ever in your favor!"
   ]
  },
  {
   "cell_type": "code",
   "execution_count": 1,
   "id": "2e053716",
   "metadata": {},
   "outputs": [],
   "source": [
    "import random"
   ]
  },
  {
   "cell_type": "code",
   "execution_count": null,
   "id": "51ca1e76",
   "metadata": {},
   "outputs": [
    {
     "name": "stdout",
     "output_type": "stream",
     "text": [
      "83\n",
      "your guess is : 45\n",
      "Your guess is to low\n",
      "your guess is : 45\n",
      "Your guess is to low\n",
      "your guess is : 83\n",
      "Congratulations! You guessed the number 83 correctly!\n"
     ]
    }
   ],
   "source": [
    "# This program generates a random number between 1 and 100\n",
    "number = random.randint(1, 100)\n",
    "#print(number)\n",
    "\n",
    "#Setup your attempts\n",
    "attempts = 5\n",
    "\n",
    "#Declear all varibles\n",
    "user_guess = None\n",
    "\n",
    "while (attempts > 0) and (user_guess != number):\n",
    "   \n",
    "    # User guess input\n",
    "    user_guess = int(input(\"Guess a number between 1 and 100: \"))\n",
    "    print(\"your guess is : \" + str(user_guess))\n",
    "\n",
    "    if user_guess > number:\n",
    "        print(\"Your guess is to high\")\n",
    "    elif user_guess < number:\n",
    "        print(\"Your guess is to low\")\n",
    "    else:\n",
    "        None\n",
    "\n",
    "    attempts -= 1\n",
    "\n",
    "if user_guess == number:\n",
    "    print(f\"Congratulations! You guessed the number {number} correctly!\")\n",
    "else:\n",
    "    print(f\"Sorry! You've used all your attempts. The number was {number}.\")\n",
    "\n",
    "\n"
   ]
  },
  {
   "cell_type": "markdown",
   "id": "334c9f0e",
   "metadata": {},
   "source": []
  }
 ],
 "metadata": {
  "kernelspec": {
   "display_name": "Python 3",
   "language": "python",
   "name": "python3"
  },
  "language_info": {
   "codemirror_mode": {
    "name": "ipython",
    "version": 3
   },
   "file_extension": ".py",
   "mimetype": "text/x-python",
   "name": "python",
   "nbconvert_exporter": "python",
   "pygments_lexer": "ipython3",
   "version": "3.12.10"
  }
 },
 "nbformat": 4,
 "nbformat_minor": 5
}
