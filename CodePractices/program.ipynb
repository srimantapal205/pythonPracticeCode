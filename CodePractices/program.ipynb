{
 "cells": [
  {
   "cell_type": "markdown",
   "metadata": {},
   "source": [
    "## Program 1 : Write a Python program to print \"Hello Python\"."
   ]
  },
  {
   "cell_type": "code",
   "execution_count": null,
   "metadata": {},
   "outputs": [],
   "source": [
    "print(\"Hello World\")"
   ]
  },
  {
   "cell_type": "markdown",
   "metadata": {},
   "source": [
    "## PROGRAM 2 : Write a Python program to do arithmetical operations addition and division."
   ]
  },
  {
   "cell_type": "code",
   "execution_count": null,
   "metadata": {},
   "outputs": [],
   "source": [
    "number1 = int(input(\"Enter frisrt number: \"))\n",
    "number2 = int(input(\"Enter second number: \"))\n",
    "\n",
    "# Addition functional based\n",
    "def addition (n1, n2):\n",
    "    print(f'First Number ::{n1}')\n",
    "    print(f'Second Number ::{n2}')\n",
    "    return n1 + n2\n",
    "additionValue = addition(number1, number2)\n",
    "print(f'Addition Value is: {additionValue}')\n",
    "\n",
    "# Addition Single line\n",
    "additionValue2 = number1 + number2\n",
    "print( f'Addition without function {number1} + {number2} = {additionValue2} ')\n",
    "\n"
   ]
  },
  {
   "cell_type": "code",
   "execution_count": null,
   "metadata": {},
   "outputs": [],
   "source": [
    "#Division \n",
    "#Functional based\n",
    "number3 = int(input('Enter first number: '))\n",
    "number4 = int(input('Enter second number: '))\n",
    "\n",
    "if number4 == 0:\n",
    "    print(\"Devision by zero not allowed\")\n",
    "\n",
    "def division(n1, n2):\n",
    "    print(f\"First number: {n1}\")\n",
    "    print(f\"First number: {n2}\")\n",
    "    return n1/n2\n",
    "\n",
    "divisionValue= division(number3, number4)\n",
    "print(f\"The division value is: {divisionValue}\")\n",
    "\n",
    "# in single line\n",
    "divisionResult = number3 / number4 if number4 != 0 else \"undefined\"\n",
    "print(f'Single line division is : {divisionResult}')"
   ]
  },
  {
   "cell_type": "markdown",
   "metadata": {},
   "source": [
    "### Program 3 : Write a Python program to find the area of a triangle."
   ]
  },
  {
   "cell_type": "code",
   "execution_count": null,
   "metadata": {},
   "outputs": [],
   "source": [
    "# Enter the base and height from the user\n",
    "base = float(input(\"Enter the length of the base of the tringle: \"))\n",
    "height = float(input(\"Enter the height of the triangle: \"))\n",
    "\n",
    "#Calculate the area of the tringle.\n",
    "def calculateArea(b, h):\n",
    "    print(f'The base value is :: {b}')\n",
    "    print(f'The height is :: {h}')\n",
    "    a = 0.5 * b * h\n",
    "    return a\n",
    "\n",
    "area = calculateArea(base, height)\n",
    "print(f'The area of the triangle is :: {area}')\n",
    "\n",
    "    \n",
    "    \n"
   ]
  },
  {
   "cell_type": "markdown",
   "metadata": {},
   "source": [
    "### Program 4 : Write a Python program to swap two variables."
   ]
  },
  {
   "cell_type": "code",
   "execution_count": null,
   "metadata": {},
   "outputs": [],
   "source": [
    "\n",
    "number1 = int(input('Enter first number :: '))\n",
    "number2 = int(input('Enter second number :: '))\n",
    "\n",
    "def swapNumber(n1, n2):\n",
    "    print(f'The first number :: {n1}') \n",
    "    print(f'The second number :: {n2}')\n",
    "    n1 = n1 + n2\n",
    "    n2 = n1 - n2\n",
    "    n1 = n1 - n2\n",
    "    print(f'The swap of second number to first number :: {n1}') \n",
    "    print(f'The swap of first  number to second number :: {n2}') \n",
    "    \n",
    "swapNumber(number1,number2)"
   ]
  },
  {
   "cell_type": "markdown",
   "metadata": {},
   "source": [
    "### Program 5 : Write a Python program to generate a random number"
   ]
  },
  {
   "cell_type": "code",
   "execution_count": null,
   "metadata": {},
   "outputs": [],
   "source": [
    "import random\n",
    "\n",
    "randomValue = random.randint(1, 10)\n",
    "print(f'Random number is : {randomValue}')"
   ]
  },
  {
   "cell_type": "markdown",
   "metadata": {},
   "source": [
    "### Program 6: Write a Python program to convert kilometers to miles.\n",
    "1 kilometer = 0.62137119 miles."
   ]
  },
  {
   "cell_type": "code",
   "execution_count": null,
   "metadata": {},
   "outputs": [],
   "source": [
    "km = float(input('Enter the kilometers value :: '))\n",
    "\n",
    "def kmTomile(k):\n",
    "    \n",
    "    miles = k * 0.62137119\n",
    "    return miles\n",
    "milesValue = kmTomile(km)\n",
    "\n",
    "print(f'The Kilometers value is :: {milesValue} miles')\n"
   ]
  },
  {
   "cell_type": "markdown",
   "metadata": {},
   "source": [
    "### Program 7 : Write a Python program to convert Celsius to Fahrenheit."
   ]
  },
  {
   "cell_type": "code",
   "execution_count": null,
   "metadata": {},
   "outputs": [],
   "source": [
    "cel = float(input('Enter temputure by Celsius :: '))\n",
    "#Conversion formula: Fahrenheit = (Celsius * 9/5) + 32\n",
    "def convertCeltoFahrenheit(cel):\n",
    "    print(f'Celsius = {cel}')\n",
    "    fa = (cel * 9/5) + 32\n",
    "    return fa\n",
    "\n",
    "faen = convertCeltoFahrenheit(cel)\n",
    "print(f'Fahrenheit = {faen}')\n",
    "\n",
    "    "
   ]
  },
  {
   "cell_type": "markdown",
   "metadata": {},
   "source": [
    "### Program 8: Write a Python program to display calendar."
   ]
  },
  {
   "cell_type": "code",
   "execution_count": null,
   "metadata": {},
   "outputs": [],
   "source": [
    "import calendar\n",
    "year = int(input('Enter your year:: '))\n",
    "month =int(input('Enter yoyr month number :: '))\n",
    "\n",
    "displayCalender = calendar.month(year, month)\n",
    "print(f'Year == {year}')\n",
    "print(f'Month == {month}')\n",
    "print(displayCalender)"
   ]
  },
  {
   "cell_type": "markdown",
   "metadata": {},
   "source": [
    "### Program 9\n",
    "##### ***Write a Python program to solve quadratic equation. ***\n",
    "##### ***The standard form of a quadratic equation is:***\n",
    "##### ***where***\n",
    "##### ***a, b and c are real numbers and***\n",
    "##### ***The solutions of this quadratic equation is given by:***\n",
    "##### ***𝑎𝑥 + 𝑏𝑥 + 𝑐 = 0 2***\n",
    "##### ***𝑎 ≠ 0***\n",
    "##### ***(−𝑏 ± (𝑏 − 4𝑎𝑐 )/(2𝑎)***"
   ]
  },
  {
   "cell_type": "code",
   "execution_count": null,
   "metadata": {},
   "outputs": [],
   "source": [
    "import math\n",
    "\n",
    "#Input coefficent number\n",
    "a = float(input('Enter coefficent a : '))\n",
    "b = float(input('Enter coefficent b : '))\n",
    "c = float(input('Enter coefficent c : '))\n",
    "\n",
    "#Print coefficent number\n",
    "print(f'Coefficent a = {a}')\n",
    "print(f'Coefficent b = {b}')\n",
    "print(f'Coefficent c = {c}')\n",
    "\n",
    "#Calculate the discriminant value\n",
    "discriminant = b**2 - 4*a*c\n",
    "\n",
    "# Check if the discriminant is positive, negative or zero\n",
    "if discriminant > 0:\n",
    "    #Two real and distinct root\n",
    "    root1 = (-b + math.sqrt(discriminant)) /(2*a)\n",
    "    root2 = (-b - math.sqrt(discriminant)) /(2*a)\n",
    "    print(f'Root 1 :: {root1}')\n",
    "    print(f'Root 2 :: {root2}')\n",
    "elif discriminant == 0:\n",
    "    root = -b/(2*a)\n",
    "    print(f'Root = {root}')\n",
    "else:\n",
    "    #Complex roots\n",
    "    realPart = -b/(2*a)\n",
    "    imaginaryPart = math.sqrt(abs(discriminant)) / (2*a)\n",
    "    \n",
    "    print(f'Root 1 :: {realPart} + {imaginaryPart}i')\n",
    "    print(f'Root 2 :: {realPart} - {imaginaryPart}i')\n",
    "\n",
    "\n"
   ]
  },
  {
   "cell_type": "markdown",
   "metadata": {},
   "source": [
    "### Program 10 : Write a Python program to swap two variables without temp variable and any calculation."
   ]
  },
  {
   "cell_type": "code",
   "execution_count": null,
   "metadata": {},
   "outputs": [],
   "source": [
    "number1 = int(input('Enter first number :: '))\n",
    "number2 = int(input('Enter second number :: '))\n",
    "\n",
    "def swapNumberV2(n1, n2):\n",
    "    print(f'The first number :: {n1}') \n",
    "    print(f'The second number :: {n2}')\n",
    "    n1,n2 = n2,n1\n",
    "    print(f'The swap of second number to first number :: {n1}') \n",
    "    print(f'The swap of first  number to second number :: {n2}') \n",
    "    \n",
    "swapNumberV2(number1,number2)"
   ]
  },
  {
   "cell_type": "markdown",
   "metadata": {},
   "source": [
    "### Program 11 : Write a Python Program to Check if a Number is Positive, Negative or Zero."
   ]
  },
  {
   "cell_type": "code",
   "execution_count": null,
   "metadata": {},
   "outputs": [],
   "source": [
    "def chckNumbertype(number):\n",
    "    if number>0:\n",
    "        print(f'Number {number} is Positive :)')\n",
    "    elif number == 0:\n",
    "        print(f'Number {number} is match with 0')\n",
    "    else:\n",
    "        print(f'This is negative number : {number}')\n",
    "\n",
    "chckNumbertype(9)\n",
    "chckNumbertype(-9)\n",
    "chckNumbertype(0)\n",
    "\n"
   ]
  },
  {
   "cell_type": "markdown",
   "metadata": {},
   "source": [
    "### Program 12 : Write a Python Program to Check if a Number is Odd or Even."
   ]
  },
  {
   "cell_type": "code",
   "execution_count": null,
   "metadata": {},
   "outputs": [],
   "source": [
    "inputNumber = int(input('Enter a number :: '))\n",
    "\n",
    "def checkOddEven(item):\n",
    "    print(f'Enter number is :: {item}')\n",
    "    if item%2 == 0:\n",
    "        print (f'This number {item} is Even number')\n",
    "    else:\n",
    "        print (f'This number {item} is Odd number')\n",
    "\n",
    "checkOddEven(inputNumber)        "
   ]
  },
  {
   "cell_type": "markdown",
   "metadata": {},
   "source": [
    "### Program 13 Write a Python Program to Check Leap Year."
   ]
  },
  {
   "cell_type": "code",
   "execution_count": null,
   "metadata": {},
   "outputs": [],
   "source": [
    "#year = int(input('Enter a year :: '))\n",
    "\n",
    "# divided by 100 means century year (ending with 00)\n",
    "# century year divided by 400 is leap year\n",
    "\n",
    "def checkLeapYear(y):\n",
    "    print(f'The year is :: {y}')\n",
    "    if (y%400 == 0) and (y%100 == 0):\n",
    "        print(f'The year {y} is a leap year :)')\n",
    "    elif(y%4 == 0) and (y%100 != 0):\n",
    "        print(f'The year {y} is leap year')\n",
    "    else:\n",
    "        print(f'Sorry ! The year {y} is not leap year')\n",
    "#checkLeapYear(year)        \n",
    "checkLeapYear(2022)        \n",
    "checkLeapYear(2024)        "
   ]
  },
  {
   "cell_type": "markdown",
   "metadata": {},
   "source": [
    "### Program 14\n",
    "#### Write a Python Program to Check Prime Number.\n",
    "#### Prime Numbers:\n",
    "A prime number is a whole number that cannot be evenly divided by any other number except for 1 and itself. For example, 2, 3, 5, 7, 11, and 13 are prime numbers because theycannot be divided by any other positive integer except for 1 and their own value."
   ]
  },
  {
   "cell_type": "code",
   "execution_count": 12,
   "metadata": {},
   "outputs": [
    {
     "name": "stdout",
     "output_type": "stream",
     "text": [
      "23 is a prime\n"
     ]
    }
   ],
   "source": [
    "n = int(input('Enter an number : '))\n",
    "\n",
    "flag = False\n",
    "\n",
    "\n",
    "if n == 1:\n",
    "    print(f\"{n} is not prime: {n}\")\n",
    "elif n >1:\n",
    "    for i in range(2, n):\n",
    "        if n%i == 0:\n",
    "            flag = True\n",
    "            break\n",
    "\n",
    "if flag:\n",
    "    print(f\"{n} is not a prime\")\n",
    "else:\n",
    "     print(f\"{n} is a prime\")\n"
   ]
  },
  {
   "cell_type": "markdown",
   "metadata": {},
   "source": [
    "### Program 15 Write a Python Program to Print all Prime Numbers in an Interval of 1-10."
   ]
  },
  {
   "cell_type": "code",
   "execution_count": 19,
   "metadata": {},
   "outputs": [
    {
     "name": "stdout",
     "output_type": "stream",
     "text": [
      "[2, 3, 5, 7]\n",
      "4\n"
     ]
    }
   ],
   "source": [
    "num = int(input('Enter maximum limit for get the prime number:: '))\n",
    "\n",
    "getPrime = lambda limit: [n for n in range(2, limit+1) if all(n%i !=0 for i in range(2, int(n**0.5)+1))]\n",
    "\n",
    "primeNum = getPrime(num)\n",
    "print(primeNum)\n",
    "print(len(primeNum))"
   ]
  },
  {
   "cell_type": "markdown",
   "metadata": {},
   "source": [
    "### Program 16 Write a Python Program to Find the Factorial of a Number."
   ]
  },
  {
   "cell_type": "code",
   "execution_count": null,
   "metadata": {},
   "outputs": [
    {
     "name": "stdout",
     "output_type": "stream",
     "text": [
      "1\n",
      "2\n",
      "6\n",
      "24\n",
      "The factorial of 4 is 24\n"
     ]
    }
   ],
   "source": [
    "num = int(input('Enter a number:: '))\n",
    "\n",
    "def getFactorial(n):\n",
    "    print(f'The number is : {n}')\n",
    "    fact = 1\n",
    "    if n < 0:\n",
    "        print('Factorial does not exit for negitive number ! :(')\n",
    "    else:\n",
    "        for i in range(1, n+1):\n",
    "            fact = fact*i\n",
    "            print(f'{fact}')\n",
    "        print(f'The factorial of {n} is {fact}')\n",
    "\n",
    "\n",
    "getFactorial(num)    "
   ]
  },
  {
   "cell_type": "markdown",
   "metadata": {},
   "source": [
    "### Program 17 Write a Python Program to Display the multiplication Table."
   ]
  },
  {
   "cell_type": "code",
   "execution_count": 4,
   "metadata": {},
   "outputs": [
    {
     "name": "stdout",
     "output_type": "stream",
     "text": [
      "The Number table of :: 11\n",
      "11 x 1 = 11\n",
      "11 x 2 = 22\n",
      "11 x 3 = 33\n",
      "11 x 4 = 44\n",
      "11 x 5 = 55\n",
      "11 x 6 = 66\n",
      "11 x 7 = 77\n",
      "11 x 8 = 88\n",
      "11 x 9 = 99\n",
      "11 x 10 = 110\n"
     ]
    }
   ],
   "source": [
    "num = int(input('Enter a multipli number:: '))\n",
    "def multiplectionTable(n):\n",
    "    print(f'The Number table of :: {n}')\n",
    "    for i in range(1, 11):\n",
    "        print (f'{n} x {i} = {n*i}')\n",
    "    \n",
    "multiplectionTable(num)"
   ]
  },
  {
   "cell_type": "markdown",
   "metadata": {},
   "source": [
    "### Program 18 Write a Python Program to Print the Fibonacci sequence.\n",
    "#### Fibonacci sequence:\n",
    "##### The Fibonacci sequence is a series of numbers where each number is the sum of the twopreceding ones, typically starting with 0 and 1. So, the sequence begins with 0 and 1, andthe next number is obtained by adding the previous two numbers. This pattern continuesindefinitely, generating a sequence that looks like this:\n",
    "#### 0, 1, 1, 2, 3, 5, 8, 13, 21, 34, 55, 89, 144, and so on.\n",
    "#### Mathematically, the Fibonacci sequence can be defined using the following recurrencerelation:\n",
    "##### 𝐹(0) = 0 𝐹(1) = 1 𝐹(𝑛) = 𝐹(𝑛 − 1) + 𝐹(𝑛 − 2)𝑓𝑜𝑟𝑛 > 1"
   ]
  },
  {
   "cell_type": "code",
   "execution_count": 1,
   "metadata": {},
   "outputs": [
    {
     "name": "stdout",
     "output_type": "stream",
     "text": [
      "Fibonacci Sequece is :: \n",
      "0\n",
      "1\n",
      "1\n",
      "2\n",
      "3\n"
     ]
    }
   ],
   "source": [
    "nterms = int(input('How many terms?'))\n",
    "\n",
    "# first two terms\n",
    "n1, n2 = 0,1\n",
    "count = 0\n",
    "\n",
    "#Check if the number of terms is valid\n",
    "if nterms <=0:\n",
    "    print('Please enter positive intiger number!')\n",
    "\n",
    "#if there is only one term, return n1\n",
    "elif nterms == 1:\n",
    "    print(f'Fibonacci sequence up to {nterms} :')\n",
    "    print(n1)\n",
    "\n",
    "#Generate fibonacci sequence\n",
    "else:\n",
    "    print('Fibonacci Sequece is :: ')\n",
    "    while count < nterms:\n",
    "        print(n1)\n",
    "        nth = n1 + n2\n",
    "        #update value\n",
    "        n1 = n2\n",
    "        n2 =nth\n",
    "        count +=1\n",
    "        "
   ]
  },
  {
   "cell_type": "markdown",
   "metadata": {},
   "source": [
    "## Program 19\n",
    "##### Write a Python Program to Check Armstrong Number?\n",
    "##### Armstrong Number:\n",
    "##### It is a number that is equal to the sum of its own digits, each raised to a power equal to thenumber of digits in the number.\n",
    "##### For example, let's consider the number 153:\n",
    "##### It has three digits (1, 5, and 3).\n",
    "##### If we calculate 1^3 + 5^3 + 3^3 we get  1+125+27 which is equal to 153\n",
    "##### So, 153 is an Armstrong number because it equals the sum of its digits raised to the powerof the number of digits in the number.\n",
    "##### Another example is 9474:\n",
    "##### It has four digits (9, 4, 7, and 4).\n",
    "##### If we calculate 9^4 + 4^4 + 7^4 + 4^4 we get 6561 + 256 + 2401 _256 , which is alsoequal to 9474.\n",
    "##### Therefore, 9474 is an Armstrong number as well."
   ]
  },
  {
   "cell_type": "code",
   "execution_count": 8,
   "metadata": {},
   "outputs": [
    {
     "name": "stdout",
     "output_type": "stream",
     "text": [
      "153 is an Armstrong number.\n"
     ]
    }
   ],
   "source": [
    "num = int(input('Enter a number'))\n",
    "#calculate the number of digit in the number \n",
    "numStr = str(num)\n",
    "numDigits = len(numStr)\n",
    "\n",
    "# Initialize varible\n",
    "sumOfPower = 0\n",
    "tempNum = num\n",
    "#singleDigit = []\n",
    "# Calculate the sum of the digits raised to the power of number\n",
    "\n",
    "while tempNum >0:\n",
    "    #print(f'Temp_num = {tempNum}')\n",
    "    digit = tempNum % 10\n",
    "    #singleDigit.append(digit)\n",
    "    sumOfPower += digit ** numDigits\n",
    "    #print(f'Sum of Digit :: {sumOfPower}')\n",
    "    tempNum //= 10\n",
    "    #print(f'Temp Number :: {tempNum}')\n",
    "#print(f'Digit :: {singleDigit}')\n",
    " \n",
    "if sumOfPower == num:\n",
    "    print(f'{num} is an Armstrong number.')\n",
    "else:\n",
    "    print(f'{num} is not an Armstrong number.')\n",
    "    \n",
    "    \n",
    "\n"
   ]
  }
 ],
 "metadata": {
  "kernelspec": {
   "display_name": "base",
   "language": "python",
   "name": "python3"
  },
  "language_info": {
   "codemirror_mode": {
    "name": "ipython",
    "version": 3
   },
   "file_extension": ".py",
   "mimetype": "text/x-python",
   "name": "python",
   "nbconvert_exporter": "python",
   "pygments_lexer": "ipython3",
   "version": "3.12.7"
  }
 },
 "nbformat": 4,
 "nbformat_minor": 2
}
